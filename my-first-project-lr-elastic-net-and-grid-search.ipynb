{
 "cells": [
  {
   "cell_type": "markdown",
   "id": "fc189ff6",
   "metadata": {
    "execution": {
     "iopub.execute_input": "2023-07-31T17:32:13.830077Z",
     "iopub.status.busy": "2023-07-31T17:32:13.829413Z",
     "iopub.status.idle": "2023-07-31T17:32:13.864677Z",
     "shell.execute_reply": "2023-07-31T17:32:13.863535Z",
     "shell.execute_reply.started": "2023-07-31T17:32:13.830039Z"
    },
    "papermill": {
     "duration": 0.032112,
     "end_time": "2023-08-13T16:37:24.463253",
     "exception": false,
     "start_time": "2023-08-13T16:37:24.431141",
     "status": "completed"
    },
    "tags": []
   },
   "source": [
    "<h1 style=\"font-family:verdana;\"> <center>📚🚥 MY FIRST PROJECT ON FEATURE ENGINEERING &amp; LINEAR REGRESSION 🚥📚</center> </h1>\n",
    "<h3><center style=\"color:#159364; font-family:cursive;\">A Beginner's Approach</center></h3>\n",
    "\n",
    "***\n",
    "\n",
    "\n",
    "![picture.png](https://cdn.pixabay.com/photo/2017/09/27/16/15/sign-2792576_1280.png)\n",
    "<cite>Image from www.pixabay.com by ArtsyBee</cite>"
   ]
  },
  {
   "cell_type": "markdown",
   "id": "cf506319",
   "metadata": {
    "papermill": {
     "duration": 0.030351,
     "end_time": "2023-08-13T16:37:24.525391",
     "exception": false,
     "start_time": "2023-08-13T16:37:24.495040",
     "status": "completed"
    },
    "tags": []
   },
   "source": [
    "<p style=\"font-size:18px; font-family:verdana; line-height: 1.7em\">Being a pure novice in the field of data science. Its one of the early attempts to explore the data and perform data cleaning or data preparation jobs before finally moving onto building Machine Learning Models to predict the sales price of property.</p>"
   ]
  },
  {
   "cell_type": "code",
   "execution_count": 1,
   "id": "bdcf39e2",
   "metadata": {
    "execution": {
     "iopub.execute_input": "2023-08-13T16:37:24.590529Z",
     "iopub.status.busy": "2023-08-13T16:37:24.589740Z",
     "iopub.status.idle": "2023-08-13T16:37:26.193564Z",
     "shell.execute_reply": "2023-08-13T16:37:26.192181Z"
    },
    "papermill": {
     "duration": 1.640227,
     "end_time": "2023-08-13T16:37:26.196989",
     "exception": false,
     "start_time": "2023-08-13T16:37:24.556762",
     "status": "completed"
    },
    "tags": []
   },
   "outputs": [
    {
     "name": "stderr",
     "output_type": "stream",
     "text": [
      "/opt/conda/lib/python3.10/site-packages/scipy/__init__.py:146: UserWarning: A NumPy version >=1.16.5 and <1.23.0 is required for this version of SciPy (detected version 1.23.5\n",
      "  warnings.warn(f\"A NumPy version >={np_minversion} and <{np_maxversion}\"\n"
     ]
    }
   ],
   "source": [
    "import numpy as np # linear algebra\n",
    "import pandas as pd # data processing, CSV file\n",
    "import seaborn as sns\n",
    "import matplotlib.pyplot as plt"
   ]
  },
  {
   "cell_type": "markdown",
   "id": "07724bff",
   "metadata": {
    "papermill": {
     "duration": 0.030517,
     "end_time": "2023-08-13T16:37:26.259051",
     "exception": false,
     "start_time": "2023-08-13T16:37:26.228534",
     "status": "completed"
    },
    "tags": []
   },
   "source": [
    "<p style=\"font-size:18px; font-family:verdana; line-height: 1.7em\">We have got 4 data sets.</p>\n",
    "<ol style=\"font-size:18px; font-family:verdana; line-height: 1.7em\">\n",
    "<li>AmesHousing Data - Original Ames Housing Data Set prepared by Dean De Cock, and described in the paper Ames, Iowa: Alternative to the Boston Housing Data as an End of Semester Regression Project.\n",
    "<li>Train Data - It may used to train the data\n",
    "<li>Test Data - It may be used to test the data with outputs from the model\n",
    "<li>Target Data - We finally use the model to predict the final target data\n",
    "</ol>\n",
    "\n",
    "<div class=\"alert alert-block alert-info\" style=\"font-size:14px; font-family:verdana; line-height: 1.7em;\">\n",
    "    📌 &nbsp; Just to tell, I am just a beginner but what Kaggle taught me, I just want to return you back. If you find this notebook useful, please upvote it so that it can reach a bigger audience. \n",
    "</div>\n",
    " <a style=\"font-size:18px; font-family:verdana; line-height: 1.7em\" href=\"https://www.kaggle.com/code/shubhamksingh/create-beautiful-notebooks-formatting-tutorial\"> And special thanks to @ShubhamSingh for teaching me How to create a Beautiful Notebook.</a>\n",
    "\n",
    "<p style=\"font-size:18px; font-family:verdana; line-height: 1.7em\">Actually the original data (pt no. 1) set has been divided in 3 parts. But we will work with the original data set only. </p>"
   ]
  },
  {
   "cell_type": "code",
   "execution_count": 2,
   "id": "1534e0f2",
   "metadata": {
    "execution": {
     "iopub.execute_input": "2023-08-13T16:37:26.322483Z",
     "iopub.status.busy": "2023-08-13T16:37:26.322076Z",
     "iopub.status.idle": "2023-08-13T16:37:26.409608Z",
     "shell.execute_reply": "2023-08-13T16:37:26.408296Z"
    },
    "papermill": {
     "duration": 0.12302,
     "end_time": "2023-08-13T16:37:26.413131",
     "exception": false,
     "start_time": "2023-08-13T16:37:26.290111",
     "status": "completed"
    },
    "tags": []
   },
   "outputs": [],
   "source": [
    "df = pd.read_csv(\"/kaggle/input/housing/AmesHousing.csv\")\n",
    "# train = pd.read_csv(\"/kaggle/input/housing/train.csv\")\n",
    "# test = pd.read_csv(\"/kaggle/input/housing/test.csv\")\n",
    "# target = pd.read_csv(\"/kaggle/input/housing/target.csv\")"
   ]
  },
  {
   "cell_type": "markdown",
   "id": "54f78997",
   "metadata": {
    "papermill": {
     "duration": 0.03013,
     "end_time": "2023-08-13T16:37:26.474667",
     "exception": false,
     "start_time": "2023-08-13T16:37:26.444537",
     "status": "completed"
    },
    "tags": []
   },
   "source": [
    "# <center style=\"color:crimson; font-family:verdana; line-height: 1.7em\">Data Exploration<a id=\"data_exploration\"></a></center>\n",
    "\n",
    "<p style=\"font-size:18px; font-family:verdana; line-height: 1.7em\">Let's explore the data Set. It seems to be huge one to begin with, specially with my limited knowledge. But I hope me with my machine can definitely handle it.<br>Let's be POSITIVE</p>"
   ]
  },
  {
   "cell_type": "code",
   "execution_count": 3,
   "id": "24b210ab",
   "metadata": {
    "execution": {
     "iopub.execute_input": "2023-08-13T16:37:26.538038Z",
     "iopub.status.busy": "2023-08-13T16:37:26.537192Z",
     "iopub.status.idle": "2023-08-13T16:37:26.545626Z",
     "shell.execute_reply": "2023-08-13T16:37:26.544430Z"
    },
    "papermill": {
     "duration": 0.042953,
     "end_time": "2023-08-13T16:37:26.548013",
     "exception": false,
     "start_time": "2023-08-13T16:37:26.505060",
     "status": "completed"
    },
    "tags": []
   },
   "outputs": [
    {
     "data": {
      "text/plain": [
       "(2930, 82)"
      ]
     },
     "execution_count": 3,
     "metadata": {},
     "output_type": "execute_result"
    }
   ],
   "source": [
    "# Lets explore the shape of the dataset\n",
    "df.shape"
   ]
  },
  {
   "cell_type": "code",
   "execution_count": 4,
   "id": "544b66cb",
   "metadata": {
    "execution": {
     "iopub.execute_input": "2023-08-13T16:37:26.611659Z",
     "iopub.status.busy": "2023-08-13T16:37:26.610819Z",
     "iopub.status.idle": "2023-08-13T16:37:26.652509Z",
     "shell.execute_reply": "2023-08-13T16:37:26.650247Z"
    },
    "papermill": {
     "duration": 0.077191,
     "end_time": "2023-08-13T16:37:26.655804",
     "exception": false,
     "start_time": "2023-08-13T16:37:26.578613",
     "status": "completed"
    },
    "tags": []
   },
   "outputs": [
    {
     "data": {
      "text/html": [
       "<div>\n",
       "<style scoped>\n",
       "    .dataframe tbody tr th:only-of-type {\n",
       "        vertical-align: middle;\n",
       "    }\n",
       "\n",
       "    .dataframe tbody tr th {\n",
       "        vertical-align: top;\n",
       "    }\n",
       "\n",
       "    .dataframe thead th {\n",
       "        text-align: right;\n",
       "    }\n",
       "</style>\n",
       "<table border=\"1\" class=\"dataframe\">\n",
       "  <thead>\n",
       "    <tr style=\"text-align: right;\">\n",
       "      <th></th>\n",
       "      <th>Order</th>\n",
       "      <th>PID</th>\n",
       "      <th>MS SubClass</th>\n",
       "      <th>MS Zoning</th>\n",
       "      <th>Lot Frontage</th>\n",
       "      <th>Lot Area</th>\n",
       "      <th>Street</th>\n",
       "      <th>Alley</th>\n",
       "      <th>Lot Shape</th>\n",
       "      <th>Land Contour</th>\n",
       "      <th>...</th>\n",
       "      <th>Pool Area</th>\n",
       "      <th>Pool QC</th>\n",
       "      <th>Fence</th>\n",
       "      <th>Misc Feature</th>\n",
       "      <th>Misc Val</th>\n",
       "      <th>Mo Sold</th>\n",
       "      <th>Yr Sold</th>\n",
       "      <th>Sale Type</th>\n",
       "      <th>Sale Condition</th>\n",
       "      <th>SalePrice</th>\n",
       "    </tr>\n",
       "  </thead>\n",
       "  <tbody>\n",
       "    <tr>\n",
       "      <th>0</th>\n",
       "      <td>1</td>\n",
       "      <td>526301100</td>\n",
       "      <td>20</td>\n",
       "      <td>RL</td>\n",
       "      <td>141.0</td>\n",
       "      <td>31770</td>\n",
       "      <td>Pave</td>\n",
       "      <td>NaN</td>\n",
       "      <td>IR1</td>\n",
       "      <td>Lvl</td>\n",
       "      <td>...</td>\n",
       "      <td>0</td>\n",
       "      <td>NaN</td>\n",
       "      <td>NaN</td>\n",
       "      <td>NaN</td>\n",
       "      <td>0</td>\n",
       "      <td>5</td>\n",
       "      <td>2010</td>\n",
       "      <td>WD</td>\n",
       "      <td>Normal</td>\n",
       "      <td>215000</td>\n",
       "    </tr>\n",
       "    <tr>\n",
       "      <th>1</th>\n",
       "      <td>2</td>\n",
       "      <td>526350040</td>\n",
       "      <td>20</td>\n",
       "      <td>RH</td>\n",
       "      <td>80.0</td>\n",
       "      <td>11622</td>\n",
       "      <td>Pave</td>\n",
       "      <td>NaN</td>\n",
       "      <td>Reg</td>\n",
       "      <td>Lvl</td>\n",
       "      <td>...</td>\n",
       "      <td>0</td>\n",
       "      <td>NaN</td>\n",
       "      <td>MnPrv</td>\n",
       "      <td>NaN</td>\n",
       "      <td>0</td>\n",
       "      <td>6</td>\n",
       "      <td>2010</td>\n",
       "      <td>WD</td>\n",
       "      <td>Normal</td>\n",
       "      <td>105000</td>\n",
       "    </tr>\n",
       "    <tr>\n",
       "      <th>2</th>\n",
       "      <td>3</td>\n",
       "      <td>526351010</td>\n",
       "      <td>20</td>\n",
       "      <td>RL</td>\n",
       "      <td>81.0</td>\n",
       "      <td>14267</td>\n",
       "      <td>Pave</td>\n",
       "      <td>NaN</td>\n",
       "      <td>IR1</td>\n",
       "      <td>Lvl</td>\n",
       "      <td>...</td>\n",
       "      <td>0</td>\n",
       "      <td>NaN</td>\n",
       "      <td>NaN</td>\n",
       "      <td>Gar2</td>\n",
       "      <td>12500</td>\n",
       "      <td>6</td>\n",
       "      <td>2010</td>\n",
       "      <td>WD</td>\n",
       "      <td>Normal</td>\n",
       "      <td>172000</td>\n",
       "    </tr>\n",
       "    <tr>\n",
       "      <th>3</th>\n",
       "      <td>4</td>\n",
       "      <td>526353030</td>\n",
       "      <td>20</td>\n",
       "      <td>RL</td>\n",
       "      <td>93.0</td>\n",
       "      <td>11160</td>\n",
       "      <td>Pave</td>\n",
       "      <td>NaN</td>\n",
       "      <td>Reg</td>\n",
       "      <td>Lvl</td>\n",
       "      <td>...</td>\n",
       "      <td>0</td>\n",
       "      <td>NaN</td>\n",
       "      <td>NaN</td>\n",
       "      <td>NaN</td>\n",
       "      <td>0</td>\n",
       "      <td>4</td>\n",
       "      <td>2010</td>\n",
       "      <td>WD</td>\n",
       "      <td>Normal</td>\n",
       "      <td>244000</td>\n",
       "    </tr>\n",
       "    <tr>\n",
       "      <th>4</th>\n",
       "      <td>5</td>\n",
       "      <td>527105010</td>\n",
       "      <td>60</td>\n",
       "      <td>RL</td>\n",
       "      <td>74.0</td>\n",
       "      <td>13830</td>\n",
       "      <td>Pave</td>\n",
       "      <td>NaN</td>\n",
       "      <td>IR1</td>\n",
       "      <td>Lvl</td>\n",
       "      <td>...</td>\n",
       "      <td>0</td>\n",
       "      <td>NaN</td>\n",
       "      <td>MnPrv</td>\n",
       "      <td>NaN</td>\n",
       "      <td>0</td>\n",
       "      <td>3</td>\n",
       "      <td>2010</td>\n",
       "      <td>WD</td>\n",
       "      <td>Normal</td>\n",
       "      <td>189900</td>\n",
       "    </tr>\n",
       "  </tbody>\n",
       "</table>\n",
       "<p>5 rows × 82 columns</p>\n",
       "</div>"
      ],
      "text/plain": [
       "   Order        PID  MS SubClass MS Zoning  Lot Frontage  Lot Area Street  \\\n",
       "0      1  526301100           20        RL         141.0     31770   Pave   \n",
       "1      2  526350040           20        RH          80.0     11622   Pave   \n",
       "2      3  526351010           20        RL          81.0     14267   Pave   \n",
       "3      4  526353030           20        RL          93.0     11160   Pave   \n",
       "4      5  527105010           60        RL          74.0     13830   Pave   \n",
       "\n",
       "  Alley Lot Shape Land Contour  ... Pool Area Pool QC  Fence Misc Feature  \\\n",
       "0   NaN       IR1          Lvl  ...         0     NaN    NaN          NaN   \n",
       "1   NaN       Reg          Lvl  ...         0     NaN  MnPrv          NaN   \n",
       "2   NaN       IR1          Lvl  ...         0     NaN    NaN         Gar2   \n",
       "3   NaN       Reg          Lvl  ...         0     NaN    NaN          NaN   \n",
       "4   NaN       IR1          Lvl  ...         0     NaN  MnPrv          NaN   \n",
       "\n",
       "  Misc Val Mo Sold Yr Sold Sale Type  Sale Condition  SalePrice  \n",
       "0        0       5    2010       WD           Normal     215000  \n",
       "1        0       6    2010       WD           Normal     105000  \n",
       "2    12500       6    2010       WD           Normal     172000  \n",
       "3        0       4    2010       WD           Normal     244000  \n",
       "4        0       3    2010       WD           Normal     189900  \n",
       "\n",
       "[5 rows x 82 columns]"
      ]
     },
     "execution_count": 4,
     "metadata": {},
     "output_type": "execute_result"
    }
   ],
   "source": [
    "# Lets have a glimpse of the dataset\n",
    "df.head()"
   ]
  },
  {
   "cell_type": "markdown",
   "id": "dfba4bfc",
   "metadata": {
    "papermill": {
     "duration": 0.032772,
     "end_time": "2023-08-13T16:37:26.720735",
     "exception": false,
     "start_time": "2023-08-13T16:37:26.687963",
     "status": "completed"
    },
    "tags": []
   },
   "source": [
    "<h3 style=\"color:crimson; font-family:verdana; line-height: 1.7em\">We understand we ultimately have to predict the sale price.</h3>\n",
    "\n",
    "<p style=\"font-size:18px; font-family:verdana; line-height: 1.7em\">But where do we start. Lets make some plots and find some basic correlations with sales price.<br>Actually trying to get a hang of things!!!</p>"
   ]
  },
  {
   "cell_type": "code",
   "execution_count": 5,
   "id": "e805507f",
   "metadata": {
    "execution": {
     "iopub.execute_input": "2023-08-13T16:37:26.786307Z",
     "iopub.status.busy": "2023-08-13T16:37:26.785187Z",
     "iopub.status.idle": "2023-08-13T16:37:27.055632Z",
     "shell.execute_reply": "2023-08-13T16:37:27.054540Z"
    },
    "papermill": {
     "duration": 0.306158,
     "end_time": "2023-08-13T16:37:27.058354",
     "exception": false,
     "start_time": "2023-08-13T16:37:26.752196",
     "status": "completed"
    },
    "tags": []
   },
   "outputs": [
    {
     "data": {
      "text/plain": [
       "<Axes: xlabel='SalePrice'>"
      ]
     },
     "execution_count": 5,
     "metadata": {},
     "output_type": "execute_result"
    },
    {
     "data": {
      "image/png": "[encoded data removed]",
      "text/plain": [
       "<Figure size 640x480 with 1 Axes>"
      ]
     },
     "metadata": {},
     "output_type": "display_data"
    }
   ],
   "source": [
    "# Lets create a distplot to just overview if the dataset has any outliers\n",
    "sns.boxplot(data=df,x=\"SalePrice\")"
   ]
  },
  {
   "cell_type": "code",
   "execution_count": 6,
   "id": "136477c1",
   "metadata": {
    "execution": {
     "iopub.execute_input": "2023-08-13T16:37:27.124568Z",
     "iopub.status.busy": "2023-08-13T16:37:27.123469Z",
     "iopub.status.idle": "2023-08-13T16:37:27.632060Z",
     "shell.execute_reply": "2023-08-13T16:37:27.630709Z"
    },
    "papermill": {
     "duration": 0.544907,
     "end_time": "2023-08-13T16:37:27.634981",
     "exception": false,
     "start_time": "2023-08-13T16:37:27.090074",
     "status": "completed"
    },
    "tags": []
   },
   "outputs": [
    {
     "name": "stderr",
     "output_type": "stream",
     "text": [
      "/opt/conda/lib/python3.10/site-packages/seaborn/axisgrid.py:118: UserWarning: The figure layout has changed to tight\n",
      "  self._figure.tight_layout(*args, **kwargs)\n"
     ]
    },
    {
     "data": {
      "image/png": "[encoded data removed]",
      "text/plain": [
       "<Figure size 500x500 with 1 Axes>"
      ]
     },
     "metadata": {},
     "output_type": "display_data"
    }
   ],
   "source": [
    "# Lets make a distribution plot of Sales Price\n",
    "sns.displot(df[\"SalePrice\"],bins=20,kde=True);"
   ]
  },
  {
   "cell_type": "code",
   "execution_count": 7,
   "id": "6b6e76e9",
   "metadata": {
    "execution": {
     "iopub.execute_input": "2023-08-13T16:37:27.704962Z",
     "iopub.status.busy": "2023-08-13T16:37:27.704542Z",
     "iopub.status.idle": "2023-08-13T16:37:28.421196Z",
     "shell.execute_reply": "2023-08-13T16:37:28.419887Z"
    },
    "papermill": {
     "duration": 0.75369,
     "end_time": "2023-08-13T16:37:28.423942",
     "exception": false,
     "start_time": "2023-08-13T16:37:27.670252",
     "status": "completed"
    },
    "tags": []
   },
   "outputs": [
    {
     "name": "stderr",
     "output_type": "stream",
     "text": [
      "/tmp/ipykernel_19/647229299.py:2: FutureWarning: The default value of numeric_only in DataFrame.corr is deprecated. In a future version, it will default to False. Select only valid columns or specify the value of numeric_only to silence this warning.\n",
      "  sns.heatmap(df.corr())\n"
     ]
    },
    {
     "data": {
      "text/plain": [
       "<Axes: >"
      ]
     },
     "execution_count": 7,
     "metadata": {},
     "output_type": "execute_result"
    },
    {
     "data": {
      "image/png": "[encoded data removed]",
      "text/plain": [
       "<Figure size 640x480 with 2 Axes>"
      ]
     },
     "metadata": {},
     "output_type": "display_data"
    }
   ],
   "source": [
    "# Lets make a heatmap for correlation with Sales Price\n",
    "sns.heatmap(df.corr())"
   ]
  },
  {
   "cell_type": "code",
   "execution_count": 8,
   "id": "22907ac3",
   "metadata": {
    "execution": {
     "iopub.execute_input": "2023-08-13T16:37:28.496905Z",
     "iopub.status.busy": "2023-08-13T16:37:28.495401Z",
     "iopub.status.idle": "2023-08-13T16:37:28.521255Z",
     "shell.execute_reply": "2023-08-13T16:37:28.520115Z"
    },
    "papermill": {
     "duration": 0.064242,
     "end_time": "2023-08-13T16:37:28.523718",
     "exception": false,
     "start_time": "2023-08-13T16:37:28.459476",
     "status": "completed"
    },
    "tags": []
   },
   "outputs": [
    {
     "name": "stderr",
     "output_type": "stream",
     "text": [
      "/tmp/ipykernel_19/1247391418.py:3: FutureWarning: The default value of numeric_only in DataFrame.corr is deprecated. In a future version, it will default to False. Select only valid columns or specify the value of numeric_only to silence this warning.\n",
      "  df.corr()[\"SalePrice\"].sort_values()\n"
     ]
    },
    {
     "data": {
      "text/plain": [
       "PID               -0.246521\n",
       "Enclosed Porch    -0.128787\n",
       "Kitchen AbvGr     -0.119814\n",
       "Overall Cond      -0.101697\n",
       "MS SubClass       -0.085092\n",
       "Low Qual Fin SF   -0.037660\n",
       "Bsmt Half Bath    -0.035835\n",
       "Order             -0.031408\n",
       "Yr Sold           -0.030569\n",
       "Misc Val          -0.015691\n",
       "BsmtFin SF 2       0.005891\n",
       "3Ssn Porch         0.032225\n",
       "Mo Sold            0.035259\n",
       "Pool Area          0.068403\n",
       "Screen Porch       0.112151\n",
       "Bedroom AbvGr      0.143913\n",
       "Bsmt Unf SF        0.182855\n",
       "Lot Area           0.266549\n",
       "2nd Flr SF         0.269373\n",
       "Bsmt Full Bath     0.276050\n",
       "Half Bath          0.285056\n",
       "Open Porch SF      0.312951\n",
       "Wood Deck SF       0.327143\n",
       "Lot Frontage       0.357318\n",
       "BsmtFin SF 1       0.432914\n",
       "Fireplaces         0.474558\n",
       "TotRms AbvGrd      0.495474\n",
       "Mas Vnr Area       0.508285\n",
       "Garage Yr Blt      0.526965\n",
       "Year Remod/Add     0.532974\n",
       "Full Bath          0.545604\n",
       "Year Built         0.558426\n",
       "1st Flr SF         0.621676\n",
       "Total Bsmt SF      0.632280\n",
       "Garage Area        0.640401\n",
       "Garage Cars        0.647877\n",
       "Gr Liv Area        0.706780\n",
       "Overall Qual       0.799262\n",
       "SalePrice          1.000000\n",
       "Name: SalePrice, dtype: float64"
      ]
     },
     "execution_count": 8,
     "metadata": {},
     "output_type": "execute_result"
    }
   ],
   "source": [
    "# The above headmap is too clumsy with so many parameters\n",
    "# Lets try something simple\n",
    "df.corr()[\"SalePrice\"].sort_values()"
   ]
  },
  {
   "cell_type": "markdown",
   "id": "e3849359",
   "metadata": {
    "papermill": {
     "duration": 0.036813,
     "end_time": "2023-08-13T16:37:28.595370",
     "exception": false,
     "start_time": "2023-08-13T16:37:28.558557",
     "status": "completed"
    },
    "tags": []
   },
   "source": [
    "# <center id=\"data-cleanup\" style=\"color:crimson; font-family:verdana; line-height: 1.7em\">DATA CLEANUP</center>\n",
    "\n",
    "<p style=\"font-size:18px; font-family:verdana; line-height: 1.7em\">We will break the basic Data cleanup jobs in 3 parts.</p>\n",
    "<ol style=\"font-size:18px; font-family:verdana; line-height: 1.7em\">\n",
    "<li>Outliners - We will try to find out the outliners and act on them so that it does not affect our model performance.\n",
    "<li>Missing Data\n",
    "<li>Transforming Data\n",
    "</ol>"
   ]
  },
  {
   "cell_type": "markdown",
   "id": "d4926557",
   "metadata": {
    "papermill": {
     "duration": 0.038282,
     "end_time": "2023-08-13T16:37:28.669238",
     "exception": false,
     "start_time": "2023-08-13T16:37:28.630956",
     "status": "completed"
    },
    "tags": []
   },
   "source": [
    "# <center style=\"color:crimson; font-family:verdana; line-height: 1.7em\">DATA CLEANUP - OUTLINERS</center>\n",
    "\n",
    "<p style=\"font-size:18px; font-family:verdana; line-height: 1.7em\">Lets start with Outliners.<br><b>We have already seen above that Overall Quality has highest Correlation</b><br>So we have Lets plot a simple scatter plot.</p>"
   ]
  },
  {
   "cell_type": "code",
   "execution_count": 9,
   "id": "70dd1e82",
   "metadata": {
    "execution": {
     "iopub.execute_input": "2023-08-13T16:37:28.742416Z",
     "iopub.status.busy": "2023-08-13T16:37:28.741957Z",
     "iopub.status.idle": "2023-08-13T16:37:29.082327Z",
     "shell.execute_reply": "2023-08-13T16:37:29.081391Z"
    },
    "papermill": {
     "duration": 0.379839,
     "end_time": "2023-08-13T16:37:29.085191",
     "exception": false,
     "start_time": "2023-08-13T16:37:28.705352",
     "status": "completed"
    },
    "tags": []
   },
   "outputs": [
    {
     "data": {
      "text/plain": [
       "<Axes: xlabel='Overall Qual', ylabel='SalePrice'>"
      ]
     },
     "execution_count": 9,
     "metadata": {},
     "output_type": "execute_result"
    },
    {
     "data": {
      "image/png": "[encoded data removed]",
      "text/plain": [
       "<Figure size 640x480 with 1 Axes>"
      ]
     },
     "metadata": {},
     "output_type": "display_data"
    }
   ],
   "source": [
    "# Scatter plot with Overall Quality and Sales Price\n",
    "sns.scatterplot(x='Overall Qual',y='SalePrice',data=df)"
   ]
  },
  {
   "cell_type": "markdown",
   "id": "437d5044",
   "metadata": {
    "papermill": {
     "duration": 0.035714,
     "end_time": "2023-08-13T16:37:29.158295",
     "exception": false,
     "start_time": "2023-08-13T16:37:29.122581",
     "status": "completed"
    },
    "tags": []
   },
   "source": [
    "<h3 style=\"color:crimson; font-family:verdana; line-height: 1.7em\">Observation :</h3> \n",
    "\n",
    "<p style=\"font-size:18px; font-family:verdana; line-height: 1.7em\">Overall Quality is between on 1 and 10. And we can see the outliers.<br>\n",
    "We can see some points with very low Sales Price but with overall quality of 09 and 10. (3 points)<br>\n",
    "Lets try the next highest correlation feature i.e. Gr Liv Area.</p>"
   ]
  },
  {
   "cell_type": "code",
   "execution_count": 10,
   "id": "b91d7720",
   "metadata": {
    "execution": {
     "iopub.execute_input": "2023-08-13T16:37:29.233285Z",
     "iopub.status.busy": "2023-08-13T16:37:29.232852Z",
     "iopub.status.idle": "2023-08-13T16:37:29.578497Z",
     "shell.execute_reply": "2023-08-13T16:37:29.576927Z"
    },
    "papermill": {
     "duration": 0.386827,
     "end_time": "2023-08-13T16:37:29.581235",
     "exception": false,
     "start_time": "2023-08-13T16:37:29.194408",
     "status": "completed"
    },
    "tags": []
   },
   "outputs": [
    {
     "data": {
      "text/plain": [
       "<Axes: xlabel='Gr Liv Area', ylabel='SalePrice'>"
      ]
     },
     "execution_count": 10,
     "metadata": {},
     "output_type": "execute_result"
    },
    {
     "data": {
      "image/png": "[encoded data removed]",
      "text/plain": [
       "<Figure size 640x480 with 1 Axes>"
      ]
     },
     "metadata": {},
     "output_type": "display_data"
    }
   ],
   "source": [
    "# Scatter plot Living Area and Sales Price\n",
    "sns.scatterplot(data=df, x='Gr Liv Area',y='SalePrice')"
   ]
  },
  {
   "cell_type": "markdown",
   "id": "299a5dd8",
   "metadata": {
    "papermill": {
     "duration": 0.039817,
     "end_time": "2023-08-13T16:37:29.659347",
     "exception": false,
     "start_time": "2023-08-13T16:37:29.619530",
     "status": "completed"
    },
    "tags": []
   },
   "source": [
    "<h3 style=\"color:crimson; font-family:verdana; line-height: 1.7em\">Observation :</h3>  \n",
    "<p style=\"font-size:18px; font-family:verdana; line-height: 1.7em\">We again see 3 points with higher Gr Liv Area with less SalePrice. <br>\n",
    "Let's identify the same with Pandas.</p>"
   ]
  },
  {
   "cell_type": "code",
   "execution_count": 11,
   "id": "e27289e1",
   "metadata": {
    "execution": {
     "iopub.execute_input": "2023-08-13T16:37:29.738998Z",
     "iopub.status.busy": "2023-08-13T16:37:29.738315Z",
     "iopub.status.idle": "2023-08-13T16:37:29.764829Z",
     "shell.execute_reply": "2023-08-13T16:37:29.763634Z"
    },
    "papermill": {
     "duration": 0.068266,
     "end_time": "2023-08-13T16:37:29.767431",
     "exception": false,
     "start_time": "2023-08-13T16:37:29.699165",
     "status": "completed"
    },
    "tags": []
   },
   "outputs": [
    {
     "data": {
      "text/html": [
       "<div>\n",
       "<style scoped>\n",
       "    .dataframe tbody tr th:only-of-type {\n",
       "        vertical-align: middle;\n",
       "    }\n",
       "\n",
       "    .dataframe tbody tr th {\n",
       "        vertical-align: top;\n",
       "    }\n",
       "\n",
       "    .dataframe thead th {\n",
       "        text-align: right;\n",
       "    }\n",
       "</style>\n",
       "<table border=\"1\" class=\"dataframe\">\n",
       "  <thead>\n",
       "    <tr style=\"text-align: right;\">\n",
       "      <th></th>\n",
       "      <th>Order</th>\n",
       "      <th>PID</th>\n",
       "      <th>MS SubClass</th>\n",
       "      <th>MS Zoning</th>\n",
       "      <th>Lot Frontage</th>\n",
       "      <th>Lot Area</th>\n",
       "      <th>Street</th>\n",
       "      <th>Alley</th>\n",
       "      <th>Lot Shape</th>\n",
       "      <th>Land Contour</th>\n",
       "      <th>...</th>\n",
       "      <th>Pool Area</th>\n",
       "      <th>Pool QC</th>\n",
       "      <th>Fence</th>\n",
       "      <th>Misc Feature</th>\n",
       "      <th>Misc Val</th>\n",
       "      <th>Mo Sold</th>\n",
       "      <th>Yr Sold</th>\n",
       "      <th>Sale Type</th>\n",
       "      <th>Sale Condition</th>\n",
       "      <th>SalePrice</th>\n",
       "    </tr>\n",
       "  </thead>\n",
       "  <tbody>\n",
       "    <tr>\n",
       "      <th>1182</th>\n",
       "      <td>1183</td>\n",
       "      <td>533350090</td>\n",
       "      <td>60</td>\n",
       "      <td>RL</td>\n",
       "      <td>NaN</td>\n",
       "      <td>24572</td>\n",
       "      <td>Pave</td>\n",
       "      <td>NaN</td>\n",
       "      <td>IR1</td>\n",
       "      <td>Lvl</td>\n",
       "      <td>...</td>\n",
       "      <td>0</td>\n",
       "      <td>NaN</td>\n",
       "      <td>NaN</td>\n",
       "      <td>NaN</td>\n",
       "      <td>0</td>\n",
       "      <td>6</td>\n",
       "      <td>2008</td>\n",
       "      <td>WD</td>\n",
       "      <td>Family</td>\n",
       "      <td>150000</td>\n",
       "    </tr>\n",
       "    <tr>\n",
       "      <th>1498</th>\n",
       "      <td>1499</td>\n",
       "      <td>908154235</td>\n",
       "      <td>60</td>\n",
       "      <td>RL</td>\n",
       "      <td>313.0</td>\n",
       "      <td>63887</td>\n",
       "      <td>Pave</td>\n",
       "      <td>NaN</td>\n",
       "      <td>IR3</td>\n",
       "      <td>Bnk</td>\n",
       "      <td>...</td>\n",
       "      <td>480</td>\n",
       "      <td>Gd</td>\n",
       "      <td>NaN</td>\n",
       "      <td>NaN</td>\n",
       "      <td>0</td>\n",
       "      <td>1</td>\n",
       "      <td>2008</td>\n",
       "      <td>New</td>\n",
       "      <td>Partial</td>\n",
       "      <td>160000</td>\n",
       "    </tr>\n",
       "    <tr>\n",
       "      <th>2180</th>\n",
       "      <td>2181</td>\n",
       "      <td>908154195</td>\n",
       "      <td>20</td>\n",
       "      <td>RL</td>\n",
       "      <td>128.0</td>\n",
       "      <td>39290</td>\n",
       "      <td>Pave</td>\n",
       "      <td>NaN</td>\n",
       "      <td>IR1</td>\n",
       "      <td>Bnk</td>\n",
       "      <td>...</td>\n",
       "      <td>0</td>\n",
       "      <td>NaN</td>\n",
       "      <td>NaN</td>\n",
       "      <td>Elev</td>\n",
       "      <td>17000</td>\n",
       "      <td>10</td>\n",
       "      <td>2007</td>\n",
       "      <td>New</td>\n",
       "      <td>Partial</td>\n",
       "      <td>183850</td>\n",
       "    </tr>\n",
       "    <tr>\n",
       "      <th>2181</th>\n",
       "      <td>2182</td>\n",
       "      <td>908154205</td>\n",
       "      <td>60</td>\n",
       "      <td>RL</td>\n",
       "      <td>130.0</td>\n",
       "      <td>40094</td>\n",
       "      <td>Pave</td>\n",
       "      <td>NaN</td>\n",
       "      <td>IR1</td>\n",
       "      <td>Bnk</td>\n",
       "      <td>...</td>\n",
       "      <td>0</td>\n",
       "      <td>NaN</td>\n",
       "      <td>NaN</td>\n",
       "      <td>NaN</td>\n",
       "      <td>0</td>\n",
       "      <td>10</td>\n",
       "      <td>2007</td>\n",
       "      <td>New</td>\n",
       "      <td>Partial</td>\n",
       "      <td>184750</td>\n",
       "    </tr>\n",
       "  </tbody>\n",
       "</table>\n",
       "<p>4 rows × 82 columns</p>\n",
       "</div>"
      ],
      "text/plain": [
       "      Order        PID  MS SubClass MS Zoning  Lot Frontage  Lot Area Street  \\\n",
       "1182   1183  533350090           60        RL           NaN     24572   Pave   \n",
       "1498   1499  908154235           60        RL         313.0     63887   Pave   \n",
       "2180   2181  908154195           20        RL         128.0     39290   Pave   \n",
       "2181   2182  908154205           60        RL         130.0     40094   Pave   \n",
       "\n",
       "     Alley Lot Shape Land Contour  ... Pool Area Pool QC Fence Misc Feature  \\\n",
       "1182   NaN       IR1          Lvl  ...         0     NaN   NaN          NaN   \n",
       "1498   NaN       IR3          Bnk  ...       480      Gd   NaN          NaN   \n",
       "2180   NaN       IR1          Bnk  ...         0     NaN   NaN         Elev   \n",
       "2181   NaN       IR1          Bnk  ...         0     NaN   NaN          NaN   \n",
       "\n",
       "     Misc Val Mo Sold Yr Sold Sale Type  Sale Condition  SalePrice  \n",
       "1182        0       6    2008       WD           Family     150000  \n",
       "1498        0       1    2008       New         Partial     160000  \n",
       "2180    17000      10    2007       New         Partial     183850  \n",
       "2181        0      10    2007       New         Partial     184750  \n",
       "\n",
       "[4 rows x 82 columns]"
      ]
     },
     "execution_count": 11,
     "metadata": {},
     "output_type": "execute_result"
    }
   ],
   "source": [
    "df[(df['Overall Qual']>8) & (df['SalePrice']<200000)]"
   ]
  },
  {
   "cell_type": "code",
   "execution_count": 12,
   "id": "ff96d53f",
   "metadata": {
    "execution": {
     "iopub.execute_input": "2023-08-13T16:37:29.846919Z",
     "iopub.status.busy": "2023-08-13T16:37:29.846506Z",
     "iopub.status.idle": "2023-08-13T16:37:29.871721Z",
     "shell.execute_reply": "2023-08-13T16:37:29.870580Z"
    },
    "papermill": {
     "duration": 0.069408,
     "end_time": "2023-08-13T16:37:29.874383",
     "exception": false,
     "start_time": "2023-08-13T16:37:29.804975",
     "status": "completed"
    },
    "tags": []
   },
   "outputs": [
    {
     "data": {
      "text/html": [
       "<div>\n",
       "<style scoped>\n",
       "    .dataframe tbody tr th:only-of-type {\n",
       "        vertical-align: middle;\n",
       "    }\n",
       "\n",
       "    .dataframe tbody tr th {\n",
       "        vertical-align: top;\n",
       "    }\n",
       "\n",
       "    .dataframe thead th {\n",
       "        text-align: right;\n",
       "    }\n",
       "</style>\n",
       "<table border=\"1\" class=\"dataframe\">\n",
       "  <thead>\n",
       "    <tr style=\"text-align: right;\">\n",
       "      <th></th>\n",
       "      <th>Order</th>\n",
       "      <th>PID</th>\n",
       "      <th>MS SubClass</th>\n",
       "      <th>MS Zoning</th>\n",
       "      <th>Lot Frontage</th>\n",
       "      <th>Lot Area</th>\n",
       "      <th>Street</th>\n",
       "      <th>Alley</th>\n",
       "      <th>Lot Shape</th>\n",
       "      <th>Land Contour</th>\n",
       "      <th>...</th>\n",
       "      <th>Pool Area</th>\n",
       "      <th>Pool QC</th>\n",
       "      <th>Fence</th>\n",
       "      <th>Misc Feature</th>\n",
       "      <th>Misc Val</th>\n",
       "      <th>Mo Sold</th>\n",
       "      <th>Yr Sold</th>\n",
       "      <th>Sale Type</th>\n",
       "      <th>Sale Condition</th>\n",
       "      <th>SalePrice</th>\n",
       "    </tr>\n",
       "  </thead>\n",
       "  <tbody>\n",
       "    <tr>\n",
       "      <th>1498</th>\n",
       "      <td>1499</td>\n",
       "      <td>908154235</td>\n",
       "      <td>60</td>\n",
       "      <td>RL</td>\n",
       "      <td>313.0</td>\n",
       "      <td>63887</td>\n",
       "      <td>Pave</td>\n",
       "      <td>NaN</td>\n",
       "      <td>IR3</td>\n",
       "      <td>Bnk</td>\n",
       "      <td>...</td>\n",
       "      <td>480</td>\n",
       "      <td>Gd</td>\n",
       "      <td>NaN</td>\n",
       "      <td>NaN</td>\n",
       "      <td>0</td>\n",
       "      <td>1</td>\n",
       "      <td>2008</td>\n",
       "      <td>New</td>\n",
       "      <td>Partial</td>\n",
       "      <td>160000</td>\n",
       "    </tr>\n",
       "    <tr>\n",
       "      <th>2180</th>\n",
       "      <td>2181</td>\n",
       "      <td>908154195</td>\n",
       "      <td>20</td>\n",
       "      <td>RL</td>\n",
       "      <td>128.0</td>\n",
       "      <td>39290</td>\n",
       "      <td>Pave</td>\n",
       "      <td>NaN</td>\n",
       "      <td>IR1</td>\n",
       "      <td>Bnk</td>\n",
       "      <td>...</td>\n",
       "      <td>0</td>\n",
       "      <td>NaN</td>\n",
       "      <td>NaN</td>\n",
       "      <td>Elev</td>\n",
       "      <td>17000</td>\n",
       "      <td>10</td>\n",
       "      <td>2007</td>\n",
       "      <td>New</td>\n",
       "      <td>Partial</td>\n",
       "      <td>183850</td>\n",
       "    </tr>\n",
       "    <tr>\n",
       "      <th>2181</th>\n",
       "      <td>2182</td>\n",
       "      <td>908154205</td>\n",
       "      <td>60</td>\n",
       "      <td>RL</td>\n",
       "      <td>130.0</td>\n",
       "      <td>40094</td>\n",
       "      <td>Pave</td>\n",
       "      <td>NaN</td>\n",
       "      <td>IR1</td>\n",
       "      <td>Bnk</td>\n",
       "      <td>...</td>\n",
       "      <td>0</td>\n",
       "      <td>NaN</td>\n",
       "      <td>NaN</td>\n",
       "      <td>NaN</td>\n",
       "      <td>0</td>\n",
       "      <td>10</td>\n",
       "      <td>2007</td>\n",
       "      <td>New</td>\n",
       "      <td>Partial</td>\n",
       "      <td>184750</td>\n",
       "    </tr>\n",
       "  </tbody>\n",
       "</table>\n",
       "<p>3 rows × 82 columns</p>\n",
       "</div>"
      ],
      "text/plain": [
       "      Order        PID  MS SubClass MS Zoning  Lot Frontage  Lot Area Street  \\\n",
       "1498   1499  908154235           60        RL         313.0     63887   Pave   \n",
       "2180   2181  908154195           20        RL         128.0     39290   Pave   \n",
       "2181   2182  908154205           60        RL         130.0     40094   Pave   \n",
       "\n",
       "     Alley Lot Shape Land Contour  ... Pool Area Pool QC Fence Misc Feature  \\\n",
       "1498   NaN       IR3          Bnk  ...       480      Gd   NaN          NaN   \n",
       "2180   NaN       IR1          Bnk  ...         0     NaN   NaN         Elev   \n",
       "2181   NaN       IR1          Bnk  ...         0     NaN   NaN          NaN   \n",
       "\n",
       "     Misc Val Mo Sold Yr Sold Sale Type  Sale Condition  SalePrice  \n",
       "1498        0       1    2008       New         Partial     160000  \n",
       "2180    17000      10    2007       New         Partial     183850  \n",
       "2181        0      10    2007       New         Partial     184750  \n",
       "\n",
       "[3 rows x 82 columns]"
      ]
     },
     "execution_count": 12,
     "metadata": {},
     "output_type": "execute_result"
    }
   ],
   "source": [
    "df[(df['Gr Liv Area']>4000) & (df['SalePrice']<400000)]"
   ]
  },
  {
   "cell_type": "markdown",
   "id": "f0afabf5",
   "metadata": {
    "papermill": {
     "duration": 0.037093,
     "end_time": "2023-08-13T16:37:29.950211",
     "exception": false,
     "start_time": "2023-08-13T16:37:29.913118",
     "status": "completed"
    },
    "tags": []
   },
   "source": [
    "<h3 style=\"color:crimson; font-family:verdana; line-height: 1.7em\">Observation :</h3> \n",
    "<p style=\"font-size:18px; font-family:verdana; line-height: 1.7em\">So we have actually 4 points which have got higher Overall Quality but with very low Sales Price. <br>\n",
    "And 3 points with higher Living Space and less Sales Price. And these 3 points are common. Lets drop the rows with the index values of 1498,2180,2181.</p>"
   ]
  },
  {
   "cell_type": "code",
   "execution_count": 13,
   "id": "d1520eeb",
   "metadata": {
    "execution": {
     "iopub.execute_input": "2023-08-13T16:37:30.029284Z",
     "iopub.status.busy": "2023-08-13T16:37:30.028834Z",
     "iopub.status.idle": "2023-08-13T16:37:30.037076Z",
     "shell.execute_reply": "2023-08-13T16:37:30.036123Z"
    },
    "papermill": {
     "duration": 0.050777,
     "end_time": "2023-08-13T16:37:30.039583",
     "exception": false,
     "start_time": "2023-08-13T16:37:29.988806",
     "status": "completed"
    },
    "tags": []
   },
   "outputs": [],
   "source": [
    "# We finally drop the outliers based on index values\n",
    "df = df.drop(index=[1498,2180,2181],axis=0)"
   ]
  },
  {
   "cell_type": "code",
   "execution_count": 14,
   "id": "0eae16f7",
   "metadata": {
    "execution": {
     "iopub.execute_input": "2023-08-13T16:37:30.118432Z",
     "iopub.status.busy": "2023-08-13T16:37:30.117253Z",
     "iopub.status.idle": "2023-08-13T16:37:30.124142Z",
     "shell.execute_reply": "2023-08-13T16:37:30.123160Z"
    },
    "papermill": {
     "duration": 0.048128,
     "end_time": "2023-08-13T16:37:30.126598",
     "exception": false,
     "start_time": "2023-08-13T16:37:30.078470",
     "status": "completed"
    },
    "tags": []
   },
   "outputs": [
    {
     "data": {
      "text/plain": [
       "(2927, 82)"
      ]
     },
     "execution_count": 14,
     "metadata": {},
     "output_type": "execute_result"
    }
   ],
   "source": [
    "# We finally recheck the data frame \n",
    "df.shape"
   ]
  },
  {
   "cell_type": "markdown",
   "id": "46770ef6",
   "metadata": {
    "papermill": {
     "duration": 0.037557,
     "end_time": "2023-08-13T16:37:30.201972",
     "exception": false,
     "start_time": "2023-08-13T16:37:30.164415",
     "status": "completed"
    },
    "tags": []
   },
   "source": [
    "<h3 style=\"color:crimson; font-family:verdana; line-height: 1.7em\">Thoughts :</h3> \n",
    "\n",
    "<p style=\"font-size:18px; font-family:verdana; line-height: 1.7em\">So we have deleted the outliers that was identified and the data has been reduced to 2927 rows instead of initial 2930.<br>\n",
    "But we may also explore the 3 points whether this 3 points were the oldest or most recent. Whether these are the changes in trends?<br>\n",
    "We can also explore other conditions for outliers. But lets be satisfied with all that we have right now with respect to outliers.<br>\n",
    "Next lets do something with the Missing Data.</p>"
   ]
  },
  {
   "cell_type": "markdown",
   "id": "8f0daefb",
   "metadata": {
    "papermill": {
     "duration": 0.039138,
     "end_time": "2023-08-13T16:37:30.279193",
     "exception": false,
     "start_time": "2023-08-13T16:37:30.240055",
     "status": "completed"
    },
    "tags": []
   },
   "source": [
    "# <center style=\"color:crimson; font-family:verdana; line-height: 1.7em\">DATA CLEANUP - MISSING DATA</center>\n",
    "\n",
    "<p style=\"font-size:18px; font-family:verdana; line-height: 1.7em\">We will try to find and act on the missing data</p>"
   ]
  },
  {
   "cell_type": "code",
   "execution_count": 15,
   "id": "f3121466",
   "metadata": {
    "_kg_hide-input": true,
    "_kg_hide-output": true,
    "execution": {
     "iopub.execute_input": "2023-08-13T16:37:30.358792Z",
     "iopub.status.busy": "2023-08-13T16:37:30.357838Z",
     "iopub.status.idle": "2023-08-13T16:37:30.366330Z",
     "shell.execute_reply": "2023-08-13T16:37:30.364790Z"
    },
    "papermill": {
     "duration": 0.051743,
     "end_time": "2023-08-13T16:37:30.368960",
     "exception": false,
     "start_time": "2023-08-13T16:37:30.317217",
     "status": "completed"
    },
    "tags": []
   },
   "outputs": [
    {
     "data": {
      "text/plain": [
       "Index(['Order', 'PID', 'MS SubClass', 'MS Zoning', 'Lot Frontage', 'Lot Area',\n",
       "       'Street', 'Alley', 'Lot Shape', 'Land Contour', 'Utilities',\n",
       "       'Lot Config', 'Land Slope', 'Neighborhood', 'Condition 1',\n",
       "       'Condition 2', 'Bldg Type', 'House Style', 'Overall Qual',\n",
       "       'Overall Cond', 'Year Built', 'Year Remod/Add', 'Roof Style',\n",
       "       'Roof Matl', 'Exterior 1st', 'Exterior 2nd', 'Mas Vnr Type',\n",
       "       'Mas Vnr Area', 'Exter Qual', 'Exter Cond', 'Foundation', 'Bsmt Qual',\n",
       "       'Bsmt Cond', 'Bsmt Exposure', 'BsmtFin Type 1', 'BsmtFin SF 1',\n",
       "       'BsmtFin Type 2', 'BsmtFin SF 2', 'Bsmt Unf SF', 'Total Bsmt SF',\n",
       "       'Heating', 'Heating QC', 'Central Air', 'Electrical', '1st Flr SF',\n",
       "       '2nd Flr SF', 'Low Qual Fin SF', 'Gr Liv Area', 'Bsmt Full Bath',\n",
       "       'Bsmt Half Bath', 'Full Bath', 'Half Bath', 'Bedroom AbvGr',\n",
       "       'Kitchen AbvGr', 'Kitchen Qual', 'TotRms AbvGrd', 'Functional',\n",
       "       'Fireplaces', 'Fireplace Qu', 'Garage Type', 'Garage Yr Blt',\n",
       "       'Garage Finish', 'Garage Cars', 'Garage Area', 'Garage Qual',\n",
       "       'Garage Cond', 'Paved Drive', 'Wood Deck SF', 'Open Porch SF',\n",
       "       'Enclosed Porch', '3Ssn Porch', 'Screen Porch', 'Pool Area', 'Pool QC',\n",
       "       'Fence', 'Misc Feature', 'Misc Val', 'Mo Sold', 'Yr Sold', 'Sale Type',\n",
       "       'Sale Condition', 'SalePrice'],\n",
       "      dtype='object')"
      ]
     },
     "execution_count": 15,
     "metadata": {},
     "output_type": "execute_result"
    }
   ],
   "source": [
    "# Lets have a look at the columns\n",
    "df.columns"
   ]
  },
  {
   "cell_type": "markdown",
   "id": "17008400",
   "metadata": {
    "papermill": {
     "duration": 0.038569,
     "end_time": "2023-08-13T16:37:30.446494",
     "exception": false,
     "start_time": "2023-08-13T16:37:30.407925",
     "status": "completed"
    },
    "tags": []
   },
   "source": [
    "<h3 style=\"color:crimson; font-family:verdana; line-height: 1.7em\">Removing the PID</h3>\n",
    "\n",
    "<p style=\"font-size:18px; font-family:verdana; line-height: 1.7em\">We already have an index, so we don't need the PID unique identifier for the regression we will perform later on.</p>"
   ]
  },
  {
   "cell_type": "code",
   "execution_count": 16,
   "id": "3c880857",
   "metadata": {
    "execution": {
     "iopub.execute_input": "2023-08-13T16:37:30.527041Z",
     "iopub.status.busy": "2023-08-13T16:37:30.526228Z",
     "iopub.status.idle": "2023-08-13T16:37:30.534355Z",
     "shell.execute_reply": "2023-08-13T16:37:30.533497Z"
    },
    "papermill": {
     "duration": 0.051573,
     "end_time": "2023-08-13T16:37:30.537157",
     "exception": false,
     "start_time": "2023-08-13T16:37:30.485584",
     "status": "completed"
    },
    "tags": []
   },
   "outputs": [],
   "source": [
    "df = df.drop(\"PID\",axis=1)\n"
   ]
  },
  {
   "cell_type": "code",
   "execution_count": 17,
   "id": "6d7f5d77",
   "metadata": {
    "execution": {
     "iopub.execute_input": "2023-08-13T16:37:30.615789Z",
     "iopub.status.busy": "2023-08-13T16:37:30.615051Z",
     "iopub.status.idle": "2023-08-13T16:37:30.621485Z",
     "shell.execute_reply": "2023-08-13T16:37:30.620281Z"
    },
    "papermill": {
     "duration": 0.048496,
     "end_time": "2023-08-13T16:37:30.623921",
     "exception": false,
     "start_time": "2023-08-13T16:37:30.575425",
     "status": "completed"
    },
    "tags": []
   },
   "outputs": [
    {
     "data": {
      "text/plain": [
       "81"
      ]
     },
     "execution_count": 17,
     "metadata": {},
     "output_type": "execute_result"
    }
   ],
   "source": [
    "len(df.columns)"
   ]
  },
  {
   "cell_type": "markdown",
   "id": "f4f41ae2",
   "metadata": {
    "papermill": {
     "duration": 0.04044,
     "end_time": "2023-08-13T16:37:30.703293",
     "exception": false,
     "start_time": "2023-08-13T16:37:30.662853",
     "status": "completed"
    },
    "tags": []
   },
   "source": [
    "<h3 style=\"color:crimson; font-family:verdana; line-height: 1.7em\">Percentage of Missing values</h3>\n",
    "\n",
    "<p style=\"font-size:18px; font-family:verdana; line-height: 1.7em\">It is important to find out what is the percentage of missing values for each column before we actually act on the same. In case, in particular column most of the values are missing, it makes no sense to actually take the same forward for machine learning.<br>\n",
    "So we create a function, which can actually be re-used for future notebooks</p>"
   ]
  },
  {
   "cell_type": "code",
   "execution_count": 18,
   "id": "5e085dd3",
   "metadata": {
    "execution": {
     "iopub.execute_input": "2023-08-13T16:37:30.783215Z",
     "iopub.status.busy": "2023-08-13T16:37:30.782805Z",
     "iopub.status.idle": "2023-08-13T16:37:30.789343Z",
     "shell.execute_reply": "2023-08-13T16:37:30.788104Z"
    },
    "papermill": {
     "duration": 0.048706,
     "end_time": "2023-08-13T16:37:30.791884",
     "exception": false,
     "start_time": "2023-08-13T16:37:30.743178",
     "status": "completed"
    },
    "tags": []
   },
   "outputs": [],
   "source": [
    "# Percentage of missing data for each row in dataset\n",
    "def percent_missing(df):\n",
    "    # calculates percentage\n",
    "    percent_nan = 100 * df.isnull().sum() / len(df) \n",
    "    # filter greater than 0 and sort data\n",
    "    percent_nan = percent_nan[percent_nan > 0].sort_values()\n",
    "    \n",
    "    return percent_nan"
   ]
  },
  {
   "cell_type": "code",
   "execution_count": 19,
   "id": "029632e7",
   "metadata": {
    "execution": {
     "iopub.execute_input": "2023-08-13T16:37:30.871720Z",
     "iopub.status.busy": "2023-08-13T16:37:30.871212Z",
     "iopub.status.idle": "2023-08-13T16:37:30.923809Z",
     "shell.execute_reply": "2023-08-13T16:37:30.922555Z"
    },
    "papermill": {
     "duration": 0.096759,
     "end_time": "2023-08-13T16:37:30.926512",
     "exception": false,
     "start_time": "2023-08-13T16:37:30.829753",
     "status": "completed"
    },
    "tags": []
   },
   "outputs": [
    {
     "data": {
      "text/plain": [
       "Electrical         0.034165\n",
       "Garage Area        0.034165\n",
       "Total Bsmt SF      0.034165\n",
       "Bsmt Unf SF        0.034165\n",
       "BsmtFin SF 1       0.034165\n",
       "BsmtFin SF 2       0.034165\n",
       "Garage Cars        0.034165\n",
       "Bsmt Full Bath     0.068329\n",
       "Bsmt Half Bath     0.068329\n",
       "Mas Vnr Area       0.785787\n",
       "Mas Vnr Type       0.785787\n",
       "BsmtFin Type 1     2.733174\n",
       "Bsmt Qual          2.733174\n",
       "Bsmt Cond          2.733174\n",
       "BsmtFin Type 2     2.767339\n",
       "Bsmt Exposure      2.835668\n",
       "Garage Type        5.363854\n",
       "Garage Finish      5.432183\n",
       "Garage Qual        5.432183\n",
       "Garage Cond        5.432183\n",
       "Garage Yr Blt      5.432183\n",
       "Lot Frontage      16.740690\n",
       "Fireplace Qu      48.582166\n",
       "Fence             80.457807\n",
       "Alley             93.235395\n",
       "Misc Feature      96.412709\n",
       "Pool QC           99.590024\n",
       "dtype: float64"
      ]
     },
     "execution_count": 19,
     "metadata": {},
     "output_type": "execute_result"
    }
   ],
   "source": [
    "percent_nan = percent_missing(df)\n",
    "percent_nan"
   ]
  },
  {
   "cell_type": "code",
   "execution_count": 20,
   "id": "8070a4be",
   "metadata": {
    "execution": {
     "iopub.execute_input": "2023-08-13T16:37:31.004966Z",
     "iopub.status.busy": "2023-08-13T16:37:31.004577Z",
     "iopub.status.idle": "2023-08-13T16:37:31.551000Z",
     "shell.execute_reply": "2023-08-13T16:37:31.549687Z"
    },
    "papermill": {
     "duration": 0.588864,
     "end_time": "2023-08-13T16:37:31.553819",
     "exception": false,
     "start_time": "2023-08-13T16:37:30.964955",
     "status": "completed"
    },
    "tags": []
   },
   "outputs": [
    {
     "data": {
      "image/png": "[encoded data removed]",
      "text/plain": [
       "<Figure size 640x480 with 1 Axes>"
      ]
     },
     "metadata": {},
     "output_type": "display_data"
    }
   ],
   "source": [
    "# Plot the percentage in a barplot\n",
    "sns.barplot(x=percent_nan.index,y=percent_nan)\n",
    "plt.xticks(rotation=90); # Semicolon removes the text before charts"
   ]
  },
  {
   "cell_type": "markdown",
   "id": "6c4a1197",
   "metadata": {
    "papermill": {
     "duration": 0.038996,
     "end_time": "2023-08-13T16:37:31.633868",
     "exception": false,
     "start_time": "2023-08-13T16:37:31.594872",
     "status": "completed"
    },
    "tags": []
   },
   "source": [
    "<h3 style=\"color:crimson; font-family:verdana; line-height: 1.7em\">Observation :</h3>  \n",
    "\n",
    "<p style=\"font-size:18px; font-family:verdana; line-height: 1.7em\">There are a lot of missing values varied in different columns. In some columns its minimal but in some columns most of the data is missing.<br>\n",
    "However, the missing data can have several implications. Such as in case of Pool QC, it may be that there is no Pool on offer.<br><br>\n",
    "In some cases such as electrical, garage area it seems that even less than 1% data is missing.<br><br>\n",
    "We can act differently for differnt columns</p>\n",
    "\n",
    "<ol style=\"font-size:18px; font-family:verdana; line-height: 1.7em\">\n",
    "<li>Remove row of missing data\n",
    "<li>Remove the entire column or feature\n",
    "<li>Replace the missing data\n",
    "<li>Interpret the missing data from other columns\n",
    "</ol>"
   ]
  },
  {
   "cell_type": "markdown",
   "id": "a33ba472",
   "metadata": {
    "papermill": {
     "duration": 0.051795,
     "end_time": "2023-08-13T16:37:31.725133",
     "exception": false,
     "start_time": "2023-08-13T16:37:31.673338",
     "status": "completed"
    },
    "tags": []
   },
   "source": [
    "Lets first explore the columns with less than 1% of missing data"
   ]
  },
  {
   "cell_type": "code",
   "execution_count": 21,
   "id": "01090d04",
   "metadata": {
    "execution": {
     "iopub.execute_input": "2023-08-13T16:37:31.814387Z",
     "iopub.status.busy": "2023-08-13T16:37:31.813997Z",
     "iopub.status.idle": "2023-08-13T16:37:31.823811Z",
     "shell.execute_reply": "2023-08-13T16:37:31.822522Z"
    },
    "papermill": {
     "duration": 0.054295,
     "end_time": "2023-08-13T16:37:31.826302",
     "exception": false,
     "start_time": "2023-08-13T16:37:31.772007",
     "status": "completed"
    },
    "tags": []
   },
   "outputs": [
    {
     "data": {
      "text/plain": [
       "Electrical        0.034165\n",
       "Garage Area       0.034165\n",
       "Total Bsmt SF     0.034165\n",
       "Bsmt Unf SF       0.034165\n",
       "BsmtFin SF 1      0.034165\n",
       "BsmtFin SF 2      0.034165\n",
       "Garage Cars       0.034165\n",
       "Bsmt Full Bath    0.068329\n",
       "Bsmt Half Bath    0.068329\n",
       "Mas Vnr Area      0.785787\n",
       "Mas Vnr Type      0.785787\n",
       "dtype: float64"
      ]
     },
     "execution_count": 21,
     "metadata": {},
     "output_type": "execute_result"
    }
   ],
   "source": [
    "# Columns with less than 1% missing data\n",
    "percent_nan[percent_nan < 1]"
   ]
  },
  {
   "cell_type": "markdown",
   "id": "c513de78",
   "metadata": {
    "papermill": {
     "duration": 0.040093,
     "end_time": "2023-08-13T16:37:31.905874",
     "exception": false,
     "start_time": "2023-08-13T16:37:31.865781",
     "status": "completed"
    },
    "tags": []
   },
   "source": [
    "<p style=\"font-size:18px; font-family:verdana; line-height: 1.7em; color:blue\"><b>In some cases, it may be that a single row may contain multiple missing data columns. Lets see further.</b></p>"
   ]
  },
  {
   "cell_type": "code",
   "execution_count": 22,
   "id": "eb65ce1c",
   "metadata": {
    "execution": {
     "iopub.execute_input": "2023-08-13T16:37:31.986649Z",
     "iopub.status.busy": "2023-08-13T16:37:31.986125Z",
     "iopub.status.idle": "2023-08-13T16:37:32.012181Z",
     "shell.execute_reply": "2023-08-13T16:37:32.010793Z"
    },
    "papermill": {
     "duration": 0.069806,
     "end_time": "2023-08-13T16:37:32.015010",
     "exception": false,
     "start_time": "2023-08-13T16:37:31.945204",
     "status": "completed"
    },
    "tags": []
   },
   "outputs": [
    {
     "data": {
      "text/html": [
       "<div>\n",
       "<style scoped>\n",
       "    .dataframe tbody tr th:only-of-type {\n",
       "        vertical-align: middle;\n",
       "    }\n",
       "\n",
       "    .dataframe tbody tr th {\n",
       "        vertical-align: top;\n",
       "    }\n",
       "\n",
       "    .dataframe thead th {\n",
       "        text-align: right;\n",
       "    }\n",
       "</style>\n",
       "<table border=\"1\" class=\"dataframe\">\n",
       "  <thead>\n",
       "    <tr style=\"text-align: right;\">\n",
       "      <th></th>\n",
       "      <th>Order</th>\n",
       "      <th>MS SubClass</th>\n",
       "      <th>MS Zoning</th>\n",
       "      <th>Lot Frontage</th>\n",
       "      <th>Lot Area</th>\n",
       "      <th>Street</th>\n",
       "      <th>Alley</th>\n",
       "      <th>Lot Shape</th>\n",
       "      <th>Land Contour</th>\n",
       "      <th>Utilities</th>\n",
       "      <th>...</th>\n",
       "      <th>Pool Area</th>\n",
       "      <th>Pool QC</th>\n",
       "      <th>Fence</th>\n",
       "      <th>Misc Feature</th>\n",
       "      <th>Misc Val</th>\n",
       "      <th>Mo Sold</th>\n",
       "      <th>Yr Sold</th>\n",
       "      <th>Sale Type</th>\n",
       "      <th>Sale Condition</th>\n",
       "      <th>SalePrice</th>\n",
       "    </tr>\n",
       "  </thead>\n",
       "  <tbody>\n",
       "    <tr>\n",
       "      <th>1577</th>\n",
       "      <td>1578</td>\n",
       "      <td>80</td>\n",
       "      <td>RL</td>\n",
       "      <td>73.0</td>\n",
       "      <td>9735</td>\n",
       "      <td>Pave</td>\n",
       "      <td>NaN</td>\n",
       "      <td>Reg</td>\n",
       "      <td>Lvl</td>\n",
       "      <td>AllPub</td>\n",
       "      <td>...</td>\n",
       "      <td>0</td>\n",
       "      <td>NaN</td>\n",
       "      <td>NaN</td>\n",
       "      <td>NaN</td>\n",
       "      <td>0</td>\n",
       "      <td>5</td>\n",
       "      <td>2008</td>\n",
       "      <td>WD</td>\n",
       "      <td>Normal</td>\n",
       "      <td>167500</td>\n",
       "    </tr>\n",
       "  </tbody>\n",
       "</table>\n",
       "<p>1 rows × 81 columns</p>\n",
       "</div>"
      ],
      "text/plain": [
       "      Order  MS SubClass MS Zoning  Lot Frontage  Lot Area Street Alley  \\\n",
       "1577   1578           80        RL          73.0      9735   Pave   NaN   \n",
       "\n",
       "     Lot Shape Land Contour Utilities  ... Pool Area Pool QC Fence  \\\n",
       "1577       Reg          Lvl    AllPub  ...         0     NaN   NaN   \n",
       "\n",
       "     Misc Feature Misc Val Mo Sold Yr Sold  Sale Type  Sale Condition  \\\n",
       "1577          NaN        0       5    2008        WD           Normal   \n",
       "\n",
       "      SalePrice  \n",
       "1577     167500  \n",
       "\n",
       "[1 rows x 81 columns]"
      ]
     },
     "execution_count": 22,
     "metadata": {},
     "output_type": "execute_result"
    }
   ],
   "source": [
    "df[df['Electrical'].isnull()]"
   ]
  },
  {
   "cell_type": "code",
   "execution_count": 23,
   "id": "e5ab25a5",
   "metadata": {
    "execution": {
     "iopub.execute_input": "2023-08-13T16:37:32.097649Z",
     "iopub.status.busy": "2023-08-13T16:37:32.097226Z",
     "iopub.status.idle": "2023-08-13T16:37:32.123541Z",
     "shell.execute_reply": "2023-08-13T16:37:32.122300Z"
    },
    "papermill": {
     "duration": 0.070453,
     "end_time": "2023-08-13T16:37:32.126051",
     "exception": false,
     "start_time": "2023-08-13T16:37:32.055598",
     "status": "completed"
    },
    "tags": []
   },
   "outputs": [
    {
     "data": {
      "text/html": [
       "<div>\n",
       "<style scoped>\n",
       "    .dataframe tbody tr th:only-of-type {\n",
       "        vertical-align: middle;\n",
       "    }\n",
       "\n",
       "    .dataframe tbody tr th {\n",
       "        vertical-align: top;\n",
       "    }\n",
       "\n",
       "    .dataframe thead th {\n",
       "        text-align: right;\n",
       "    }\n",
       "</style>\n",
       "<table border=\"1\" class=\"dataframe\">\n",
       "  <thead>\n",
       "    <tr style=\"text-align: right;\">\n",
       "      <th></th>\n",
       "      <th>Order</th>\n",
       "      <th>MS SubClass</th>\n",
       "      <th>MS Zoning</th>\n",
       "      <th>Lot Frontage</th>\n",
       "      <th>Lot Area</th>\n",
       "      <th>Street</th>\n",
       "      <th>Alley</th>\n",
       "      <th>Lot Shape</th>\n",
       "      <th>Land Contour</th>\n",
       "      <th>Utilities</th>\n",
       "      <th>...</th>\n",
       "      <th>Pool Area</th>\n",
       "      <th>Pool QC</th>\n",
       "      <th>Fence</th>\n",
       "      <th>Misc Feature</th>\n",
       "      <th>Misc Val</th>\n",
       "      <th>Mo Sold</th>\n",
       "      <th>Yr Sold</th>\n",
       "      <th>Sale Type</th>\n",
       "      <th>Sale Condition</th>\n",
       "      <th>SalePrice</th>\n",
       "    </tr>\n",
       "  </thead>\n",
       "  <tbody>\n",
       "    <tr>\n",
       "      <th>2236</th>\n",
       "      <td>2237</td>\n",
       "      <td>70</td>\n",
       "      <td>RM</td>\n",
       "      <td>50.0</td>\n",
       "      <td>9060</td>\n",
       "      <td>Pave</td>\n",
       "      <td>NaN</td>\n",
       "      <td>Reg</td>\n",
       "      <td>Lvl</td>\n",
       "      <td>AllPub</td>\n",
       "      <td>...</td>\n",
       "      <td>0</td>\n",
       "      <td>NaN</td>\n",
       "      <td>MnPrv</td>\n",
       "      <td>NaN</td>\n",
       "      <td>0</td>\n",
       "      <td>3</td>\n",
       "      <td>2007</td>\n",
       "      <td>WD</td>\n",
       "      <td>Alloca</td>\n",
       "      <td>150909</td>\n",
       "    </tr>\n",
       "  </tbody>\n",
       "</table>\n",
       "<p>1 rows × 81 columns</p>\n",
       "</div>"
      ],
      "text/plain": [
       "      Order  MS SubClass MS Zoning  Lot Frontage  Lot Area Street Alley  \\\n",
       "2236   2237           70        RM          50.0      9060   Pave   NaN   \n",
       "\n",
       "     Lot Shape Land Contour Utilities  ... Pool Area Pool QC  Fence  \\\n",
       "2236       Reg          Lvl    AllPub  ...         0     NaN  MnPrv   \n",
       "\n",
       "     Misc Feature Misc Val Mo Sold Yr Sold  Sale Type  Sale Condition  \\\n",
       "2236          NaN        0       3    2007        WD           Alloca   \n",
       "\n",
       "      SalePrice  \n",
       "2236     150909  \n",
       "\n",
       "[1 rows x 81 columns]"
      ]
     },
     "execution_count": 23,
     "metadata": {},
     "output_type": "execute_result"
    }
   ],
   "source": [
    "df[df['Garage Area'].isnull()]"
   ]
  },
  {
   "cell_type": "markdown",
   "id": "ab5eb10e",
   "metadata": {
    "papermill": {
     "duration": 0.04093,
     "end_time": "2023-08-13T16:37:32.206659",
     "exception": false,
     "start_time": "2023-08-13T16:37:32.165729",
     "status": "completed"
    },
    "tags": []
   },
   "source": [
    "<h3 style=\"color:crimson; font-family:verdana; line-height: 1.7em\">Observation :</h3> \n",
    "\n",
    "<p style=\"font-size:18px; font-family:verdana; line-height: 1.7em\">So the missing data w.r.t Electrical and Garage Area are different. But these are only single rows. We can actually think of dropping them.</p>"
   ]
  },
  {
   "cell_type": "code",
   "execution_count": 24,
   "id": "e1fbbbc4",
   "metadata": {
    "execution": {
     "iopub.execute_input": "2023-08-13T16:37:32.290164Z",
     "iopub.status.busy": "2023-08-13T16:37:32.289724Z",
     "iopub.status.idle": "2023-08-13T16:37:32.300481Z",
     "shell.execute_reply": "2023-08-13T16:37:32.299595Z"
    },
    "papermill": {
     "duration": 0.054934,
     "end_time": "2023-08-13T16:37:32.303019",
     "exception": false,
     "start_time": "2023-08-13T16:37:32.248085",
     "status": "completed"
    },
    "tags": []
   },
   "outputs": [],
   "source": [
    "# Dropping missing data rows for electrical and garage area\n",
    "df = df.dropna(axis=0,subset=['Electrical','Garage Area'])"
   ]
  },
  {
   "cell_type": "code",
   "execution_count": 25,
   "id": "925be965",
   "metadata": {
    "execution": {
     "iopub.execute_input": "2023-08-13T16:37:32.387722Z",
     "iopub.status.busy": "2023-08-13T16:37:32.386500Z",
     "iopub.status.idle": "2023-08-13T16:37:32.393613Z",
     "shell.execute_reply": "2023-08-13T16:37:32.392443Z"
    },
    "papermill": {
     "duration": 0.051619,
     "end_time": "2023-08-13T16:37:32.396046",
     "exception": false,
     "start_time": "2023-08-13T16:37:32.344427",
     "status": "completed"
    },
    "tags": []
   },
   "outputs": [
    {
     "data": {
      "text/plain": [
       "2925"
      ]
     },
     "execution_count": 25,
     "metadata": {},
     "output_type": "execute_result"
    }
   ],
   "source": [
    "len(df)"
   ]
  },
  {
   "cell_type": "code",
   "execution_count": 26,
   "id": "2e63ce52",
   "metadata": {
    "execution": {
     "iopub.execute_input": "2023-08-13T16:37:32.478582Z",
     "iopub.status.busy": "2023-08-13T16:37:32.477826Z",
     "iopub.status.idle": "2023-08-13T16:37:32.529757Z",
     "shell.execute_reply": "2023-08-13T16:37:32.528608Z"
    },
    "papermill": {
     "duration": 0.096248,
     "end_time": "2023-08-13T16:37:32.532417",
     "exception": false,
     "start_time": "2023-08-13T16:37:32.436169",
     "status": "completed"
    },
    "tags": []
   },
   "outputs": [
    {
     "data": {
      "text/plain": [
       "Bsmt Unf SF       0.034188\n",
       "Total Bsmt SF     0.034188\n",
       "BsmtFin SF 2      0.034188\n",
       "BsmtFin SF 1      0.034188\n",
       "Bsmt Full Bath    0.068376\n",
       "Bsmt Half Bath    0.068376\n",
       "Mas Vnr Type      0.786325\n",
       "Mas Vnr Area      0.786325\n",
       "dtype: float64"
      ]
     },
     "execution_count": 26,
     "metadata": {},
     "output_type": "execute_result"
    }
   ],
   "source": [
    "percent_nan = percent_missing(df)\n",
    "percent_nan[percent_nan < 1]"
   ]
  },
  {
   "cell_type": "markdown",
   "id": "0ede70b1",
   "metadata": {
    "papermill": {
     "duration": 0.039926,
     "end_time": "2023-08-13T16:37:32.612294",
     "exception": false,
     "start_time": "2023-08-13T16:37:32.572368",
     "status": "completed"
    },
    "tags": []
   },
   "source": [
    "<h3 style=\"color:crimson; font-family:verdana; line-height: 1.7em\">Observation :</h3>\n",
    "<p style=\"font-size:18px; font-family:verdana; line-height: 1.7em\">We can see that nos. of columns of missing data has already been taken care of by just dropping 2 rows.</p>"
   ]
  },
  {
   "cell_type": "code",
   "execution_count": 27,
   "id": "02b8150f",
   "metadata": {
    "execution": {
     "iopub.execute_input": "2023-08-13T16:37:32.696895Z",
     "iopub.status.busy": "2023-08-13T16:37:32.696503Z",
     "iopub.status.idle": "2023-08-13T16:37:32.720867Z",
     "shell.execute_reply": "2023-08-13T16:37:32.719765Z"
    },
    "papermill": {
     "duration": 0.071447,
     "end_time": "2023-08-13T16:37:32.723586",
     "exception": false,
     "start_time": "2023-08-13T16:37:32.652139",
     "status": "completed"
    },
    "tags": []
   },
   "outputs": [
    {
     "data": {
      "text/html": [
       "<div>\n",
       "<style scoped>\n",
       "    .dataframe tbody tr th:only-of-type {\n",
       "        vertical-align: middle;\n",
       "    }\n",
       "\n",
       "    .dataframe tbody tr th {\n",
       "        vertical-align: top;\n",
       "    }\n",
       "\n",
       "    .dataframe thead th {\n",
       "        text-align: right;\n",
       "    }\n",
       "</style>\n",
       "<table border=\"1\" class=\"dataframe\">\n",
       "  <thead>\n",
       "    <tr style=\"text-align: right;\">\n",
       "      <th></th>\n",
       "      <th>Order</th>\n",
       "      <th>MS SubClass</th>\n",
       "      <th>MS Zoning</th>\n",
       "      <th>Lot Frontage</th>\n",
       "      <th>Lot Area</th>\n",
       "      <th>Street</th>\n",
       "      <th>Alley</th>\n",
       "      <th>Lot Shape</th>\n",
       "      <th>Land Contour</th>\n",
       "      <th>Utilities</th>\n",
       "      <th>...</th>\n",
       "      <th>Pool Area</th>\n",
       "      <th>Pool QC</th>\n",
       "      <th>Fence</th>\n",
       "      <th>Misc Feature</th>\n",
       "      <th>Misc Val</th>\n",
       "      <th>Mo Sold</th>\n",
       "      <th>Yr Sold</th>\n",
       "      <th>Sale Type</th>\n",
       "      <th>Sale Condition</th>\n",
       "      <th>SalePrice</th>\n",
       "    </tr>\n",
       "  </thead>\n",
       "  <tbody>\n",
       "    <tr>\n",
       "      <th>1341</th>\n",
       "      <td>1342</td>\n",
       "      <td>20</td>\n",
       "      <td>RM</td>\n",
       "      <td>99.0</td>\n",
       "      <td>5940</td>\n",
       "      <td>Pave</td>\n",
       "      <td>NaN</td>\n",
       "      <td>IR1</td>\n",
       "      <td>Lvl</td>\n",
       "      <td>AllPub</td>\n",
       "      <td>...</td>\n",
       "      <td>0</td>\n",
       "      <td>NaN</td>\n",
       "      <td>MnPrv</td>\n",
       "      <td>NaN</td>\n",
       "      <td>0</td>\n",
       "      <td>4</td>\n",
       "      <td>2008</td>\n",
       "      <td>ConLD</td>\n",
       "      <td>Abnorml</td>\n",
       "      <td>79000</td>\n",
       "    </tr>\n",
       "  </tbody>\n",
       "</table>\n",
       "<p>1 rows × 81 columns</p>\n",
       "</div>"
      ],
      "text/plain": [
       "      Order  MS SubClass MS Zoning  Lot Frontage  Lot Area Street Alley  \\\n",
       "1341   1342           20        RM          99.0      5940   Pave   NaN   \n",
       "\n",
       "     Lot Shape Land Contour Utilities  ... Pool Area Pool QC  Fence  \\\n",
       "1341       IR1          Lvl    AllPub  ...         0     NaN  MnPrv   \n",
       "\n",
       "     Misc Feature Misc Val Mo Sold Yr Sold  Sale Type  Sale Condition  \\\n",
       "1341          NaN        0       4    2008      ConLD         Abnorml   \n",
       "\n",
       "      SalePrice  \n",
       "1341      79000  \n",
       "\n",
       "[1 rows x 81 columns]"
      ]
     },
     "execution_count": 27,
     "metadata": {},
     "output_type": "execute_result"
    }
   ],
   "source": [
    "df[df['Bsmt Unf SF'].isnull()]"
   ]
  },
  {
   "cell_type": "code",
   "execution_count": 28,
   "id": "d55b094a",
   "metadata": {
    "execution": {
     "iopub.execute_input": "2023-08-13T16:37:32.809308Z",
     "iopub.status.busy": "2023-08-13T16:37:32.808880Z",
     "iopub.status.idle": "2023-08-13T16:37:32.835041Z",
     "shell.execute_reply": "2023-08-13T16:37:32.833744Z"
    },
    "papermill": {
     "duration": 0.072766,
     "end_time": "2023-08-13T16:37:32.837638",
     "exception": false,
     "start_time": "2023-08-13T16:37:32.764872",
     "status": "completed"
    },
    "tags": []
   },
   "outputs": [
    {
     "data": {
      "text/html": [
       "<div>\n",
       "<style scoped>\n",
       "    .dataframe tbody tr th:only-of-type {\n",
       "        vertical-align: middle;\n",
       "    }\n",
       "\n",
       "    .dataframe tbody tr th {\n",
       "        vertical-align: top;\n",
       "    }\n",
       "\n",
       "    .dataframe thead th {\n",
       "        text-align: right;\n",
       "    }\n",
       "</style>\n",
       "<table border=\"1\" class=\"dataframe\">\n",
       "  <thead>\n",
       "    <tr style=\"text-align: right;\">\n",
       "      <th></th>\n",
       "      <th>Order</th>\n",
       "      <th>MS SubClass</th>\n",
       "      <th>MS Zoning</th>\n",
       "      <th>Lot Frontage</th>\n",
       "      <th>Lot Area</th>\n",
       "      <th>Street</th>\n",
       "      <th>Alley</th>\n",
       "      <th>Lot Shape</th>\n",
       "      <th>Land Contour</th>\n",
       "      <th>Utilities</th>\n",
       "      <th>...</th>\n",
       "      <th>Pool Area</th>\n",
       "      <th>Pool QC</th>\n",
       "      <th>Fence</th>\n",
       "      <th>Misc Feature</th>\n",
       "      <th>Misc Val</th>\n",
       "      <th>Mo Sold</th>\n",
       "      <th>Yr Sold</th>\n",
       "      <th>Sale Type</th>\n",
       "      <th>Sale Condition</th>\n",
       "      <th>SalePrice</th>\n",
       "    </tr>\n",
       "  </thead>\n",
       "  <tbody>\n",
       "    <tr>\n",
       "      <th>1341</th>\n",
       "      <td>1342</td>\n",
       "      <td>20</td>\n",
       "      <td>RM</td>\n",
       "      <td>99.0</td>\n",
       "      <td>5940</td>\n",
       "      <td>Pave</td>\n",
       "      <td>NaN</td>\n",
       "      <td>IR1</td>\n",
       "      <td>Lvl</td>\n",
       "      <td>AllPub</td>\n",
       "      <td>...</td>\n",
       "      <td>0</td>\n",
       "      <td>NaN</td>\n",
       "      <td>MnPrv</td>\n",
       "      <td>NaN</td>\n",
       "      <td>0</td>\n",
       "      <td>4</td>\n",
       "      <td>2008</td>\n",
       "      <td>ConLD</td>\n",
       "      <td>Abnorml</td>\n",
       "      <td>79000</td>\n",
       "    </tr>\n",
       "  </tbody>\n",
       "</table>\n",
       "<p>1 rows × 81 columns</p>\n",
       "</div>"
      ],
      "text/plain": [
       "      Order  MS SubClass MS Zoning  Lot Frontage  Lot Area Street Alley  \\\n",
       "1341   1342           20        RM          99.0      5940   Pave   NaN   \n",
       "\n",
       "     Lot Shape Land Contour Utilities  ... Pool Area Pool QC  Fence  \\\n",
       "1341       IR1          Lvl    AllPub  ...         0     NaN  MnPrv   \n",
       "\n",
       "     Misc Feature Misc Val Mo Sold Yr Sold  Sale Type  Sale Condition  \\\n",
       "1341          NaN        0       4    2008      ConLD         Abnorml   \n",
       "\n",
       "      SalePrice  \n",
       "1341      79000  \n",
       "\n",
       "[1 rows x 81 columns]"
      ]
     },
     "execution_count": 28,
     "metadata": {},
     "output_type": "execute_result"
    }
   ],
   "source": [
    "df[df['Total Bsmt SF'].isnull()]"
   ]
  },
  {
   "cell_type": "code",
   "execution_count": 29,
   "id": "0a40ffa5",
   "metadata": {
    "execution": {
     "iopub.execute_input": "2023-08-13T16:37:32.923269Z",
     "iopub.status.busy": "2023-08-13T16:37:32.922879Z",
     "iopub.status.idle": "2023-08-13T16:37:32.947549Z",
     "shell.execute_reply": "2023-08-13T16:37:32.946337Z"
    },
    "papermill": {
     "duration": 0.06961,
     "end_time": "2023-08-13T16:37:32.949996",
     "exception": false,
     "start_time": "2023-08-13T16:37:32.880386",
     "status": "completed"
    },
    "tags": []
   },
   "outputs": [
    {
     "data": {
      "text/html": [
       "<div>\n",
       "<style scoped>\n",
       "    .dataframe tbody tr th:only-of-type {\n",
       "        vertical-align: middle;\n",
       "    }\n",
       "\n",
       "    .dataframe tbody tr th {\n",
       "        vertical-align: top;\n",
       "    }\n",
       "\n",
       "    .dataframe thead th {\n",
       "        text-align: right;\n",
       "    }\n",
       "</style>\n",
       "<table border=\"1\" class=\"dataframe\">\n",
       "  <thead>\n",
       "    <tr style=\"text-align: right;\">\n",
       "      <th></th>\n",
       "      <th>Order</th>\n",
       "      <th>MS SubClass</th>\n",
       "      <th>MS Zoning</th>\n",
       "      <th>Lot Frontage</th>\n",
       "      <th>Lot Area</th>\n",
       "      <th>Street</th>\n",
       "      <th>Alley</th>\n",
       "      <th>Lot Shape</th>\n",
       "      <th>Land Contour</th>\n",
       "      <th>Utilities</th>\n",
       "      <th>...</th>\n",
       "      <th>Pool Area</th>\n",
       "      <th>Pool QC</th>\n",
       "      <th>Fence</th>\n",
       "      <th>Misc Feature</th>\n",
       "      <th>Misc Val</th>\n",
       "      <th>Mo Sold</th>\n",
       "      <th>Yr Sold</th>\n",
       "      <th>Sale Type</th>\n",
       "      <th>Sale Condition</th>\n",
       "      <th>SalePrice</th>\n",
       "    </tr>\n",
       "  </thead>\n",
       "  <tbody>\n",
       "    <tr>\n",
       "      <th>1341</th>\n",
       "      <td>1342</td>\n",
       "      <td>20</td>\n",
       "      <td>RM</td>\n",
       "      <td>99.0</td>\n",
       "      <td>5940</td>\n",
       "      <td>Pave</td>\n",
       "      <td>NaN</td>\n",
       "      <td>IR1</td>\n",
       "      <td>Lvl</td>\n",
       "      <td>AllPub</td>\n",
       "      <td>...</td>\n",
       "      <td>0</td>\n",
       "      <td>NaN</td>\n",
       "      <td>MnPrv</td>\n",
       "      <td>NaN</td>\n",
       "      <td>0</td>\n",
       "      <td>4</td>\n",
       "      <td>2008</td>\n",
       "      <td>ConLD</td>\n",
       "      <td>Abnorml</td>\n",
       "      <td>79000</td>\n",
       "    </tr>\n",
       "  </tbody>\n",
       "</table>\n",
       "<p>1 rows × 81 columns</p>\n",
       "</div>"
      ],
      "text/plain": [
       "      Order  MS SubClass MS Zoning  Lot Frontage  Lot Area Street Alley  \\\n",
       "1341   1342           20        RM          99.0      5940   Pave   NaN   \n",
       "\n",
       "     Lot Shape Land Contour Utilities  ... Pool Area Pool QC  Fence  \\\n",
       "1341       IR1          Lvl    AllPub  ...         0     NaN  MnPrv   \n",
       "\n",
       "     Misc Feature Misc Val Mo Sold Yr Sold  Sale Type  Sale Condition  \\\n",
       "1341          NaN        0       4    2008      ConLD         Abnorml   \n",
       "\n",
       "      SalePrice  \n",
       "1341      79000  \n",
       "\n",
       "[1 rows x 81 columns]"
      ]
     },
     "execution_count": 29,
     "metadata": {},
     "output_type": "execute_result"
    }
   ],
   "source": [
    "df[df['BsmtFin SF 2'].isnull()]"
   ]
  },
  {
   "cell_type": "code",
   "execution_count": 30,
   "id": "13af9d18",
   "metadata": {
    "execution": {
     "iopub.execute_input": "2023-08-13T16:37:33.034577Z",
     "iopub.status.busy": "2023-08-13T16:37:33.034056Z",
     "iopub.status.idle": "2023-08-13T16:37:33.059534Z",
     "shell.execute_reply": "2023-08-13T16:37:33.058257Z"
    },
    "papermill": {
     "duration": 0.071072,
     "end_time": "2023-08-13T16:37:33.062023",
     "exception": false,
     "start_time": "2023-08-13T16:37:32.990951",
     "status": "completed"
    },
    "tags": []
   },
   "outputs": [
    {
     "data": {
      "text/html": [
       "<div>\n",
       "<style scoped>\n",
       "    .dataframe tbody tr th:only-of-type {\n",
       "        vertical-align: middle;\n",
       "    }\n",
       "\n",
       "    .dataframe tbody tr th {\n",
       "        vertical-align: top;\n",
       "    }\n",
       "\n",
       "    .dataframe thead th {\n",
       "        text-align: right;\n",
       "    }\n",
       "</style>\n",
       "<table border=\"1\" class=\"dataframe\">\n",
       "  <thead>\n",
       "    <tr style=\"text-align: right;\">\n",
       "      <th></th>\n",
       "      <th>Order</th>\n",
       "      <th>MS SubClass</th>\n",
       "      <th>MS Zoning</th>\n",
       "      <th>Lot Frontage</th>\n",
       "      <th>Lot Area</th>\n",
       "      <th>Street</th>\n",
       "      <th>Alley</th>\n",
       "      <th>Lot Shape</th>\n",
       "      <th>Land Contour</th>\n",
       "      <th>Utilities</th>\n",
       "      <th>...</th>\n",
       "      <th>Pool Area</th>\n",
       "      <th>Pool QC</th>\n",
       "      <th>Fence</th>\n",
       "      <th>Misc Feature</th>\n",
       "      <th>Misc Val</th>\n",
       "      <th>Mo Sold</th>\n",
       "      <th>Yr Sold</th>\n",
       "      <th>Sale Type</th>\n",
       "      <th>Sale Condition</th>\n",
       "      <th>SalePrice</th>\n",
       "    </tr>\n",
       "  </thead>\n",
       "  <tbody>\n",
       "    <tr>\n",
       "      <th>1341</th>\n",
       "      <td>1342</td>\n",
       "      <td>20</td>\n",
       "      <td>RM</td>\n",
       "      <td>99.0</td>\n",
       "      <td>5940</td>\n",
       "      <td>Pave</td>\n",
       "      <td>NaN</td>\n",
       "      <td>IR1</td>\n",
       "      <td>Lvl</td>\n",
       "      <td>AllPub</td>\n",
       "      <td>...</td>\n",
       "      <td>0</td>\n",
       "      <td>NaN</td>\n",
       "      <td>MnPrv</td>\n",
       "      <td>NaN</td>\n",
       "      <td>0</td>\n",
       "      <td>4</td>\n",
       "      <td>2008</td>\n",
       "      <td>ConLD</td>\n",
       "      <td>Abnorml</td>\n",
       "      <td>79000</td>\n",
       "    </tr>\n",
       "  </tbody>\n",
       "</table>\n",
       "<p>1 rows × 81 columns</p>\n",
       "</div>"
      ],
      "text/plain": [
       "      Order  MS SubClass MS Zoning  Lot Frontage  Lot Area Street Alley  \\\n",
       "1341   1342           20        RM          99.0      5940   Pave   NaN   \n",
       "\n",
       "     Lot Shape Land Contour Utilities  ... Pool Area Pool QC  Fence  \\\n",
       "1341       IR1          Lvl    AllPub  ...         0     NaN  MnPrv   \n",
       "\n",
       "     Misc Feature Misc Val Mo Sold Yr Sold  Sale Type  Sale Condition  \\\n",
       "1341          NaN        0       4    2008      ConLD         Abnorml   \n",
       "\n",
       "      SalePrice  \n",
       "1341      79000  \n",
       "\n",
       "[1 rows x 81 columns]"
      ]
     },
     "execution_count": 30,
     "metadata": {},
     "output_type": "execute_result"
    }
   ],
   "source": [
    "df[df['BsmtFin SF 1'].isnull()]"
   ]
  },
  {
   "cell_type": "code",
   "execution_count": 31,
   "id": "b3b6947a",
   "metadata": {
    "execution": {
     "iopub.execute_input": "2023-08-13T16:37:33.148314Z",
     "iopub.status.busy": "2023-08-13T16:37:33.147898Z",
     "iopub.status.idle": "2023-08-13T16:37:33.174655Z",
     "shell.execute_reply": "2023-08-13T16:37:33.173295Z"
    },
    "papermill": {
     "duration": 0.073242,
     "end_time": "2023-08-13T16:37:33.177163",
     "exception": false,
     "start_time": "2023-08-13T16:37:33.103921",
     "status": "completed"
    },
    "tags": []
   },
   "outputs": [
    {
     "data": {
      "text/html": [
       "<div>\n",
       "<style scoped>\n",
       "    .dataframe tbody tr th:only-of-type {\n",
       "        vertical-align: middle;\n",
       "    }\n",
       "\n",
       "    .dataframe tbody tr th {\n",
       "        vertical-align: top;\n",
       "    }\n",
       "\n",
       "    .dataframe thead th {\n",
       "        text-align: right;\n",
       "    }\n",
       "</style>\n",
       "<table border=\"1\" class=\"dataframe\">\n",
       "  <thead>\n",
       "    <tr style=\"text-align: right;\">\n",
       "      <th></th>\n",
       "      <th>Order</th>\n",
       "      <th>MS SubClass</th>\n",
       "      <th>MS Zoning</th>\n",
       "      <th>Lot Frontage</th>\n",
       "      <th>Lot Area</th>\n",
       "      <th>Street</th>\n",
       "      <th>Alley</th>\n",
       "      <th>Lot Shape</th>\n",
       "      <th>Land Contour</th>\n",
       "      <th>Utilities</th>\n",
       "      <th>...</th>\n",
       "      <th>Pool Area</th>\n",
       "      <th>Pool QC</th>\n",
       "      <th>Fence</th>\n",
       "      <th>Misc Feature</th>\n",
       "      <th>Misc Val</th>\n",
       "      <th>Mo Sold</th>\n",
       "      <th>Yr Sold</th>\n",
       "      <th>Sale Type</th>\n",
       "      <th>Sale Condition</th>\n",
       "      <th>SalePrice</th>\n",
       "    </tr>\n",
       "  </thead>\n",
       "  <tbody>\n",
       "    <tr>\n",
       "      <th>1341</th>\n",
       "      <td>1342</td>\n",
       "      <td>20</td>\n",
       "      <td>RM</td>\n",
       "      <td>99.0</td>\n",
       "      <td>5940</td>\n",
       "      <td>Pave</td>\n",
       "      <td>NaN</td>\n",
       "      <td>IR1</td>\n",
       "      <td>Lvl</td>\n",
       "      <td>AllPub</td>\n",
       "      <td>...</td>\n",
       "      <td>0</td>\n",
       "      <td>NaN</td>\n",
       "      <td>MnPrv</td>\n",
       "      <td>NaN</td>\n",
       "      <td>0</td>\n",
       "      <td>4</td>\n",
       "      <td>2008</td>\n",
       "      <td>ConLD</td>\n",
       "      <td>Abnorml</td>\n",
       "      <td>79000</td>\n",
       "    </tr>\n",
       "    <tr>\n",
       "      <th>1497</th>\n",
       "      <td>1498</td>\n",
       "      <td>20</td>\n",
       "      <td>RL</td>\n",
       "      <td>123.0</td>\n",
       "      <td>47007</td>\n",
       "      <td>Pave</td>\n",
       "      <td>NaN</td>\n",
       "      <td>IR1</td>\n",
       "      <td>Lvl</td>\n",
       "      <td>AllPub</td>\n",
       "      <td>...</td>\n",
       "      <td>0</td>\n",
       "      <td>NaN</td>\n",
       "      <td>NaN</td>\n",
       "      <td>NaN</td>\n",
       "      <td>0</td>\n",
       "      <td>7</td>\n",
       "      <td>2008</td>\n",
       "      <td>WD</td>\n",
       "      <td>Normal</td>\n",
       "      <td>284700</td>\n",
       "    </tr>\n",
       "  </tbody>\n",
       "</table>\n",
       "<p>2 rows × 81 columns</p>\n",
       "</div>"
      ],
      "text/plain": [
       "      Order  MS SubClass MS Zoning  Lot Frontage  Lot Area Street Alley  \\\n",
       "1341   1342           20        RM          99.0      5940   Pave   NaN   \n",
       "1497   1498           20        RL         123.0     47007   Pave   NaN   \n",
       "\n",
       "     Lot Shape Land Contour Utilities  ... Pool Area Pool QC  Fence  \\\n",
       "1341       IR1          Lvl    AllPub  ...         0     NaN  MnPrv   \n",
       "1497       IR1          Lvl    AllPub  ...         0     NaN    NaN   \n",
       "\n",
       "     Misc Feature Misc Val Mo Sold Yr Sold  Sale Type  Sale Condition  \\\n",
       "1341          NaN        0       4    2008      ConLD         Abnorml   \n",
       "1497          NaN        0       7    2008        WD           Normal   \n",
       "\n",
       "      SalePrice  \n",
       "1341      79000  \n",
       "1497     284700  \n",
       "\n",
       "[2 rows x 81 columns]"
      ]
     },
     "execution_count": 31,
     "metadata": {},
     "output_type": "execute_result"
    }
   ],
   "source": [
    "df[df['Bsmt Full Bath'].isnull()]"
   ]
  },
  {
   "cell_type": "code",
   "execution_count": 32,
   "id": "af0c042b",
   "metadata": {
    "execution": {
     "iopub.execute_input": "2023-08-13T16:37:33.263976Z",
     "iopub.status.busy": "2023-08-13T16:37:33.263570Z",
     "iopub.status.idle": "2023-08-13T16:37:33.287861Z",
     "shell.execute_reply": "2023-08-13T16:37:33.286728Z"
    },
    "papermill": {
     "duration": 0.069866,
     "end_time": "2023-08-13T16:37:33.290128",
     "exception": false,
     "start_time": "2023-08-13T16:37:33.220262",
     "status": "completed"
    },
    "tags": []
   },
   "outputs": [
    {
     "data": {
      "text/html": [
       "<div>\n",
       "<style scoped>\n",
       "    .dataframe tbody tr th:only-of-type {\n",
       "        vertical-align: middle;\n",
       "    }\n",
       "\n",
       "    .dataframe tbody tr th {\n",
       "        vertical-align: top;\n",
       "    }\n",
       "\n",
       "    .dataframe thead th {\n",
       "        text-align: right;\n",
       "    }\n",
       "</style>\n",
       "<table border=\"1\" class=\"dataframe\">\n",
       "  <thead>\n",
       "    <tr style=\"text-align: right;\">\n",
       "      <th></th>\n",
       "      <th>Order</th>\n",
       "      <th>MS SubClass</th>\n",
       "      <th>MS Zoning</th>\n",
       "      <th>Lot Frontage</th>\n",
       "      <th>Lot Area</th>\n",
       "      <th>Street</th>\n",
       "      <th>Alley</th>\n",
       "      <th>Lot Shape</th>\n",
       "      <th>Land Contour</th>\n",
       "      <th>Utilities</th>\n",
       "      <th>...</th>\n",
       "      <th>Pool Area</th>\n",
       "      <th>Pool QC</th>\n",
       "      <th>Fence</th>\n",
       "      <th>Misc Feature</th>\n",
       "      <th>Misc Val</th>\n",
       "      <th>Mo Sold</th>\n",
       "      <th>Yr Sold</th>\n",
       "      <th>Sale Type</th>\n",
       "      <th>Sale Condition</th>\n",
       "      <th>SalePrice</th>\n",
       "    </tr>\n",
       "  </thead>\n",
       "  <tbody>\n",
       "    <tr>\n",
       "      <th>1341</th>\n",
       "      <td>1342</td>\n",
       "      <td>20</td>\n",
       "      <td>RM</td>\n",
       "      <td>99.0</td>\n",
       "      <td>5940</td>\n",
       "      <td>Pave</td>\n",
       "      <td>NaN</td>\n",
       "      <td>IR1</td>\n",
       "      <td>Lvl</td>\n",
       "      <td>AllPub</td>\n",
       "      <td>...</td>\n",
       "      <td>0</td>\n",
       "      <td>NaN</td>\n",
       "      <td>MnPrv</td>\n",
       "      <td>NaN</td>\n",
       "      <td>0</td>\n",
       "      <td>4</td>\n",
       "      <td>2008</td>\n",
       "      <td>ConLD</td>\n",
       "      <td>Abnorml</td>\n",
       "      <td>79000</td>\n",
       "    </tr>\n",
       "    <tr>\n",
       "      <th>1497</th>\n",
       "      <td>1498</td>\n",
       "      <td>20</td>\n",
       "      <td>RL</td>\n",
       "      <td>123.0</td>\n",
       "      <td>47007</td>\n",
       "      <td>Pave</td>\n",
       "      <td>NaN</td>\n",
       "      <td>IR1</td>\n",
       "      <td>Lvl</td>\n",
       "      <td>AllPub</td>\n",
       "      <td>...</td>\n",
       "      <td>0</td>\n",
       "      <td>NaN</td>\n",
       "      <td>NaN</td>\n",
       "      <td>NaN</td>\n",
       "      <td>0</td>\n",
       "      <td>7</td>\n",
       "      <td>2008</td>\n",
       "      <td>WD</td>\n",
       "      <td>Normal</td>\n",
       "      <td>284700</td>\n",
       "    </tr>\n",
       "  </tbody>\n",
       "</table>\n",
       "<p>2 rows × 81 columns</p>\n",
       "</div>"
      ],
      "text/plain": [
       "      Order  MS SubClass MS Zoning  Lot Frontage  Lot Area Street Alley  \\\n",
       "1341   1342           20        RM          99.0      5940   Pave   NaN   \n",
       "1497   1498           20        RL         123.0     47007   Pave   NaN   \n",
       "\n",
       "     Lot Shape Land Contour Utilities  ... Pool Area Pool QC  Fence  \\\n",
       "1341       IR1          Lvl    AllPub  ...         0     NaN  MnPrv   \n",
       "1497       IR1          Lvl    AllPub  ...         0     NaN    NaN   \n",
       "\n",
       "     Misc Feature Misc Val Mo Sold Yr Sold  Sale Type  Sale Condition  \\\n",
       "1341          NaN        0       4    2008      ConLD         Abnorml   \n",
       "1497          NaN        0       7    2008        WD           Normal   \n",
       "\n",
       "      SalePrice  \n",
       "1341      79000  \n",
       "1497     284700  \n",
       "\n",
       "[2 rows x 81 columns]"
      ]
     },
     "execution_count": 32,
     "metadata": {},
     "output_type": "execute_result"
    }
   ],
   "source": [
    "df[df['Bsmt Half Bath'].isnull()]"
   ]
  },
  {
   "cell_type": "code",
   "execution_count": 33,
   "id": "21fe8723",
   "metadata": {
    "execution": {
     "iopub.execute_input": "2023-08-13T16:37:33.376796Z",
     "iopub.status.busy": "2023-08-13T16:37:33.376388Z",
     "iopub.status.idle": "2023-08-13T16:37:33.384958Z",
     "shell.execute_reply": "2023-08-13T16:37:33.384054Z"
    },
    "papermill": {
     "duration": 0.054682,
     "end_time": "2023-08-13T16:37:33.387006",
     "exception": false,
     "start_time": "2023-08-13T16:37:33.332324",
     "status": "completed"
    },
    "tags": []
   },
   "outputs": [
    {
     "data": {
      "text/plain": [
       "1341    NaN\n",
       "1497    NaN\n",
       "Name: Bsmt Qual, dtype: object"
      ]
     },
     "execution_count": 33,
     "metadata": {},
     "output_type": "execute_result"
    }
   ],
   "source": [
    "df.iloc[[1341,1497]]['Bsmt Qual']"
   ]
  },
  {
   "cell_type": "markdown",
   "id": "572d7bcd",
   "metadata": {
    "papermill": {
     "duration": 0.042694,
     "end_time": "2023-08-13T16:37:33.472477",
     "exception": false,
     "start_time": "2023-08-13T16:37:33.429783",
     "status": "completed"
    },
    "tags": []
   },
   "source": [
    "<h3 style=\"color:crimson; font-family:verdana; line-height: 1.7em\">Observation :</h3> \n",
    "\n",
    "<p style=\"font-size:18px; font-family:verdana; line-height: 1.7em\">We understand that there is no basement. So its better to logically replace the basement numeric columns with 0 and basement string columns with None</p>"
   ]
  },
  {
   "cell_type": "code",
   "execution_count": 34,
   "id": "7a4c6ec2",
   "metadata": {
    "execution": {
     "iopub.execute_input": "2023-08-13T16:37:33.559746Z",
     "iopub.status.busy": "2023-08-13T16:37:33.559346Z",
     "iopub.status.idle": "2023-08-13T16:37:33.569927Z",
     "shell.execute_reply": "2023-08-13T16:37:33.568540Z"
    },
    "papermill": {
     "duration": 0.057749,
     "end_time": "2023-08-13T16:37:33.572640",
     "exception": false,
     "start_time": "2023-08-13T16:37:33.514891",
     "status": "completed"
    },
    "tags": []
   },
   "outputs": [],
   "source": [
    "# Numerical Basement Data\n",
    "bsmt_num_cols = ['BsmtFin SF 1', 'BsmtFin SF 2', 'Bsmt Unf SF','Total Bsmt SF', 'Bsmt Full Bath', 'Bsmt Half Bath']\n",
    "df[bsmt_num_cols] = df[bsmt_num_cols].fillna(0)"
   ]
  },
  {
   "cell_type": "code",
   "execution_count": 35,
   "id": "98f3f8bb",
   "metadata": {
    "execution": {
     "iopub.execute_input": "2023-08-13T16:37:33.659704Z",
     "iopub.status.busy": "2023-08-13T16:37:33.659287Z",
     "iopub.status.idle": "2023-08-13T16:37:33.679018Z",
     "shell.execute_reply": "2023-08-13T16:37:33.677837Z"
    },
    "papermill": {
     "duration": 0.066936,
     "end_time": "2023-08-13T16:37:33.681976",
     "exception": false,
     "start_time": "2023-08-13T16:37:33.615040",
     "status": "completed"
    },
    "tags": []
   },
   "outputs": [],
   "source": [
    "# String Basement Data\n",
    "bsmt_str_cols =  ['Bsmt Qual', 'Bsmt Cond', 'Bsmt Exposure', 'BsmtFin Type 1', 'BsmtFin Type 2']\n",
    "df[bsmt_str_cols] = df[bsmt_str_cols].fillna('None')"
   ]
  },
  {
   "cell_type": "code",
   "execution_count": 36,
   "id": "c7918383",
   "metadata": {
    "execution": {
     "iopub.execute_input": "2023-08-13T16:37:33.772309Z",
     "iopub.status.busy": "2023-08-13T16:37:33.771923Z",
     "iopub.status.idle": "2023-08-13T16:37:34.184219Z",
     "shell.execute_reply": "2023-08-13T16:37:34.183223Z"
    },
    "papermill": {
     "duration": 0.460069,
     "end_time": "2023-08-13T16:37:34.186661",
     "exception": false,
     "start_time": "2023-08-13T16:37:33.726592",
     "status": "completed"
    },
    "tags": []
   },
   "outputs": [
    {
     "data": {
      "text/plain": [
       "(0.0, 1.0)"
      ]
     },
     "execution_count": 36,
     "metadata": {},
     "output_type": "execute_result"
    },
    {
     "data": {
      "image/png": "[encoded data removed]",
      "text/plain": [
       "<Figure size 640x480 with 1 Axes>"
      ]
     },
     "metadata": {},
     "output_type": "display_data"
    }
   ],
   "source": [
    "percent_nan = percent_missing(df)\n",
    "# Plot the percentage in a barplot\n",
    "sns.barplot(x=percent_nan.index,y=percent_nan)\n",
    "plt.xticks(rotation=90); \n",
    "plt.ylim(0,1)"
   ]
  },
  {
   "cell_type": "markdown",
   "id": "6fc262a2",
   "metadata": {
    "papermill": {
     "duration": 0.04338,
     "end_time": "2023-08-13T16:37:34.274243",
     "exception": false,
     "start_time": "2023-08-13T16:37:34.230863",
     "status": "completed"
    },
    "tags": []
   },
   "source": [
    "<h3 style=\"color:crimson; font-family:verdana; line-height: 1.7em\">Observation :</h3> \n",
    "\n",
    "<p style=\"font-size:18px; font-family:verdana; line-height: 1.7em\">Now with the last 2 columns having less than 1% data missing i.e. Mas Vnr Type and Mas Vnr Area.<br>\n",
    "Lets cheque what are the unique values in Mas Vnr Type</p>"
   ]
  },
  {
   "cell_type": "code",
   "execution_count": 37,
   "id": "e1a9c0a1",
   "metadata": {
    "execution": {
     "iopub.execute_input": "2023-08-13T16:37:34.362946Z",
     "iopub.status.busy": "2023-08-13T16:37:34.361877Z",
     "iopub.status.idle": "2023-08-13T16:37:34.370609Z",
     "shell.execute_reply": "2023-08-13T16:37:34.369537Z"
    },
    "papermill": {
     "duration": 0.055786,
     "end_time": "2023-08-13T16:37:34.373229",
     "exception": false,
     "start_time": "2023-08-13T16:37:34.317443",
     "status": "completed"
    },
    "tags": []
   },
   "outputs": [
    {
     "data": {
      "text/plain": [
       "array(['Stone', 'None', 'BrkFace', nan, 'BrkCmn', 'CBlock'], dtype=object)"
      ]
     },
     "execution_count": 37,
     "metadata": {},
     "output_type": "execute_result"
    }
   ],
   "source": [
    "df['Mas Vnr Type'].unique()"
   ]
  },
  {
   "cell_type": "markdown",
   "id": "6bfb8081",
   "metadata": {
    "papermill": {
     "duration": 0.043342,
     "end_time": "2023-08-13T16:37:34.460298",
     "exception": false,
     "start_time": "2023-08-13T16:37:34.416956",
     "status": "completed"
    },
    "tags": []
   },
   "source": [
    "<h3 style=\"color:crimson; font-family:verdana; line-height: 1.7em\">Observation :</h3>  \n",
    "<p style=\"font-size:18px; font-family:verdana; line-height: 1.7em\">Considering, there is unique value of None in the above result. So it may happen that the missing values of Mas Vnr Type may be just the type None.<br>\n",
    "So we replace the missing Mas Vnr Type by None and also replace Mas Vnr Area by 0.</p>"
   ]
  },
  {
   "cell_type": "code",
   "execution_count": 38,
   "id": "8c89205c",
   "metadata": {
    "execution": {
     "iopub.execute_input": "2023-08-13T16:37:34.548525Z",
     "iopub.status.busy": "2023-08-13T16:37:34.548047Z",
     "iopub.status.idle": "2023-08-13T16:37:34.556514Z",
     "shell.execute_reply": "2023-08-13T16:37:34.555569Z"
    },
    "papermill": {
     "duration": 0.055348,
     "end_time": "2023-08-13T16:37:34.558923",
     "exception": false,
     "start_time": "2023-08-13T16:37:34.503575",
     "status": "completed"
    },
    "tags": []
   },
   "outputs": [],
   "source": [
    "df['Mas Vnr Type'] = df['Mas Vnr Type'].fillna('None')\n",
    "df['Mas Vnr Area'] = df['Mas Vnr Area'].fillna(0)"
   ]
  },
  {
   "cell_type": "code",
   "execution_count": 39,
   "id": "4789c287",
   "metadata": {
    "execution": {
     "iopub.execute_input": "2023-08-13T16:37:34.649347Z",
     "iopub.status.busy": "2023-08-13T16:37:34.647892Z",
     "iopub.status.idle": "2023-08-13T16:37:35.039209Z",
     "shell.execute_reply": "2023-08-13T16:37:35.038048Z"
    },
    "papermill": {
     "duration": 0.44011,
     "end_time": "2023-08-13T16:37:35.042433",
     "exception": false,
     "start_time": "2023-08-13T16:37:34.602323",
     "status": "completed"
    },
    "tags": []
   },
   "outputs": [
    {
     "data": {
      "image/png": "[encoded data removed]",
      "text/plain": [
       "<Figure size 640x480 with 1 Axes>"
      ]
     },
     "metadata": {},
     "output_type": "display_data"
    }
   ],
   "source": [
    "percent_nan = percent_missing(df)\n",
    "# Plot the percentage in a barplot\n",
    "sns.barplot(x=percent_nan.index,y=percent_nan)\n",
    "plt.xticks(rotation=90); "
   ]
  },
  {
   "cell_type": "markdown",
   "id": "c464b78f",
   "metadata": {
    "papermill": {
     "duration": 0.044258,
     "end_time": "2023-08-13T16:37:35.132811",
     "exception": false,
     "start_time": "2023-08-13T16:37:35.088553",
     "status": "completed"
    },
    "tags": []
   },
   "source": [
    "<h3 style=\"color:crimson; font-family:verdana; line-height: 1.7em\">Observation :</h3>  \n",
    "\n",
    "<p style=\"font-size:18px; font-family:verdana; line-height: 1.7em\">So now all our missing data now is more than 1%. We cannot think of atleast dropping them. What options does we have?<br><br></p>\n",
    "\n",
    "<ol style=\"font-size:15px; font-family:verdana; line-height: 1.7em; color:blue\">\n",
    "\n",
    "<li>Dropping the feature columns - Its extremely simple. But its only logical when most of the data such as maybe 99% data is missing. On the flip side, in the future if this column important and we have dropped it, it would really hamper our machine learning model.<br>\n",
    "\n",
    "<li>Filling in missing data - We are artificially changing the ground truth. Must apply transformation to all future data. In a simple case, may be its actual value is 0 and thats why the data is missing. On complex cases, we can replace missing or null values with statistical estimation.\n",
    "</ol>\n",
    "\n",
    "<p style=\"font-size:18px; font-family:verdana; line-height: 1.7em\">So lets start to put our logic.<br><br>\n",
    "From the above chart its quite visible that a no. of garage features are missing. It may be the case that actually there are no garages in the house. Hence, let us give the same treatment that we gave to our basement.</p>"
   ]
  },
  {
   "cell_type": "code",
   "execution_count": 40,
   "id": "7cc7511f",
   "metadata": {
    "execution": {
     "iopub.execute_input": "2023-08-13T16:37:35.224701Z",
     "iopub.status.busy": "2023-08-13T16:37:35.223859Z",
     "iopub.status.idle": "2023-08-13T16:37:35.231561Z",
     "shell.execute_reply": "2023-08-13T16:37:35.230738Z"
    },
    "papermill": {
     "duration": 0.055706,
     "end_time": "2023-08-13T16:37:35.233686",
     "exception": false,
     "start_time": "2023-08-13T16:37:35.177980",
     "status": "completed"
    },
    "tags": []
   },
   "outputs": [
    {
     "data": {
      "text/plain": [
       "array(['Attchd', 'BuiltIn', 'Basment', 'Detchd', nan, 'CarPort', '2Types'],\n",
       "      dtype=object)"
      ]
     },
     "execution_count": 40,
     "metadata": {},
     "output_type": "execute_result"
    }
   ],
   "source": [
    "df['Garage Type'].unique()"
   ]
  },
  {
   "cell_type": "code",
   "execution_count": 41,
   "id": "b047a694",
   "metadata": {
    "execution": {
     "iopub.execute_input": "2023-08-13T16:37:35.324689Z",
     "iopub.status.busy": "2023-08-13T16:37:35.323616Z",
     "iopub.status.idle": "2023-08-13T16:37:35.343013Z",
     "shell.execute_reply": "2023-08-13T16:37:35.341682Z"
    },
    "papermill": {
     "duration": 0.067736,
     "end_time": "2023-08-13T16:37:35.345781",
     "exception": false,
     "start_time": "2023-08-13T16:37:35.278045",
     "status": "completed"
    },
    "tags": []
   },
   "outputs": [],
   "source": [
    "# Garage String Columns\n",
    "gar_str_cols = ['Garage Type','Garage Finish','Garage Qual','Garage Cond']\n",
    "df[gar_str_cols] = df[gar_str_cols].fillna('None')"
   ]
  },
  {
   "cell_type": "code",
   "execution_count": 42,
   "id": "84efc4f6",
   "metadata": {
    "execution": {
     "iopub.execute_input": "2023-08-13T16:37:35.435872Z",
     "iopub.status.busy": "2023-08-13T16:37:35.435442Z",
     "iopub.status.idle": "2023-08-13T16:37:35.441793Z",
     "shell.execute_reply": "2023-08-13T16:37:35.440535Z"
    },
    "papermill": {
     "duration": 0.054086,
     "end_time": "2023-08-13T16:37:35.444281",
     "exception": false,
     "start_time": "2023-08-13T16:37:35.390195",
     "status": "completed"
    },
    "tags": []
   },
   "outputs": [],
   "source": [
    "# Garage Numeric Columns\n",
    "df['Garage Yr Blt'] = df['Garage Yr Blt'].fillna(0)"
   ]
  },
  {
   "cell_type": "code",
   "execution_count": 43,
   "id": "b9f57d54",
   "metadata": {
    "execution": {
     "iopub.execute_input": "2023-08-13T16:37:35.535710Z",
     "iopub.status.busy": "2023-08-13T16:37:35.535279Z",
     "iopub.status.idle": "2023-08-13T16:37:35.855542Z",
     "shell.execute_reply": "2023-08-13T16:37:35.854383Z"
    },
    "papermill": {
     "duration": 0.369873,
     "end_time": "2023-08-13T16:37:35.858034",
     "exception": false,
     "start_time": "2023-08-13T16:37:35.488161",
     "status": "completed"
    },
    "tags": []
   },
   "outputs": [
    {
     "data": {
      "image/png": "[encoded data removed]",
      "text/plain": [
       "<Figure size 640x480 with 1 Axes>"
      ]
     },
     "metadata": {},
     "output_type": "display_data"
    }
   ],
   "source": [
    "percent_nan = percent_missing(df)\n",
    "# Plot the percentage in a barplot\n",
    "sns.barplot(x=percent_nan.index,y=percent_nan)\n",
    "plt.xticks(rotation=90); "
   ]
  },
  {
   "cell_type": "markdown",
   "id": "937fbe0e",
   "metadata": {
    "papermill": {
     "duration": 0.044945,
     "end_time": "2023-08-13T16:37:35.947677",
     "exception": false,
     "start_time": "2023-08-13T16:37:35.902732",
     "status": "completed"
    },
    "tags": []
   },
   "source": [
    "<h3 style=\"color:crimson; font-family:verdana; line-height: 1.7em\">Observation :</h3> \n",
    "\n",
    "<p style=\"font-size:18px; font-family:verdana; line-height: 1.7em\">Again for features such as Fence, Alley, Misc Features and Pool QC we see that more than 80% of the data is missing.<br>\n",
    "It may be the case that the house may not have a pool or Alley. So we can either replace it by something like None or 0. But again most of the data is missing.<br><br>\n",
    "Se let's actually drop the features from our dataset.</p>"
   ]
  },
  {
   "cell_type": "code",
   "execution_count": 44,
   "id": "43561817",
   "metadata": {
    "execution": {
     "iopub.execute_input": "2023-08-13T16:37:36.040505Z",
     "iopub.status.busy": "2023-08-13T16:37:36.040088Z",
     "iopub.status.idle": "2023-08-13T16:37:36.049020Z",
     "shell.execute_reply": "2023-08-13T16:37:36.047868Z"
    },
    "papermill": {
     "duration": 0.059844,
     "end_time": "2023-08-13T16:37:36.051602",
     "exception": false,
     "start_time": "2023-08-13T16:37:35.991758",
     "status": "completed"
    },
    "tags": []
   },
   "outputs": [],
   "source": [
    "df = df.drop(['Fence','Alley','Misc Feature','Pool QC'],axis=1)"
   ]
  },
  {
   "cell_type": "code",
   "execution_count": 45,
   "id": "623d34bf",
   "metadata": {
    "execution": {
     "iopub.execute_input": "2023-08-13T16:37:36.145821Z",
     "iopub.status.busy": "2023-08-13T16:37:36.144741Z",
     "iopub.status.idle": "2023-08-13T16:37:36.413108Z",
     "shell.execute_reply": "2023-08-13T16:37:36.411798Z"
    },
    "papermill": {
     "duration": 0.317948,
     "end_time": "2023-08-13T16:37:36.415622",
     "exception": false,
     "start_time": "2023-08-13T16:37:36.097674",
     "status": "completed"
    },
    "tags": []
   },
   "outputs": [
    {
     "data": {
      "image/png": "[encoded data removed]",
      "text/plain": [
       "<Figure size 640x480 with 1 Axes>"
      ]
     },
     "metadata": {},
     "output_type": "display_data"
    }
   ],
   "source": [
    "percent_nan = percent_missing(df)\n",
    "# Plot the percentage in a barplot\n",
    "sns.barplot(x=percent_nan.index,y=percent_nan)\n",
    "plt.xticks(rotation=90); "
   ]
  },
  {
   "cell_type": "markdown",
   "id": "44c5b708",
   "metadata": {
    "papermill": {
     "duration": 0.044199,
     "end_time": "2023-08-13T16:37:36.504795",
     "exception": false,
     "start_time": "2023-08-13T16:37:36.460596",
     "status": "completed"
    },
    "tags": []
   },
   "source": [
    "<h3 style=\"color:crimson; font-family:verdana; line-height: 1.7em\">Observation :</h3> \n",
    "\n",
    "<p style=\"font-size:18px; font-family:verdana; line-height: 1.7em\">At last, we are to the last 2 columns of our missing data. Its inbetween the extremes. So we need to be extra careful.<br><br>\n",
    "Lets explore.</p>"
   ]
  },
  {
   "cell_type": "code",
   "execution_count": 46,
   "id": "015620d9",
   "metadata": {
    "execution": {
     "iopub.execute_input": "2023-08-13T16:37:36.595851Z",
     "iopub.status.busy": "2023-08-13T16:37:36.595420Z",
     "iopub.status.idle": "2023-08-13T16:37:36.605731Z",
     "shell.execute_reply": "2023-08-13T16:37:36.604620Z"
    },
    "papermill": {
     "duration": 0.058682,
     "end_time": "2023-08-13T16:37:36.607927",
     "exception": false,
     "start_time": "2023-08-13T16:37:36.549245",
     "status": "completed"
    },
    "tags": []
   },
   "outputs": [
    {
     "data": {
      "text/plain": [
       "Gd    741\n",
       "TA    600\n",
       "Fa     75\n",
       "Po     46\n",
       "Ex     43\n",
       "Name: Fireplace Qu, dtype: int64"
      ]
     },
     "execution_count": 46,
     "metadata": {},
     "output_type": "execute_result"
    }
   ],
   "source": [
    "df['Fireplace Qu'].value_counts()"
   ]
  },
  {
   "cell_type": "code",
   "execution_count": 47,
   "id": "4e08bf51",
   "metadata": {
    "execution": {
     "iopub.execute_input": "2023-08-13T16:37:36.700524Z",
     "iopub.status.busy": "2023-08-13T16:37:36.699647Z",
     "iopub.status.idle": "2023-08-13T16:37:36.710791Z",
     "shell.execute_reply": "2023-08-13T16:37:36.709808Z"
    },
    "papermill": {
     "duration": 0.060447,
     "end_time": "2023-08-13T16:37:36.712951",
     "exception": false,
     "start_time": "2023-08-13T16:37:36.652504",
     "status": "completed"
    },
    "tags": []
   },
   "outputs": [
    {
     "data": {
      "text/plain": [
       "60.0     276\n",
       "80.0     137\n",
       "70.0     133\n",
       "50.0     116\n",
       "75.0     105\n",
       "        ... \n",
       "119.0      1\n",
       "137.0      1\n",
       "25.0       1\n",
       "152.0      1\n",
       "133.0      1\n",
       "Name: Lot Frontage, Length: 128, dtype: int64"
      ]
     },
     "execution_count": 47,
     "metadata": {},
     "output_type": "execute_result"
    }
   ],
   "source": [
    "df['Lot Frontage'].value_counts()"
   ]
  },
  {
   "cell_type": "markdown",
   "id": "cd559a71",
   "metadata": {
    "papermill": {
     "duration": 0.044571,
     "end_time": "2023-08-13T16:37:36.802430",
     "exception": false,
     "start_time": "2023-08-13T16:37:36.757859",
     "status": "completed"
    },
    "tags": []
   },
   "source": [
    "<h3 style=\"color:crimson; font-family:verdana; line-height: 1.7em\">Observation :</h3>  \n",
    "\n",
    "<p style=\"font-size:18px; font-family:verdana; line-height: 1.7em\">From the above, its evident that Fireplace Qu has String and maybe for the missing data there is no fireplace. So we will replace the missing values by none. <br><br>\n",
    "But in case of Lot frontage, its a numeric value with a lot of variations. From the data set and doing some *googling and kaggling*, we come to understand that this column may be somewhat linked to Neighborhood Column. So we will check that too.</p>"
   ]
  },
  {
   "cell_type": "code",
   "execution_count": 48,
   "id": "22124a2d",
   "metadata": {
    "execution": {
     "iopub.execute_input": "2023-08-13T16:37:36.894866Z",
     "iopub.status.busy": "2023-08-13T16:37:36.894058Z",
     "iopub.status.idle": "2023-08-13T16:37:36.901485Z",
     "shell.execute_reply": "2023-08-13T16:37:36.900595Z"
    },
    "papermill": {
     "duration": 0.056526,
     "end_time": "2023-08-13T16:37:36.904161",
     "exception": false,
     "start_time": "2023-08-13T16:37:36.847635",
     "status": "completed"
    },
    "tags": []
   },
   "outputs": [],
   "source": [
    "df['Fireplace Qu'] = df['Fireplace Qu'].fillna('None')"
   ]
  },
  {
   "cell_type": "code",
   "execution_count": 49,
   "id": "f99011e6",
   "metadata": {
    "execution": {
     "iopub.execute_input": "2023-08-13T16:37:36.996383Z",
     "iopub.status.busy": "2023-08-13T16:37:36.995581Z",
     "iopub.status.idle": "2023-08-13T16:37:38.151446Z",
     "shell.execute_reply": "2023-08-13T16:37:38.150107Z"
    },
    "papermill": {
     "duration": 1.206111,
     "end_time": "2023-08-13T16:37:38.155346",
     "exception": false,
     "start_time": "2023-08-13T16:37:36.949235",
     "status": "completed"
    },
    "tags": []
   },
   "outputs": [
    {
     "data": {
      "text/plain": [
       "<Axes: xlabel='Lot Frontage', ylabel='Neighborhood'>"
      ]
     },
     "execution_count": 49,
     "metadata": {},
     "output_type": "execute_result"
    },
    {
     "data": {
      "image/png": "[encoded data removed]",
      "text/plain": [
       "<Figure size 1600x2400 with 1 Axes>"
      ]
     },
     "metadata": {},
     "output_type": "display_data"
    }
   ],
   "source": [
    "plt.figure(figsize=(8,12),dpi=200) # To make the plot a bit taller for better visualisation\n",
    "sns.boxplot(x='Lot Frontage',y='Neighborhood',data=df,orient='h')"
   ]
  },
  {
   "cell_type": "markdown",
   "id": "29f6b5ec",
   "metadata": {
    "papermill": {
     "duration": 0.047248,
     "end_time": "2023-08-13T16:37:38.251006",
     "exception": false,
     "start_time": "2023-08-13T16:37:38.203758",
     "status": "completed"
    },
    "tags": []
   },
   "source": [
    "<h3 style=\"color:crimson; font-family:verdana; line-height: 1.7em\">Observation :</h3> \n",
    "\n",
    "<p style=\"font-size:18px; font-family:verdana; line-height: 1.7em\">Though there are a lot of outliers, its not too illogical to assume that the same neighbourhoods will have similar lot frontage.<br>\n",
    "So we decide to put the average lot frontage of that neighborhood into the missing values of Lot Frontage.</p>"
   ]
  },
  {
   "cell_type": "code",
   "execution_count": 50,
   "id": "2834eb62",
   "metadata": {
    "execution": {
     "iopub.execute_input": "2023-08-13T16:37:38.349319Z",
     "iopub.status.busy": "2023-08-13T16:37:38.348937Z",
     "iopub.status.idle": "2023-08-13T16:37:38.363364Z",
     "shell.execute_reply": "2023-08-13T16:37:38.362518Z"
    },
    "papermill": {
     "duration": 0.066002,
     "end_time": "2023-08-13T16:37:38.365521",
     "exception": false,
     "start_time": "2023-08-13T16:37:38.299519",
     "status": "completed"
    },
    "tags": []
   },
   "outputs": [
    {
     "data": {
      "text/plain": [
       "Neighborhood\n",
       "Blmngtn    46.900000\n",
       "Blueste    27.300000\n",
       "BrDale     21.500000\n",
       "BrkSide    55.789474\n",
       "ClearCr    88.150000\n",
       "CollgCr    71.336364\n",
       "Crawfor    69.951807\n",
       "Edwards    64.794286\n",
       "Gilbert    74.207207\n",
       "Greens     41.000000\n",
       "GrnHill          NaN\n",
       "IDOTRR     62.383721\n",
       "Landmrk          NaN\n",
       "MeadowV    25.606061\n",
       "Mitchel    75.144444\n",
       "NAmes      75.210667\n",
       "NPkVill    28.142857\n",
       "NWAmes     81.517647\n",
       "NoRidge    91.629630\n",
       "NridgHt    84.184049\n",
       "OldTown    61.777293\n",
       "SWISU      59.068182\n",
       "Sawyer     74.551020\n",
       "SawyerW    70.669811\n",
       "Somerst    64.549383\n",
       "StoneBr    62.173913\n",
       "Timber     81.303571\n",
       "Veenker    72.000000\n",
       "Name: Lot Frontage, dtype: float64"
      ]
     },
     "execution_count": 50,
     "metadata": {},
     "output_type": "execute_result"
    }
   ],
   "source": [
    "df.groupby('Neighborhood')['Lot Frontage'].mean()"
   ]
  },
  {
   "cell_type": "code",
   "execution_count": 51,
   "id": "96b33f2b",
   "metadata": {
    "execution": {
     "iopub.execute_input": "2023-08-13T16:37:38.465082Z",
     "iopub.status.busy": "2023-08-13T16:37:38.464349Z",
     "iopub.status.idle": "2023-08-13T16:37:38.487351Z",
     "shell.execute_reply": "2023-08-13T16:37:38.485877Z"
    },
    "papermill": {
     "duration": 0.075723,
     "end_time": "2023-08-13T16:37:38.490408",
     "exception": false,
     "start_time": "2023-08-13T16:37:38.414685",
     "status": "completed"
    },
    "tags": []
   },
   "outputs": [],
   "source": [
    "df['Lot Frontage'] = df.groupby('Neighborhood')['Lot Frontage'].transform(lambda value: value.fillna(value.mean()))"
   ]
  },
  {
   "cell_type": "code",
   "execution_count": 52,
   "id": "a854f933",
   "metadata": {
    "execution": {
     "iopub.execute_input": "2023-08-13T16:37:38.592717Z",
     "iopub.status.busy": "2023-08-13T16:37:38.592038Z",
     "iopub.status.idle": "2023-08-13T16:37:38.640061Z",
     "shell.execute_reply": "2023-08-13T16:37:38.638869Z"
    },
    "papermill": {
     "duration": 0.100668,
     "end_time": "2023-08-13T16:37:38.642432",
     "exception": false,
     "start_time": "2023-08-13T16:37:38.541764",
     "status": "completed"
    },
    "tags": []
   },
   "outputs": [
    {
     "data": {
      "text/plain": [
       "Lot Frontage    0.102564\n",
       "dtype: float64"
      ]
     },
     "execution_count": 52,
     "metadata": {},
     "output_type": "execute_result"
    }
   ],
   "source": [
    "percent_nan = percent_missing(df)\n",
    "percent_nan"
   ]
  },
  {
   "cell_type": "code",
   "execution_count": 53,
   "id": "bdc91c18",
   "metadata": {
    "execution": {
     "iopub.execute_input": "2023-08-13T16:37:38.743061Z",
     "iopub.status.busy": "2023-08-13T16:37:38.742634Z",
     "iopub.status.idle": "2023-08-13T16:37:38.791931Z",
     "shell.execute_reply": "2023-08-13T16:37:38.790560Z"
    },
    "papermill": {
     "duration": 0.103823,
     "end_time": "2023-08-13T16:37:38.794727",
     "exception": false,
     "start_time": "2023-08-13T16:37:38.690904",
     "status": "completed"
    },
    "tags": []
   },
   "outputs": [
    {
     "data": {
      "text/plain": [
       "Order             0\n",
       "MS SubClass       0\n",
       "MS Zoning         0\n",
       "Lot Frontage      3\n",
       "Lot Area          0\n",
       "                 ..\n",
       "Mo Sold           0\n",
       "Yr Sold           0\n",
       "Sale Type         0\n",
       "Sale Condition    0\n",
       "SalePrice         0\n",
       "Length: 77, dtype: int64"
      ]
     },
     "execution_count": 53,
     "metadata": {},
     "output_type": "execute_result"
    }
   ],
   "source": [
    "df.isnull().sum()"
   ]
  },
  {
   "cell_type": "markdown",
   "id": "a9220893",
   "metadata": {
    "papermill": {
     "duration": 0.04879,
     "end_time": "2023-08-13T16:37:38.891948",
     "exception": false,
     "start_time": "2023-08-13T16:37:38.843158",
     "status": "completed"
    },
    "tags": []
   },
   "source": [
    "<h3 style=\"color:crimson; font-family:verdana; line-height: 1.7em\">Observation :</h3>  \n",
    "\n",
    "<p style=\"font-size:18px; font-family:verdana; line-height: 1.7em\">So we have still 3 missing values of Lot Frontage. If we take a closure look at the mean for each neighborhood, we find there are neighborhoods GrnHill and Lndmark which has means as NaN.<br><br>\n",
    "It may be that the Lot doesnot have a frontage in these neighborhoods. So we replace them as 0.</p>"
   ]
  },
  {
   "cell_type": "code",
   "execution_count": 54,
   "id": "841a4000",
   "metadata": {
    "execution": {
     "iopub.execute_input": "2023-08-13T16:37:38.991052Z",
     "iopub.status.busy": "2023-08-13T16:37:38.990360Z",
     "iopub.status.idle": "2023-08-13T16:37:38.996304Z",
     "shell.execute_reply": "2023-08-13T16:37:38.995352Z"
    },
    "papermill": {
     "duration": 0.058189,
     "end_time": "2023-08-13T16:37:38.998731",
     "exception": false,
     "start_time": "2023-08-13T16:37:38.940542",
     "status": "completed"
    },
    "tags": []
   },
   "outputs": [],
   "source": [
    "df['Lot Frontage'] = df['Lot Frontage'].fillna(0)"
   ]
  },
  {
   "cell_type": "code",
   "execution_count": 55,
   "id": "22ad4576",
   "metadata": {
    "execution": {
     "iopub.execute_input": "2023-08-13T16:37:39.098690Z",
     "iopub.status.busy": "2023-08-13T16:37:39.098262Z",
     "iopub.status.idle": "2023-08-13T16:37:39.144837Z",
     "shell.execute_reply": "2023-08-13T16:37:39.143547Z"
    },
    "papermill": {
     "duration": 0.099768,
     "end_time": "2023-08-13T16:37:39.147466",
     "exception": false,
     "start_time": "2023-08-13T16:37:39.047698",
     "status": "completed"
    },
    "tags": []
   },
   "outputs": [
    {
     "data": {
      "text/plain": [
       "Series([], dtype: float64)"
      ]
     },
     "execution_count": 55,
     "metadata": {},
     "output_type": "execute_result"
    }
   ],
   "source": [
    "percent_nan = percent_missing(df)\n",
    "percent_nan"
   ]
  },
  {
   "cell_type": "markdown",
   "id": "5a7fc8f1",
   "metadata": {
    "papermill": {
     "duration": 0.048731,
     "end_time": "2023-08-13T16:37:39.246322",
     "exception": false,
     "start_time": "2023-08-13T16:37:39.197591",
     "status": "completed"
    },
    "tags": []
   },
   "source": [
    "# <center style=\"color:crimson; font-family:verdana; line-height: 1.7em\">DATA CLEANUP - TRANSFORMMING DATA</center>\n",
    "\n",
    "<p style=\"font-size:18px; font-family:verdana; line-height: 1.7em\">We will try to work on some categorical data. We will have to find out the categorical fields.<br>\n",
    "But to start with, As we can see MS SubClass, its a categorical column in a integer format. So we will convert the column into type String.<br>\n",
    "Then we will break the dataframe into strings and numeric columns. We will replace the strings columns with categorical columns with Hot Encoding and finally join back the same to numeric columns to complete the dataframe.</p>"
   ]
  },
  {
   "cell_type": "code",
   "execution_count": 56,
   "id": "b9351d31",
   "metadata": {
    "execution": {
     "iopub.execute_input": "2023-08-13T16:37:39.349783Z",
     "iopub.status.busy": "2023-08-13T16:37:39.349019Z",
     "iopub.status.idle": "2023-08-13T16:37:39.356153Z",
     "shell.execute_reply": "2023-08-13T16:37:39.355096Z"
    },
    "papermill": {
     "duration": 0.061257,
     "end_time": "2023-08-13T16:37:39.358817",
     "exception": false,
     "start_time": "2023-08-13T16:37:39.297560",
     "status": "completed"
    },
    "tags": []
   },
   "outputs": [],
   "source": [
    "# Convert to string\n",
    "df['MS SubClass'] = df['MS SubClass'].apply(str)"
   ]
  },
  {
   "cell_type": "code",
   "execution_count": 57,
   "id": "e85472dd",
   "metadata": {
    "execution": {
     "iopub.execute_input": "2023-08-13T16:37:39.465077Z",
     "iopub.status.busy": "2023-08-13T16:37:39.464654Z",
     "iopub.status.idle": "2023-08-13T16:37:39.472844Z",
     "shell.execute_reply": "2023-08-13T16:37:39.471905Z"
    },
    "papermill": {
     "duration": 0.063759,
     "end_time": "2023-08-13T16:37:39.476090",
     "exception": false,
     "start_time": "2023-08-13T16:37:39.412331",
     "status": "completed"
    },
    "tags": []
   },
   "outputs": [],
   "source": [
    "# Return all columns with String \n",
    "object_df = df.select_dtypes(include='object')"
   ]
  },
  {
   "cell_type": "code",
   "execution_count": 58,
   "id": "4334da9b",
   "metadata": {
    "execution": {
     "iopub.execute_input": "2023-08-13T16:37:39.580235Z",
     "iopub.status.busy": "2023-08-13T16:37:39.579039Z",
     "iopub.status.idle": "2023-08-13T16:37:39.585337Z",
     "shell.execute_reply": "2023-08-13T16:37:39.584029Z"
    },
    "papermill": {
     "duration": 0.060157,
     "end_time": "2023-08-13T16:37:39.588138",
     "exception": false,
     "start_time": "2023-08-13T16:37:39.527981",
     "status": "completed"
    },
    "tags": []
   },
   "outputs": [],
   "source": [
    "# Return all columns with Numerical Values\n",
    "numeric_df = df.select_dtypes(exclude='object')"
   ]
  },
  {
   "cell_type": "code",
   "execution_count": 59,
   "id": "f397527e",
   "metadata": {
    "execution": {
     "iopub.execute_input": "2023-08-13T16:37:39.690097Z",
     "iopub.status.busy": "2023-08-13T16:37:39.688908Z",
     "iopub.status.idle": "2023-08-13T16:37:39.745980Z",
     "shell.execute_reply": "2023-08-13T16:37:39.744305Z"
    },
    "papermill": {
     "duration": 0.111202,
     "end_time": "2023-08-13T16:37:39.749080",
     "exception": false,
     "start_time": "2023-08-13T16:37:39.637878",
     "status": "completed"
    },
    "tags": []
   },
   "outputs": [],
   "source": [
    "# Replace with dummy variables\n",
    "df_objects_dummies = pd.get_dummies(object_df,drop_first=True)"
   ]
  },
  {
   "cell_type": "code",
   "execution_count": 60,
   "id": "eff03525",
   "metadata": {
    "execution": {
     "iopub.execute_input": "2023-08-13T16:37:39.849680Z",
     "iopub.status.busy": "2023-08-13T16:37:39.848485Z",
     "iopub.status.idle": "2023-08-13T16:37:39.856008Z",
     "shell.execute_reply": "2023-08-13T16:37:39.855082Z"
    },
    "papermill": {
     "duration": 0.060604,
     "end_time": "2023-08-13T16:37:39.858428",
     "exception": false,
     "start_time": "2023-08-13T16:37:39.797824",
     "status": "completed"
    },
    "tags": []
   },
   "outputs": [],
   "source": [
    "# Concatenate the object with string to complete the dataframe\n",
    "final_df = pd.concat([numeric_df,df_objects_dummies], axis=1)"
   ]
  },
  {
   "cell_type": "code",
   "execution_count": 61,
   "id": "e1397896",
   "metadata": {
    "execution": {
     "iopub.execute_input": "2023-08-13T16:37:39.958848Z",
     "iopub.status.busy": "2023-08-13T16:37:39.957645Z",
     "iopub.status.idle": "2023-08-13T16:37:39.966017Z",
     "shell.execute_reply": "2023-08-13T16:37:39.965128Z"
    },
    "papermill": {
     "duration": 0.061272,
     "end_time": "2023-08-13T16:37:39.968315",
     "exception": false,
     "start_time": "2023-08-13T16:37:39.907043",
     "status": "completed"
    },
    "tags": []
   },
   "outputs": [],
   "source": [
    "# Drop order column. Its just the index\n",
    "final_df = final_df.drop('Order',axis=1)"
   ]
  },
  {
   "cell_type": "code",
   "execution_count": 62,
   "id": "ff89b4fb",
   "metadata": {
    "execution": {
     "iopub.execute_input": "2023-08-13T16:37:40.068509Z",
     "iopub.status.busy": "2023-08-13T16:37:40.067892Z",
     "iopub.status.idle": "2023-08-13T16:37:40.092590Z",
     "shell.execute_reply": "2023-08-13T16:37:40.091388Z"
    },
    "papermill": {
     "duration": 0.078156,
     "end_time": "2023-08-13T16:37:40.094899",
     "exception": false,
     "start_time": "2023-08-13T16:37:40.016743",
     "status": "completed"
    },
    "tags": []
   },
   "outputs": [
    {
     "data": {
      "text/html": [
       "<div>\n",
       "<style scoped>\n",
       "    .dataframe tbody tr th:only-of-type {\n",
       "        vertical-align: middle;\n",
       "    }\n",
       "\n",
       "    .dataframe tbody tr th {\n",
       "        vertical-align: top;\n",
       "    }\n",
       "\n",
       "    .dataframe thead th {\n",
       "        text-align: right;\n",
       "    }\n",
       "</style>\n",
       "<table border=\"1\" class=\"dataframe\">\n",
       "  <thead>\n",
       "    <tr style=\"text-align: right;\">\n",
       "      <th></th>\n",
       "      <th>Lot Frontage</th>\n",
       "      <th>Lot Area</th>\n",
       "      <th>Overall Qual</th>\n",
       "      <th>Overall Cond</th>\n",
       "      <th>Year Built</th>\n",
       "      <th>Year Remod/Add</th>\n",
       "      <th>Mas Vnr Area</th>\n",
       "      <th>BsmtFin SF 1</th>\n",
       "      <th>BsmtFin SF 2</th>\n",
       "      <th>Bsmt Unf SF</th>\n",
       "      <th>...</th>\n",
       "      <th>Sale Type_ConLw</th>\n",
       "      <th>Sale Type_New</th>\n",
       "      <th>Sale Type_Oth</th>\n",
       "      <th>Sale Type_VWD</th>\n",
       "      <th>Sale Type_WD</th>\n",
       "      <th>Sale Condition_AdjLand</th>\n",
       "      <th>Sale Condition_Alloca</th>\n",
       "      <th>Sale Condition_Family</th>\n",
       "      <th>Sale Condition_Normal</th>\n",
       "      <th>Sale Condition_Partial</th>\n",
       "    </tr>\n",
       "  </thead>\n",
       "  <tbody>\n",
       "    <tr>\n",
       "      <th>0</th>\n",
       "      <td>141.0</td>\n",
       "      <td>31770</td>\n",
       "      <td>6</td>\n",
       "      <td>5</td>\n",
       "      <td>1960</td>\n",
       "      <td>1960</td>\n",
       "      <td>112.0</td>\n",
       "      <td>639.0</td>\n",
       "      <td>0.0</td>\n",
       "      <td>441.0</td>\n",
       "      <td>...</td>\n",
       "      <td>0</td>\n",
       "      <td>0</td>\n",
       "      <td>0</td>\n",
       "      <td>0</td>\n",
       "      <td>1</td>\n",
       "      <td>0</td>\n",
       "      <td>0</td>\n",
       "      <td>0</td>\n",
       "      <td>1</td>\n",
       "      <td>0</td>\n",
       "    </tr>\n",
       "    <tr>\n",
       "      <th>1</th>\n",
       "      <td>80.0</td>\n",
       "      <td>11622</td>\n",
       "      <td>5</td>\n",
       "      <td>6</td>\n",
       "      <td>1961</td>\n",
       "      <td>1961</td>\n",
       "      <td>0.0</td>\n",
       "      <td>468.0</td>\n",
       "      <td>144.0</td>\n",
       "      <td>270.0</td>\n",
       "      <td>...</td>\n",
       "      <td>0</td>\n",
       "      <td>0</td>\n",
       "      <td>0</td>\n",
       "      <td>0</td>\n",
       "      <td>1</td>\n",
       "      <td>0</td>\n",
       "      <td>0</td>\n",
       "      <td>0</td>\n",
       "      <td>1</td>\n",
       "      <td>0</td>\n",
       "    </tr>\n",
       "    <tr>\n",
       "      <th>2</th>\n",
       "      <td>81.0</td>\n",
       "      <td>14267</td>\n",
       "      <td>6</td>\n",
       "      <td>6</td>\n",
       "      <td>1958</td>\n",
       "      <td>1958</td>\n",
       "      <td>108.0</td>\n",
       "      <td>923.0</td>\n",
       "      <td>0.0</td>\n",
       "      <td>406.0</td>\n",
       "      <td>...</td>\n",
       "      <td>0</td>\n",
       "      <td>0</td>\n",
       "      <td>0</td>\n",
       "      <td>0</td>\n",
       "      <td>1</td>\n",
       "      <td>0</td>\n",
       "      <td>0</td>\n",
       "      <td>0</td>\n",
       "      <td>1</td>\n",
       "      <td>0</td>\n",
       "    </tr>\n",
       "    <tr>\n",
       "      <th>3</th>\n",
       "      <td>93.0</td>\n",
       "      <td>11160</td>\n",
       "      <td>7</td>\n",
       "      <td>5</td>\n",
       "      <td>1968</td>\n",
       "      <td>1968</td>\n",
       "      <td>0.0</td>\n",
       "      <td>1065.0</td>\n",
       "      <td>0.0</td>\n",
       "      <td>1045.0</td>\n",
       "      <td>...</td>\n",
       "      <td>0</td>\n",
       "      <td>0</td>\n",
       "      <td>0</td>\n",
       "      <td>0</td>\n",
       "      <td>1</td>\n",
       "      <td>0</td>\n",
       "      <td>0</td>\n",
       "      <td>0</td>\n",
       "      <td>1</td>\n",
       "      <td>0</td>\n",
       "    </tr>\n",
       "    <tr>\n",
       "      <th>4</th>\n",
       "      <td>74.0</td>\n",
       "      <td>13830</td>\n",
       "      <td>5</td>\n",
       "      <td>5</td>\n",
       "      <td>1997</td>\n",
       "      <td>1998</td>\n",
       "      <td>0.0</td>\n",
       "      <td>791.0</td>\n",
       "      <td>0.0</td>\n",
       "      <td>137.0</td>\n",
       "      <td>...</td>\n",
       "      <td>0</td>\n",
       "      <td>0</td>\n",
       "      <td>0</td>\n",
       "      <td>0</td>\n",
       "      <td>1</td>\n",
       "      <td>0</td>\n",
       "      <td>0</td>\n",
       "      <td>0</td>\n",
       "      <td>1</td>\n",
       "      <td>0</td>\n",
       "    </tr>\n",
       "  </tbody>\n",
       "</table>\n",
       "<p>5 rows × 274 columns</p>\n",
       "</div>"
      ],
      "text/plain": [
       "   Lot Frontage  Lot Area  Overall Qual  Overall Cond  Year Built  \\\n",
       "0         141.0     31770             6             5        1960   \n",
       "1          80.0     11622             5             6        1961   \n",
       "2          81.0     14267             6             6        1958   \n",
       "3          93.0     11160             7             5        1968   \n",
       "4          74.0     13830             5             5        1997   \n",
       "\n",
       "   Year Remod/Add  Mas Vnr Area  BsmtFin SF 1  BsmtFin SF 2  Bsmt Unf SF  ...  \\\n",
       "0            1960         112.0         639.0           0.0        441.0  ...   \n",
       "1            1961           0.0         468.0         144.0        270.0  ...   \n",
       "2            1958         108.0         923.0           0.0        406.0  ...   \n",
       "3            1968           0.0        1065.0           0.0       1045.0  ...   \n",
       "4            1998           0.0         791.0           0.0        137.0  ...   \n",
       "\n",
       "   Sale Type_ConLw  Sale Type_New  Sale Type_Oth  Sale Type_VWD  \\\n",
       "0                0              0              0              0   \n",
       "1                0              0              0              0   \n",
       "2                0              0              0              0   \n",
       "3                0              0              0              0   \n",
       "4                0              0              0              0   \n",
       "\n",
       "   Sale Type_WD   Sale Condition_AdjLand  Sale Condition_Alloca  \\\n",
       "0              1                       0                      0   \n",
       "1              1                       0                      0   \n",
       "2              1                       0                      0   \n",
       "3              1                       0                      0   \n",
       "4              1                       0                      0   \n",
       "\n",
       "   Sale Condition_Family  Sale Condition_Normal  Sale Condition_Partial  \n",
       "0                      0                      1                       0  \n",
       "1                      0                      1                       0  \n",
       "2                      0                      1                       0  \n",
       "3                      0                      1                       0  \n",
       "4                      0                      1                       0  \n",
       "\n",
       "[5 rows x 274 columns]"
      ]
     },
     "execution_count": 62,
     "metadata": {},
     "output_type": "execute_result"
    }
   ],
   "source": [
    "final_df.head()"
   ]
  },
  {
   "cell_type": "markdown",
   "id": "b9eae22c",
   "metadata": {
    "papermill": {
     "duration": 0.049963,
     "end_time": "2023-08-13T16:37:40.194870",
     "exception": false,
     "start_time": "2023-08-13T16:37:40.144907",
     "status": "completed"
    },
    "tags": []
   },
   "source": [
    "<h3 style=\"font-size:40px; font-family:verdana; line-height: 1.7em; color:blue\"> Hurray. Success </h3>\n",
    "\n",
    "<p style=\"font-size:18px; font-family:verdana; line-height: 1.7em\">We have successfully successfully removed all missing values.<br>We have actually done a lot of Data Engineering to actually complete the Data Cleanup procedure.<br><br><span style=\"color:crimson;\">Now Lets Move on to Linear Regression.</span></p>"
   ]
  },
  {
   "cell_type": "markdown",
   "id": "2359c882",
   "metadata": {
    "papermill": {
     "duration": 0.05024,
     "end_time": "2023-08-13T16:37:40.298579",
     "exception": false,
     "start_time": "2023-08-13T16:37:40.248339",
     "status": "completed"
    },
    "tags": []
   },
   "source": [
    "# <center style=\"color:crimson; font-family:verdana; line-height: 1.7em\">Linear Regression</center>\n",
    "\n",
    "<p style=\"font-size:18px; font-family:verdana; line-height: 1.7em\">Now when we have the data, lets start performing linear regression.<br>\n",
    "We will use scikitlearn tool with Elastic Net and Grid Search for our problem.</p>"
   ]
  },
  {
   "cell_type": "code",
   "execution_count": 63,
   "id": "4d24c28e",
   "metadata": {
    "execution": {
     "iopub.execute_input": "2023-08-13T16:37:40.399876Z",
     "iopub.status.busy": "2023-08-13T16:37:40.399308Z",
     "iopub.status.idle": "2023-08-13T16:37:40.409053Z",
     "shell.execute_reply": "2023-08-13T16:37:40.407906Z"
    },
    "papermill": {
     "duration": 0.063202,
     "end_time": "2023-08-13T16:37:40.411478",
     "exception": false,
     "start_time": "2023-08-13T16:37:40.348276",
     "status": "completed"
    },
    "tags": []
   },
   "outputs": [],
   "source": [
    "# Break data into features and labels\n",
    "X = final_df.drop('SalePrice',axis=1)\n",
    "y = final_df['SalePrice']"
   ]
  },
  {
   "cell_type": "code",
   "execution_count": 64,
   "id": "8333cfb0",
   "metadata": {
    "execution": {
     "iopub.execute_input": "2023-08-13T16:37:40.514185Z",
     "iopub.status.busy": "2023-08-13T16:37:40.513792Z",
     "iopub.status.idle": "2023-08-13T16:37:40.822922Z",
     "shell.execute_reply": "2023-08-13T16:37:40.821706Z"
    },
    "papermill": {
     "duration": 0.363072,
     "end_time": "2023-08-13T16:37:40.825690",
     "exception": false,
     "start_time": "2023-08-13T16:37:40.462618",
     "status": "completed"
    },
    "tags": []
   },
   "outputs": [],
   "source": [
    "from sklearn.model_selection import train_test_split"
   ]
  },
  {
   "cell_type": "code",
   "execution_count": 65,
   "id": "599c722e",
   "metadata": {
    "execution": {
     "iopub.execute_input": "2023-08-13T16:37:40.930307Z",
     "iopub.status.busy": "2023-08-13T16:37:40.929920Z",
     "iopub.status.idle": "2023-08-13T16:37:40.946533Z",
     "shell.execute_reply": "2023-08-13T16:37:40.945180Z"
    },
    "papermill": {
     "duration": 0.073178,
     "end_time": "2023-08-13T16:37:40.949125",
     "exception": false,
     "start_time": "2023-08-13T16:37:40.875947",
     "status": "completed"
    },
    "tags": []
   },
   "outputs": [],
   "source": [
    "# Split Data into Train and Test\n",
    "X_train, X_test, y_train, y_test = train_test_split(X, y, test_size=0.1, random_state=101)"
   ]
  },
  {
   "cell_type": "code",
   "execution_count": 66,
   "id": "2b97ebee",
   "metadata": {
    "execution": {
     "iopub.execute_input": "2023-08-13T16:37:41.052943Z",
     "iopub.status.busy": "2023-08-13T16:37:41.052533Z",
     "iopub.status.idle": "2023-08-13T16:37:41.057836Z",
     "shell.execute_reply": "2023-08-13T16:37:41.056527Z"
    },
    "papermill": {
     "duration": 0.062259,
     "end_time": "2023-08-13T16:37:41.060308",
     "exception": false,
     "start_time": "2023-08-13T16:37:40.998049",
     "status": "completed"
    },
    "tags": []
   },
   "outputs": [],
   "source": [
    "from sklearn.preprocessing import StandardScaler"
   ]
  },
  {
   "cell_type": "code",
   "execution_count": 67,
   "id": "6c8b6622",
   "metadata": {
    "execution": {
     "iopub.execute_input": "2023-08-13T16:37:41.161337Z",
     "iopub.status.busy": "2023-08-13T16:37:41.160955Z",
     "iopub.status.idle": "2023-08-13T16:37:41.165776Z",
     "shell.execute_reply": "2023-08-13T16:37:41.164712Z"
    },
    "papermill": {
     "duration": 0.057282,
     "end_time": "2023-08-13T16:37:41.168125",
     "exception": false,
     "start_time": "2023-08-13T16:37:41.110843",
     "status": "completed"
    },
    "tags": []
   },
   "outputs": [],
   "source": [
    "scaler = StandardScaler()"
   ]
  },
  {
   "cell_type": "code",
   "execution_count": 68,
   "id": "7368e07e",
   "metadata": {
    "execution": {
     "iopub.execute_input": "2023-08-13T16:37:41.269489Z",
     "iopub.status.busy": "2023-08-13T16:37:41.269028Z",
     "iopub.status.idle": "2023-08-13T16:37:41.300224Z",
     "shell.execute_reply": "2023-08-13T16:37:41.298965Z"
    },
    "papermill": {
     "duration": 0.085126,
     "end_time": "2023-08-13T16:37:41.302761",
     "exception": false,
     "start_time": "2023-08-13T16:37:41.217635",
     "status": "completed"
    },
    "tags": []
   },
   "outputs": [
    {
     "data": {
      "text/html": [
       "<style>#sk-container-id-1 {color: black;background-color: white;}#sk-container-id-1 pre{padding: 0;}#sk-container-id-1 div.sk-toggleable {background-color: white;}#sk-container-id-1 label.sk-toggleable__label {cursor: pointer;display: block;width: 100%;margin-bottom: 0;padding: 0.3em;box-sizing: border-box;text-align: center;}#sk-container-id-1 label.sk-toggleable__label-arrow:before {content: \"▸\";float: left;margin-right: 0.25em;color: #696969;}#sk-container-id-1 label.sk-toggleable__label-arrow:hover:before {color: black;}#sk-container-id-1 div.sk-estimator:hover label.sk-toggleable__label-arrow:before {color: black;}#sk-container-id-1 div.sk-toggleable__content {max-height: 0;max-width: 0;overflow: hidden;text-align: left;background-color: #f0f8ff;}#sk-container-id-1 div.sk-toggleable__content pre {margin: 0.2em;color: black;border-radius: 0.25em;background-color: #f0f8ff;}#sk-container-id-1 input.sk-toggleable__control:checked~div.sk-toggleable__content {max-height: 200px;max-width: 100%;overflow: auto;}#sk-container-id-1 input.sk-toggleable__control:checked~label.sk-toggleable__label-arrow:before {content: \"▾\";}#sk-container-id-1 div.sk-estimator input.sk-toggleable__control:checked~label.sk-toggleable__label {background-color: #d4ebff;}#sk-container-id-1 div.sk-label input.sk-toggleable__control:checked~label.sk-toggleable__label {background-color: #d4ebff;}#sk-container-id-1 input.sk-hidden--visually {border: 0;clip: rect(1px 1px 1px 1px);clip: rect(1px, 1px, 1px, 1px);height: 1px;margin: -1px;overflow: hidden;padding: 0;position: absolute;width: 1px;}#sk-container-id-1 div.sk-estimator {font-family: monospace;background-color: #f0f8ff;border: 1px dotted black;border-radius: 0.25em;box-sizing: border-box;margin-bottom: 0.5em;}#sk-container-id-1 div.sk-estimator:hover {background-color: #d4ebff;}#sk-container-id-1 div.sk-parallel-item::after {content: \"\";width: 100%;border-bottom: 1px solid gray;flex-grow: 1;}#sk-container-id-1 div.sk-label:hover label.sk-toggleable__label {background-color: #d4ebff;}#sk-container-id-1 div.sk-serial::before {content: \"\";position: absolute;border-left: 1px solid gray;box-sizing: border-box;top: 0;bottom: 0;left: 50%;z-index: 0;}#sk-container-id-1 div.sk-serial {display: flex;flex-direction: column;align-items: center;background-color: white;padding-right: 0.2em;padding-left: 0.2em;position: relative;}#sk-container-id-1 div.sk-item {position: relative;z-index: 1;}#sk-container-id-1 div.sk-parallel {display: flex;align-items: stretch;justify-content: center;background-color: white;position: relative;}#sk-container-id-1 div.sk-item::before, #sk-container-id-1 div.sk-parallel-item::before {content: \"\";position: absolute;border-left: 1px solid gray;box-sizing: border-box;top: 0;bottom: 0;left: 50%;z-index: -1;}#sk-container-id-1 div.sk-parallel-item {display: flex;flex-direction: column;z-index: 1;position: relative;background-color: white;}#sk-container-id-1 div.sk-parallel-item:first-child::after {align-self: flex-end;width: 50%;}#sk-container-id-1 div.sk-parallel-item:last-child::after {align-self: flex-start;width: 50%;}#sk-container-id-1 div.sk-parallel-item:only-child::after {width: 0;}#sk-container-id-1 div.sk-dashed-wrapped {border: 1px dashed gray;margin: 0 0.4em 0.5em 0.4em;box-sizing: border-box;padding-bottom: 0.4em;background-color: white;}#sk-container-id-1 div.sk-label label {font-family: monospace;font-weight: bold;display: inline-block;line-height: 1.2em;}#sk-container-id-1 div.sk-label-container {text-align: center;}#sk-container-id-1 div.sk-container {/* jupyter's `normalize.less` sets `[hidden] { display: none; }` but bootstrap.min.css set `[hidden] { display: none !important; }` so we also need the `!important` here to be able to override the default hidden behavior on the sphinx rendered scikit-learn.org. See: https://github.com/scikit-learn/scikit-learn/issues/21755 */display: inline-block !important;position: relative;}#sk-container-id-1 div.sk-text-repr-fallback {display: none;}</style><div id=\"sk-container-id-1\" class=\"sk-top-container\"><div class=\"sk-text-repr-fallback\"><pre>StandardScaler()</pre><b>In a Jupyter environment, please rerun this cell to show the HTML representation or trust the notebook. <br />On GitHub, the HTML representation is unable to render, please try loading this page with nbviewer.org.</b></div><div class=\"sk-container\" hidden><div class=\"sk-item\"><div class=\"sk-estimator sk-toggleable\"><input class=\"sk-toggleable__control sk-hidden--visually\" id=\"sk-estimator-id-1\" type=\"checkbox\" checked><label for=\"sk-estimator-id-1\" class=\"sk-toggleable__label sk-toggleable__label-arrow\">StandardScaler</label><div class=\"sk-toggleable__content\"><pre>StandardScaler()</pre></div></div></div></div></div>"
      ],
      "text/plain": [
       "StandardScaler()"
      ]
     },
     "execution_count": 68,
     "metadata": {},
     "output_type": "execute_result"
    }
   ],
   "source": [
    "scaler.fit(X_train)"
   ]
  },
  {
   "cell_type": "code",
   "execution_count": 69,
   "id": "8b3ec1bb",
   "metadata": {
    "execution": {
     "iopub.execute_input": "2023-08-13T16:37:41.404913Z",
     "iopub.status.busy": "2023-08-13T16:37:41.404496Z",
     "iopub.status.idle": "2023-08-13T16:37:41.425135Z",
     "shell.execute_reply": "2023-08-13T16:37:41.424169Z"
    },
    "papermill": {
     "duration": 0.075219,
     "end_time": "2023-08-13T16:37:41.427648",
     "exception": false,
     "start_time": "2023-08-13T16:37:41.352429",
     "status": "completed"
    },
    "tags": []
   },
   "outputs": [],
   "source": [
    "X_train = scaler.transform(X_train)\n",
    "X_test = scaler.transform(X_test)"
   ]
  },
  {
   "cell_type": "code",
   "execution_count": 70,
   "id": "6ae40ab5",
   "metadata": {
    "execution": {
     "iopub.execute_input": "2023-08-13T16:37:41.528598Z",
     "iopub.status.busy": "2023-08-13T16:37:41.528144Z",
     "iopub.status.idle": "2023-08-13T16:37:41.647202Z",
     "shell.execute_reply": "2023-08-13T16:37:41.645847Z"
    },
    "papermill": {
     "duration": 0.172979,
     "end_time": "2023-08-13T16:37:41.650144",
     "exception": false,
     "start_time": "2023-08-13T16:37:41.477165",
     "status": "completed"
    },
    "tags": []
   },
   "outputs": [],
   "source": [
    "from sklearn.linear_model import ElasticNet"
   ]
  },
  {
   "cell_type": "code",
   "execution_count": 71,
   "id": "9794ed52",
   "metadata": {
    "execution": {
     "iopub.execute_input": "2023-08-13T16:37:41.774812Z",
     "iopub.status.busy": "2023-08-13T16:37:41.774402Z",
     "iopub.status.idle": "2023-08-13T16:37:41.779034Z",
     "shell.execute_reply": "2023-08-13T16:37:41.778250Z"
    },
    "papermill": {
     "duration": 0.069068,
     "end_time": "2023-08-13T16:37:41.781090",
     "exception": false,
     "start_time": "2023-08-13T16:37:41.712022",
     "status": "completed"
    },
    "tags": []
   },
   "outputs": [],
   "source": [
    "base_elastic_model = ElasticNet(max_iter=100000)"
   ]
  },
  {
   "cell_type": "code",
   "execution_count": 72,
   "id": "6f633a38",
   "metadata": {
    "execution": {
     "iopub.execute_input": "2023-08-13T16:37:41.881357Z",
     "iopub.status.busy": "2023-08-13T16:37:41.880952Z",
     "iopub.status.idle": "2023-08-13T16:37:41.885426Z",
     "shell.execute_reply": "2023-08-13T16:37:41.884732Z"
    },
    "papermill": {
     "duration": 0.05687,
     "end_time": "2023-08-13T16:37:41.887389",
     "exception": false,
     "start_time": "2023-08-13T16:37:41.830519",
     "status": "completed"
    },
    "tags": []
   },
   "outputs": [],
   "source": [
    "param_grid = {'alpha':[0.1,1,10,100],\n",
    "             'l1_ratio':[0.1,0.75,0.99,1]}"
   ]
  },
  {
   "cell_type": "code",
   "execution_count": 73,
   "id": "f6936358",
   "metadata": {
    "execution": {
     "iopub.execute_input": "2023-08-13T16:37:41.988331Z",
     "iopub.status.busy": "2023-08-13T16:37:41.987932Z",
     "iopub.status.idle": "2023-08-13T16:37:41.992297Z",
     "shell.execute_reply": "2023-08-13T16:37:41.991494Z"
    },
    "papermill": {
     "duration": 0.05788,
     "end_time": "2023-08-13T16:37:41.994502",
     "exception": false,
     "start_time": "2023-08-13T16:37:41.936622",
     "status": "completed"
    },
    "tags": []
   },
   "outputs": [],
   "source": [
    "from sklearn.model_selection import GridSearchCV"
   ]
  },
  {
   "cell_type": "code",
   "execution_count": 74,
   "id": "74753f08",
   "metadata": {
    "execution": {
     "iopub.execute_input": "2023-08-13T16:37:42.097632Z",
     "iopub.status.busy": "2023-08-13T16:37:42.097108Z",
     "iopub.status.idle": "2023-08-13T16:37:42.103227Z",
     "shell.execute_reply": "2023-08-13T16:37:42.102033Z"
    },
    "papermill": {
     "duration": 0.061197,
     "end_time": "2023-08-13T16:37:42.105824",
     "exception": false,
     "start_time": "2023-08-13T16:37:42.044627",
     "status": "completed"
    },
    "tags": []
   },
   "outputs": [],
   "source": [
    "grid_model = GridSearchCV(base_elastic_model,\n",
    "                          param_grid=param_grid,\n",
    "                         scoring = 'neg_mean_squared_error',\n",
    "                         cv = 5, verbose = 2)"
   ]
  },
  {
   "cell_type": "code",
   "execution_count": 75,
   "id": "14f7ac15",
   "metadata": {
    "execution": {
     "iopub.execute_input": "2023-08-13T16:37:42.208966Z",
     "iopub.status.busy": "2023-08-13T16:37:42.208539Z",
     "iopub.status.idle": "2023-08-13T16:45:29.215211Z",
     "shell.execute_reply": "2023-08-13T16:45:29.213667Z"
    },
    "papermill": {
     "duration": 467.062798,
     "end_time": "2023-08-13T16:45:29.220062",
     "exception": false,
     "start_time": "2023-08-13T16:37:42.157264",
     "status": "completed"
    },
    "tags": []
   },
   "outputs": [
    {
     "name": "stdout",
     "output_type": "stream",
     "text": [
      "Fitting 5 folds for each of 16 candidates, totalling 80 fits\n",
      "[CV] END ............................alpha=0.1, l1_ratio=0.1; total time=   0.4s\n",
      "[CV] END ............................alpha=0.1, l1_ratio=0.1; total time=   0.4s\n",
      "[CV] END ............................alpha=0.1, l1_ratio=0.1; total time=   0.4s\n",
      "[CV] END ............................alpha=0.1, l1_ratio=0.1; total time=   0.4s\n",
      "[CV] END ............................alpha=0.1, l1_ratio=0.1; total time=   0.4s\n",
      "[CV] END ...........................alpha=0.1, l1_ratio=0.75; total time=   0.8s\n",
      "[CV] END ...........................alpha=0.1, l1_ratio=0.75; total time=   0.8s\n",
      "[CV] END ...........................alpha=0.1, l1_ratio=0.75; total time=   0.6s\n",
      "[CV] END ...........................alpha=0.1, l1_ratio=0.75; total time=   0.6s\n",
      "[CV] END ...........................alpha=0.1, l1_ratio=0.75; total time=   0.6s\n",
      "[CV] END ...........................alpha=0.1, l1_ratio=0.99; total time=   6.2s\n",
      "[CV] END ...........................alpha=0.1, l1_ratio=0.99; total time=   6.3s\n",
      "[CV] END ...........................alpha=0.1, l1_ratio=0.99; total time=   6.2s\n",
      "[CV] END ...........................alpha=0.1, l1_ratio=0.99; total time=   7.4s\n",
      "[CV] END ...........................alpha=0.1, l1_ratio=0.99; total time=   5.9s\n",
      "[CV] END ..............................alpha=0.1, l1_ratio=1; total time= 1.6min\n"
     ]
    },
    {
     "name": "stderr",
     "output_type": "stream",
     "text": [
      "/opt/conda/lib/python3.10/site-packages/sklearn/linear_model/_coordinate_descent.py:631: ConvergenceWarning: Objective did not converge. You might want to increase the number of iterations, check the scale of the features or consider increasing regularisation. Duality gap: 3.098e+10, tolerance: 1.308e+09\n",
      "  model = cd_fast.enet_coordinate_descent(\n"
     ]
    },
    {
     "name": "stdout",
     "output_type": "stream",
     "text": [
      "[CV] END ..............................alpha=0.1, l1_ratio=1; total time= 1.9min\n",
      "[CV] END ..............................alpha=0.1, l1_ratio=1; total time= 1.1min\n",
      "[CV] END ..............................alpha=0.1, l1_ratio=1; total time= 1.3min\n",
      "[CV] END ..............................alpha=0.1, l1_ratio=1; total time=  12.6s\n",
      "[CV] END ..............................alpha=1, l1_ratio=0.1; total time=   0.1s\n",
      "[CV] END ..............................alpha=1, l1_ratio=0.1; total time=   0.2s\n",
      "[CV] END ..............................alpha=1, l1_ratio=0.1; total time=   0.1s\n",
      "[CV] END ..............................alpha=1, l1_ratio=0.1; total time=   0.2s\n",
      "[CV] END ..............................alpha=1, l1_ratio=0.1; total time=   0.2s\n",
      "[CV] END .............................alpha=1, l1_ratio=0.75; total time=   0.2s\n",
      "[CV] END .............................alpha=1, l1_ratio=0.75; total time=   0.2s\n",
      "[CV] END .............................alpha=1, l1_ratio=0.75; total time=   0.2s\n",
      "[CV] END .............................alpha=1, l1_ratio=0.75; total time=   0.2s\n",
      "[CV] END .............................alpha=1, l1_ratio=0.75; total time=   0.2s\n",
      "[CV] END .............................alpha=1, l1_ratio=0.99; total time=   0.6s\n",
      "[CV] END .............................alpha=1, l1_ratio=0.99; total time=   0.6s\n",
      "[CV] END .............................alpha=1, l1_ratio=0.99; total time=   0.6s\n",
      "[CV] END .............................alpha=1, l1_ratio=0.99; total time=   0.6s\n",
      "[CV] END .............................alpha=1, l1_ratio=0.99; total time=   0.6s\n",
      "[CV] END ................................alpha=1, l1_ratio=1; total time=  10.0s\n",
      "[CV] END ................................alpha=1, l1_ratio=1; total time=  13.0s\n",
      "[CV] END ................................alpha=1, l1_ratio=1; total time=   9.6s\n",
      "[CV] END ................................alpha=1, l1_ratio=1; total time=   9.0s\n",
      "[CV] END ................................alpha=1, l1_ratio=1; total time=   7.5s\n",
      "[CV] END .............................alpha=10, l1_ratio=0.1; total time=   0.1s\n",
      "[CV] END .............................alpha=10, l1_ratio=0.1; total time=   0.1s\n",
      "[CV] END .............................alpha=10, l1_ratio=0.1; total time=   0.1s\n",
      "[CV] END .............................alpha=10, l1_ratio=0.1; total time=   0.0s\n",
      "[CV] END .............................alpha=10, l1_ratio=0.1; total time=   0.0s\n",
      "[CV] END ............................alpha=10, l1_ratio=0.75; total time=   0.1s\n",
      "[CV] END ............................alpha=10, l1_ratio=0.75; total time=   0.1s\n",
      "[CV] END ............................alpha=10, l1_ratio=0.75; total time=   0.0s\n",
      "[CV] END ............................alpha=10, l1_ratio=0.75; total time=   0.0s\n",
      "[CV] END ............................alpha=10, l1_ratio=0.75; total time=   0.0s\n",
      "[CV] END ............................alpha=10, l1_ratio=0.99; total time=   0.2s\n",
      "[CV] END ............................alpha=10, l1_ratio=0.99; total time=   0.2s\n",
      "[CV] END ............................alpha=10, l1_ratio=0.99; total time=   0.2s\n",
      "[CV] END ............................alpha=10, l1_ratio=0.99; total time=   0.2s\n",
      "[CV] END ............................alpha=10, l1_ratio=0.99; total time=   0.2s\n",
      "[CV] END ...............................alpha=10, l1_ratio=1; total time=   1.7s\n",
      "[CV] END ...............................alpha=10, l1_ratio=1; total time=   1.8s\n",
      "[CV] END ...............................alpha=10, l1_ratio=1; total time=   1.9s\n",
      "[CV] END ...............................alpha=10, l1_ratio=1; total time=   1.7s\n",
      "[CV] END ...............................alpha=10, l1_ratio=1; total time=   1.8s\n",
      "[CV] END ............................alpha=100, l1_ratio=0.1; total time=   0.0s\n",
      "[CV] END ............................alpha=100, l1_ratio=0.1; total time=   0.0s\n",
      "[CV] END ............................alpha=100, l1_ratio=0.1; total time=   0.0s\n",
      "[CV] END ............................alpha=100, l1_ratio=0.1; total time=   0.0s\n",
      "[CV] END ............................alpha=100, l1_ratio=0.1; total time=   0.0s\n",
      "[CV] END ...........................alpha=100, l1_ratio=0.75; total time=   0.0s\n",
      "[CV] END ...........................alpha=100, l1_ratio=0.75; total time=   0.0s\n",
      "[CV] END ...........................alpha=100, l1_ratio=0.75; total time=   0.0s\n",
      "[CV] END ...........................alpha=100, l1_ratio=0.75; total time=   0.0s\n",
      "[CV] END ...........................alpha=100, l1_ratio=0.75; total time=   0.0s\n",
      "[CV] END ...........................alpha=100, l1_ratio=0.99; total time=   0.1s\n",
      "[CV] END ...........................alpha=100, l1_ratio=0.99; total time=   0.1s\n",
      "[CV] END ...........................alpha=100, l1_ratio=0.99; total time=   0.0s\n",
      "[CV] END ...........................alpha=100, l1_ratio=0.99; total time=   0.1s\n",
      "[CV] END ...........................alpha=100, l1_ratio=0.99; total time=   0.1s\n",
      "[CV] END ..............................alpha=100, l1_ratio=1; total time=   0.3s\n",
      "[CV] END ..............................alpha=100, l1_ratio=1; total time=   0.3s\n",
      "[CV] END ..............................alpha=100, l1_ratio=1; total time=   0.3s\n",
      "[CV] END ..............................alpha=100, l1_ratio=1; total time=   0.3s\n",
      "[CV] END ..............................alpha=100, l1_ratio=1; total time=   0.3s\n"
     ]
    },
    {
     "data": {
      "text/html": [
       "<style>#sk-container-id-2 {color: black;background-color: white;}#sk-container-id-2 pre{padding: 0;}#sk-container-id-2 div.sk-toggleable {background-color: white;}#sk-container-id-2 label.sk-toggleable__label {cursor: pointer;display: block;width: 100%;margin-bottom: 0;padding: 0.3em;box-sizing: border-box;text-align: center;}#sk-container-id-2 label.sk-toggleable__label-arrow:before {content: \"▸\";float: left;margin-right: 0.25em;color: #696969;}#sk-container-id-2 label.sk-toggleable__label-arrow:hover:before {color: black;}#sk-container-id-2 div.sk-estimator:hover label.sk-toggleable__label-arrow:before {color: black;}#sk-container-id-2 div.sk-toggleable__content {max-height: 0;max-width: 0;overflow: hidden;text-align: left;background-color: #f0f8ff;}#sk-container-id-2 div.sk-toggleable__content pre {margin: 0.2em;color: black;border-radius: 0.25em;background-color: #f0f8ff;}#sk-container-id-2 input.sk-toggleable__control:checked~div.sk-toggleable__content {max-height: 200px;max-width: 100%;overflow: auto;}#sk-container-id-2 input.sk-toggleable__control:checked~label.sk-toggleable__label-arrow:before {content: \"▾\";}#sk-container-id-2 div.sk-estimator input.sk-toggleable__control:checked~label.sk-toggleable__label {background-color: #d4ebff;}#sk-container-id-2 div.sk-label input.sk-toggleable__control:checked~label.sk-toggleable__label {background-color: #d4ebff;}#sk-container-id-2 input.sk-hidden--visually {border: 0;clip: rect(1px 1px 1px 1px);clip: rect(1px, 1px, 1px, 1px);height: 1px;margin: -1px;overflow: hidden;padding: 0;position: absolute;width: 1px;}#sk-container-id-2 div.sk-estimator {font-family: monospace;background-color: #f0f8ff;border: 1px dotted black;border-radius: 0.25em;box-sizing: border-box;margin-bottom: 0.5em;}#sk-container-id-2 div.sk-estimator:hover {background-color: #d4ebff;}#sk-container-id-2 div.sk-parallel-item::after {content: \"\";width: 100%;border-bottom: 1px solid gray;flex-grow: 1;}#sk-container-id-2 div.sk-label:hover label.sk-toggleable__label {background-color: #d4ebff;}#sk-container-id-2 div.sk-serial::before {content: \"\";position: absolute;border-left: 1px solid gray;box-sizing: border-box;top: 0;bottom: 0;left: 50%;z-index: 0;}#sk-container-id-2 div.sk-serial {display: flex;flex-direction: column;align-items: center;background-color: white;padding-right: 0.2em;padding-left: 0.2em;position: relative;}#sk-container-id-2 div.sk-item {position: relative;z-index: 1;}#sk-container-id-2 div.sk-parallel {display: flex;align-items: stretch;justify-content: center;background-color: white;position: relative;}#sk-container-id-2 div.sk-item::before, #sk-container-id-2 div.sk-parallel-item::before {content: \"\";position: absolute;border-left: 1px solid gray;box-sizing: border-box;top: 0;bottom: 0;left: 50%;z-index: -1;}#sk-container-id-2 div.sk-parallel-item {display: flex;flex-direction: column;z-index: 1;position: relative;background-color: white;}#sk-container-id-2 div.sk-parallel-item:first-child::after {align-self: flex-end;width: 50%;}#sk-container-id-2 div.sk-parallel-item:last-child::after {align-self: flex-start;width: 50%;}#sk-container-id-2 div.sk-parallel-item:only-child::after {width: 0;}#sk-container-id-2 div.sk-dashed-wrapped {border: 1px dashed gray;margin: 0 0.4em 0.5em 0.4em;box-sizing: border-box;padding-bottom: 0.4em;background-color: white;}#sk-container-id-2 div.sk-label label {font-family: monospace;font-weight: bold;display: inline-block;line-height: 1.2em;}#sk-container-id-2 div.sk-label-container {text-align: center;}#sk-container-id-2 div.sk-container {/* jupyter's `normalize.less` sets `[hidden] { display: none; }` but bootstrap.min.css set `[hidden] { display: none !important; }` so we also need the `!important` here to be able to override the default hidden behavior on the sphinx rendered scikit-learn.org. See: https://github.com/scikit-learn/scikit-learn/issues/21755 */display: inline-block !important;position: relative;}#sk-container-id-2 div.sk-text-repr-fallback {display: none;}</style><div id=\"sk-container-id-2\" class=\"sk-top-container\"><div class=\"sk-text-repr-fallback\"><pre>GridSearchCV(cv=5, estimator=ElasticNet(max_iter=100000),\n",
       "             param_grid={&#x27;alpha&#x27;: [0.1, 1, 10, 100],\n",
       "                         &#x27;l1_ratio&#x27;: [0.1, 0.75, 0.99, 1]},\n",
       "             scoring=&#x27;neg_mean_squared_error&#x27;, verbose=2)</pre><b>In a Jupyter environment, please rerun this cell to show the HTML representation or trust the notebook. <br />On GitHub, the HTML representation is unable to render, please try loading this page with nbviewer.org.</b></div><div class=\"sk-container\" hidden><div class=\"sk-item sk-dashed-wrapped\"><div class=\"sk-label-container\"><div class=\"sk-label sk-toggleable\"><input class=\"sk-toggleable__control sk-hidden--visually\" id=\"sk-estimator-id-2\" type=\"checkbox\" ><label for=\"sk-estimator-id-2\" class=\"sk-toggleable__label sk-toggleable__label-arrow\">GridSearchCV</label><div class=\"sk-toggleable__content\"><pre>GridSearchCV(cv=5, estimator=ElasticNet(max_iter=100000),\n",
       "             param_grid={&#x27;alpha&#x27;: [0.1, 1, 10, 100],\n",
       "                         &#x27;l1_ratio&#x27;: [0.1, 0.75, 0.99, 1]},\n",
       "             scoring=&#x27;neg_mean_squared_error&#x27;, verbose=2)</pre></div></div></div><div class=\"sk-parallel\"><div class=\"sk-parallel-item\"><div class=\"sk-item\"><div class=\"sk-label-container\"><div class=\"sk-label sk-toggleable\"><input class=\"sk-toggleable__control sk-hidden--visually\" id=\"sk-estimator-id-3\" type=\"checkbox\" ><label for=\"sk-estimator-id-3\" class=\"sk-toggleable__label sk-toggleable__label-arrow\">estimator: ElasticNet</label><div class=\"sk-toggleable__content\"><pre>ElasticNet(max_iter=100000)</pre></div></div></div><div class=\"sk-serial\"><div class=\"sk-item\"><div class=\"sk-estimator sk-toggleable\"><input class=\"sk-toggleable__control sk-hidden--visually\" id=\"sk-estimator-id-4\" type=\"checkbox\" ><label for=\"sk-estimator-id-4\" class=\"sk-toggleable__label sk-toggleable__label-arrow\">ElasticNet</label><div class=\"sk-toggleable__content\"><pre>ElasticNet(max_iter=100000)</pre></div></div></div></div></div></div></div></div></div></div>"
      ],
      "text/plain": [
       "GridSearchCV(cv=5, estimator=ElasticNet(max_iter=100000),\n",
       "             param_grid={'alpha': [0.1, 1, 10, 100],\n",
       "                         'l1_ratio': [0.1, 0.75, 0.99, 1]},\n",
       "             scoring='neg_mean_squared_error', verbose=2)"
      ]
     },
     "execution_count": 75,
     "metadata": {},
     "output_type": "execute_result"
    }
   ],
   "source": [
    "grid_model.fit(X_train,y_train)"
   ]
  },
  {
   "cell_type": "code",
   "execution_count": 76,
   "id": "7c4e88d5",
   "metadata": {
    "execution": {
     "iopub.execute_input": "2023-08-13T16:45:29.385633Z",
     "iopub.status.busy": "2023-08-13T16:45:29.385217Z",
     "iopub.status.idle": "2023-08-13T16:45:29.392776Z",
     "shell.execute_reply": "2023-08-13T16:45:29.391263Z"
    },
    "papermill": {
     "duration": 0.067737,
     "end_time": "2023-08-13T16:45:29.395586",
     "exception": false,
     "start_time": "2023-08-13T16:45:29.327849",
     "status": "completed"
    },
    "tags": []
   },
   "outputs": [
    {
     "data": {
      "text/plain": [
       "{'alpha': 100, 'l1_ratio': 1}"
      ]
     },
     "execution_count": 76,
     "metadata": {},
     "output_type": "execute_result"
    }
   ],
   "source": [
    "grid_model.best_params_"
   ]
  },
  {
   "cell_type": "code",
   "execution_count": 77,
   "id": "7678219c",
   "metadata": {
    "execution": {
     "iopub.execute_input": "2023-08-13T16:45:29.514565Z",
     "iopub.status.busy": "2023-08-13T16:45:29.514049Z",
     "iopub.status.idle": "2023-08-13T16:45:29.522558Z",
     "shell.execute_reply": "2023-08-13T16:45:29.520004Z"
    },
    "papermill": {
     "duration": 0.072691,
     "end_time": "2023-08-13T16:45:29.527642",
     "exception": false,
     "start_time": "2023-08-13T16:45:29.454951",
     "status": "completed"
    },
    "tags": []
   },
   "outputs": [],
   "source": [
    "y_pred = grid_model.predict(X_test)"
   ]
  },
  {
   "cell_type": "code",
   "execution_count": 78,
   "id": "d20be4eb",
   "metadata": {
    "execution": {
     "iopub.execute_input": "2023-08-13T16:45:29.700724Z",
     "iopub.status.busy": "2023-08-13T16:45:29.700298Z",
     "iopub.status.idle": "2023-08-13T16:45:29.705829Z",
     "shell.execute_reply": "2023-08-13T16:45:29.704520Z"
    },
    "papermill": {
     "duration": 0.0666,
     "end_time": "2023-08-13T16:45:29.708377",
     "exception": false,
     "start_time": "2023-08-13T16:45:29.641777",
     "status": "completed"
    },
    "tags": []
   },
   "outputs": [],
   "source": [
    "from sklearn.metrics import mean_absolute_error, mean_squared_error"
   ]
  },
  {
   "cell_type": "code",
   "execution_count": 79,
   "id": "1dc8d1f8",
   "metadata": {
    "execution": {
     "iopub.execute_input": "2023-08-13T16:45:29.823081Z",
     "iopub.status.busy": "2023-08-13T16:45:29.822356Z",
     "iopub.status.idle": "2023-08-13T16:45:29.830243Z",
     "shell.execute_reply": "2023-08-13T16:45:29.828979Z"
    },
    "papermill": {
     "duration": 0.067517,
     "end_time": "2023-08-13T16:45:29.832711",
     "exception": false,
     "start_time": "2023-08-13T16:45:29.765194",
     "status": "completed"
    },
    "tags": []
   },
   "outputs": [
    {
     "data": {
      "text/plain": [
       "14195.354900562172"
      ]
     },
     "execution_count": 79,
     "metadata": {},
     "output_type": "execute_result"
    }
   ],
   "source": [
    "mean_absolute_error(y_test,y_pred)"
   ]
  },
  {
   "cell_type": "code",
   "execution_count": 80,
   "id": "52226f7c",
   "metadata": {
    "execution": {
     "iopub.execute_input": "2023-08-13T16:45:29.946897Z",
     "iopub.status.busy": "2023-08-13T16:45:29.946471Z",
     "iopub.status.idle": "2023-08-13T16:45:29.954775Z",
     "shell.execute_reply": "2023-08-13T16:45:29.953646Z"
    },
    "papermill": {
     "duration": 0.068589,
     "end_time": "2023-08-13T16:45:29.957332",
     "exception": false,
     "start_time": "2023-08-13T16:45:29.888743",
     "status": "completed"
    },
    "tags": []
   },
   "outputs": [
    {
     "data": {
      "text/plain": [
       "20558.508566893164"
      ]
     },
     "execution_count": 80,
     "metadata": {},
     "output_type": "execute_result"
    }
   ],
   "source": [
    "np.sqrt(mean_squared_error(y_test,y_pred))"
   ]
  },
  {
   "cell_type": "code",
   "execution_count": 81,
   "id": "3d41ef0b",
   "metadata": {
    "execution": {
     "iopub.execute_input": "2023-08-13T16:45:30.072110Z",
     "iopub.status.busy": "2023-08-13T16:45:30.071251Z",
     "iopub.status.idle": "2023-08-13T16:45:30.078492Z",
     "shell.execute_reply": "2023-08-13T16:45:30.077595Z"
    },
    "papermill": {
     "duration": 0.068568,
     "end_time": "2023-08-13T16:45:30.080918",
     "exception": false,
     "start_time": "2023-08-13T16:45:30.012350",
     "status": "completed"
    },
    "tags": []
   },
   "outputs": [
    {
     "data": {
      "text/plain": [
       "180815.53743589742"
      ]
     },
     "execution_count": 81,
     "metadata": {},
     "output_type": "execute_result"
    }
   ],
   "source": [
    "np.mean(df['SalePrice'])"
   ]
  },
  {
   "cell_type": "markdown",
   "id": "d5fe4da6",
   "metadata": {
    "papermill": {
     "duration": 0.056069,
     "end_time": "2023-08-13T16:45:30.193348",
     "exception": false,
     "start_time": "2023-08-13T16:45:30.137279",
     "status": "completed"
    },
    "tags": []
   },
   "source": [
    "<h3 style=\"font-size:40px; font-family:verdana; line-height: 1.7em; color:blue\"> Please upvote if you like the Notebook. </h3>"
   ]
  }
 ],
 "metadata": {
  "kernelspec": {
   "display_name": "Python 3",
   "language": "python",
   "name": "python3"
  },
  "language_info": {
   "codemirror_mode": {
    "name": "ipython",
    "version": 3
   },
   "file_extension": ".py",
   "mimetype": "text/x-python",
   "name": "python",
   "nbconvert_exporter": "python",
   "pygments_lexer": "ipython3",
   "version": "3.10.12"
  },
  "papermill": {
   "default_parameters": {},
   "duration": 498.969805,
   "end_time": "2023-08-13T16:45:31.377722",
   "environment_variables": {},
   "exception": null,
   "input_path": "__notebook__.ipynb",
   "output_path": "__notebook__.ipynb",
   "parameters": {},
   "start_time": "2023-08-13T16:37:12.407917",
   "version": "2.4.0"
  }
 },
 "nbformat": 4,
 "nbformat_minor": 5
}
