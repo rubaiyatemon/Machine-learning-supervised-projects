{
  "cells": [
    {
      "cell_type": "code",
      "execution_count": 28,
      "metadata": {
        "id": "70ksFensAeBa",
        "colab": {
          "base_uri": "https://localhost:8080/"
        },
        "outputId": "eb75e5cd-fce3-4f72-8b45-f8df0d7fdf7b"
      },
      "outputs": [
        {
          "output_type": "stream",
          "name": "stdout",
          "text": [
            "Colab only includes TensorFlow 2.x; %tensorflow_version has no effect.\n"
          ]
        }
      ],
      "source": [
        "%tensorflow_version 2.x\n",
        "\n",
        "# use this to work with tensorflow 2.x on colab"
      ]
    },
    {
      "cell_type": "code",
      "execution_count": 29,
      "metadata": {
        "id": "I2xOHytTAeBj"
      },
      "outputs": [],
      "source": [
        "import warnings\n",
        "warnings.filterwarnings('ignore')"
      ]
    },
    {
      "cell_type": "code",
      "execution_count": 30,
      "metadata": {
        "id": "KgsCXA3GAeBl"
      },
      "outputs": [],
      "source": [
        "\n",
        "import numpy as np\n",
        "import pandas as pd\n",
        "from sklearn.preprocessing import OneHotEncoder\n",
        "\n",
        "from keras.datasets import fashion_mnist\n",
        "(images_train, labels_train), (images_test,labels_test) = fashion_mnist.load_data()"
      ]
    },
    {
      "cell_type": "code",
      "source": [
        "images_test.shape"
      ],
      "metadata": {
        "colab": {
          "base_uri": "https://localhost:8080/"
        },
        "id": "wrIJL7l9stJC",
        "outputId": "cb91f098-b69a-40a7-88b1-f14affc9d446"
      },
      "execution_count": 31,
      "outputs": [
        {
          "output_type": "execute_result",
          "data": {
            "text/plain": [
              "(10000, 28, 28)"
            ]
          },
          "metadata": {},
          "execution_count": 31
        }
      ]
    },
    {
      "cell_type": "code",
      "source": [
        "labels_train.shape"
      ],
      "metadata": {
        "colab": {
          "base_uri": "https://localhost:8080/"
        },
        "id": "0aMWVYRTrmxF",
        "outputId": "f28923f0-e0da-4ace-ec73-0a16862573e1"
      },
      "execution_count": 32,
      "outputs": [
        {
          "output_type": "execute_result",
          "data": {
            "text/plain": [
              "(60000,)"
            ]
          },
          "metadata": {},
          "execution_count": 32
        }
      ]
    },
    {
      "cell_type": "code",
      "execution_count": 33,
      "metadata": {
        "id": "01T4DhPYAeBq",
        "colab": {
          "base_uri": "https://localhost:8080/"
        },
        "outputId": "e441490f-478b-4c77-975a-6d1200ba2074"
      },
      "outputs": [
        {
          "output_type": "execute_result",
          "data": {
            "text/plain": [
              "(10000, 1)"
            ]
          },
          "metadata": {},
          "execution_count": 33
        }
      ],
      "source": [
        "labels_train=np.array(labels_train).reshape(-1,1)\n",
        "labels_test=np.array(labels_test).reshape(-1,1)\n",
        "labels_test.shape"
      ]
    },
    {
      "cell_type": "code",
      "execution_count": 34,
      "metadata": {
        "id": "d-f2qI9DAeBt"
      },
      "outputs": [],
      "source": [
        "onehot=OneHotEncoder()\n",
        "\n",
        "onehot.fit(labels_train)\n",
        "\n",
        "labels_train=onehot.transform(labels_train)\n",
        "labels_test=onehot.transform(labels_test)\n",
        "labels_train=labels_train.toarray()\n",
        "labels_test=labels_test.toarray()"
      ]
    },
    {
      "cell_type": "code",
      "source": [
        "labels_test.shape"
      ],
      "metadata": {
        "colab": {
          "base_uri": "https://localhost:8080/"
        },
        "id": "QTnLqJzttNxs",
        "outputId": "aad1954e-fd3a-4351-de87-71eec0045f8d"
      },
      "execution_count": 35,
      "outputs": [
        {
          "output_type": "execute_result",
          "data": {
            "text/plain": [
              "(10000, 10)"
            ]
          },
          "metadata": {},
          "execution_count": 35
        }
      ]
    },
    {
      "cell_type": "code",
      "source": [
        "np.unique(labels_test)"
      ],
      "metadata": {
        "colab": {
          "base_uri": "https://localhost:8080/"
        },
        "id": "yhtlO_S04Aaj",
        "outputId": "482d6657-41ef-4ee2-c1e9-f38b30abbcae"
      },
      "execution_count": 36,
      "outputs": [
        {
          "output_type": "execute_result",
          "data": {
            "text/plain": [
              "array([0., 1.])"
            ]
          },
          "metadata": {},
          "execution_count": 36
        }
      ]
    },
    {
      "cell_type": "code",
      "source": [
        "images_train.shape"
      ],
      "metadata": {
        "colab": {
          "base_uri": "https://localhost:8080/"
        },
        "id": "nGtUazYB4AG-",
        "outputId": "4fa912be-d880-465f-e428-08865f71bddb"
      },
      "execution_count": 37,
      "outputs": [
        {
          "output_type": "execute_result",
          "data": {
            "text/plain": [
              "(60000, 28, 28)"
            ]
          },
          "metadata": {},
          "execution_count": 37
        }
      ]
    },
    {
      "cell_type": "code",
      "source": [
        "images_test.shape"
      ],
      "metadata": {
        "colab": {
          "base_uri": "https://localhost:8080/"
        },
        "id": "2_9hlmPj4j8_",
        "outputId": "9afba083-90ec-4b1f-b91b-0a876e5249d0"
      },
      "execution_count": 38,
      "outputs": [
        {
          "output_type": "execute_result",
          "data": {
            "text/plain": [
              "(10000, 28, 28)"
            ]
          },
          "metadata": {},
          "execution_count": 38
        }
      ]
    },
    {
      "cell_type": "code",
      "source": [
        "28*28"
      ],
      "metadata": {
        "colab": {
          "base_uri": "https://localhost:8080/"
        },
        "id": "tVPUbv-v4ezo",
        "outputId": "8abe21f0-bd5f-494e-cf96-01b8c548df78"
      },
      "execution_count": 39,
      "outputs": [
        {
          "output_type": "execute_result",
          "data": {
            "text/plain": [
              "784"
            ]
          },
          "metadata": {},
          "execution_count": 39
        }
      ]
    },
    {
      "cell_type": "code",
      "execution_count": 40,
      "metadata": {
        "id": "DEROeMBRAeBu"
      },
      "outputs": [],
      "source": [
        "images_train=np.array(images_train).reshape(60000,784)/255\n",
        "images_test=np.array(images_test).reshape(10000,784)/255"
      ]
    },
    {
      "cell_type": "code",
      "execution_count": 41,
      "metadata": {
        "id": "iafy86ohAeBw"
      },
      "outputs": [],
      "source": [
        "images_train=images_train.reshape(60000,  28, 28,1).astype('float32')\n",
        "images_test=images_test.reshape(10000, 28, 28,1).astype('float32')"
      ]
    },
    {
      "cell_type": "code",
      "execution_count": 42,
      "metadata": {
        "id": "07Vuc0rEAeBy"
      },
      "outputs": [],
      "source": [
        "from tensorflow.keras.models import Sequential\n",
        "from tensorflow.keras.layers import Dense,Dropout,Flatten,Conv2D,MaxPooling2D"
      ]
    },
    {
      "cell_type": "code",
      "execution_count": 43,
      "metadata": {
        "id": "XwGNwQf5AeB0"
      },
      "outputs": [],
      "source": [
        "# Sequential API"
      ]
    },
    {
      "cell_type": "code",
      "execution_count": 44,
      "metadata": {
        "id": "Fl030VL8AeB1"
      },
      "outputs": [],
      "source": [
        "model = Sequential()\n",
        "model.add(Conv2D(32, (2, 2), input_shape=( 28, 28,1), activation='relu',\n",
        "                 padding='same'))\n",
        "\n",
        "model.add(MaxPooling2D(pool_size=(2, 2)))\n",
        "\n",
        "model.add(Conv2D(64, (3, 3),activation='relu',padding='same'))\n",
        "\n",
        "model.add(MaxPooling2D(pool_size=(2, 2)))\n",
        "\n",
        "model.add(Conv2D(32, (2, 2),activation='relu',padding='same'))\n",
        "\n",
        "model.add(MaxPooling2D(pool_size=(2, 2)))\n",
        "\n",
        "model.add(Flatten())\n",
        "\n",
        "model.add(Dense(1024, activation='relu'))\n",
        "\n",
        "model.add(Dropout(0.2))\n",
        "\n",
        "model.add(Dense(200, activation='relu'))\n",
        "\n",
        "model.add(Dropout(0.2))\n",
        "\n",
        "model.add(Dense(10, activation='softmax'))\n",
        "# Compile model\n",
        "model.compile(loss='categorical_crossentropy', optimizer='adam',\n",
        "              metrics=['accuracy'])"
      ]
    },
    {
      "cell_type": "code",
      "execution_count": 45,
      "metadata": {
        "id": "_DqoOkauAeB2"
      },
      "outputs": [],
      "source": [
        "# Functional API"
      ]
    },
    {
      "cell_type": "code",
      "execution_count": 46,
      "metadata": {
        "id": "MS9zGpQXAeB3"
      },
      "outputs": [],
      "source": [
        "from tensorflow.keras.layers import Input\n",
        "from tensorflow.keras.models import Model"
      ]
    },
    {
      "cell_type": "code",
      "execution_count": 47,
      "metadata": {
        "id": "Ol61Oj9pAeB4"
      },
      "outputs": [],
      "source": [
        "\n",
        "\n",
        "image=Input(shape=(28,28,1))\n",
        "\n",
        "conv1=Conv2D(32, (5, 5), activation='relu',padding='same')(image)\n",
        "pool1=MaxPooling2D(pool_size=(2, 2))(conv1)\n",
        "\n",
        "conv2=Conv2D(64, (5, 5),activation='relu',padding='same')(pool1)\n",
        "pool2=MaxPooling2D(pool_size=(2, 2))(conv2)\n",
        "\n",
        "flat_layer=Flatten()(pool2)\n",
        "\n",
        "dense1=Dense(1024, activation='relu')(flat_layer)\n",
        "drop1=Dropout(0.2)(dense1)\n",
        "\n",
        "dense2=Dense(200, activation='relu')(drop1)\n",
        "drop2=Dropout(0.2)(dense2)\n",
        "\n",
        "output=Dense(10, activation='softmax')(drop2)\n",
        "\n",
        "model=Model(inputs=image,outputs=output)"
      ]
    },
    {
      "cell_type": "code",
      "execution_count": 48,
      "metadata": {
        "id": "AxfcLWD1AeB5",
        "colab": {
          "base_uri": "https://localhost:8080/",
          "height": 510
        },
        "outputId": "aeaaa56f-8b99-47ea-96ef-3aec4a8eed11"
      },
      "outputs": [
        {
          "output_type": "display_data",
          "data": {
            "text/plain": [
              "\u001b[1mModel: \"functional_25\"\u001b[0m\n"
            ],
            "text/html": [
              "<pre style=\"white-space:pre;overflow-x:auto;line-height:normal;font-family:Menlo,'DejaVu Sans Mono',consolas,'Courier New',monospace\"><span style=\"font-weight: bold\">Model: \"functional_25\"</span>\n",
              "</pre>\n"
            ]
          },
          "metadata": {}
        },
        {
          "output_type": "display_data",
          "data": {
            "text/plain": [
              "┏━━━━━━━━━━━━━━━━━━━━━━━━━━━━━━━━━━━━━━┳━━━━━━━━━━━━━━━━━━━━━━━━━━━━━┳━━━━━━━━━━━━━━━━━┓\n",
              "┃\u001b[1m \u001b[0m\u001b[1mLayer (type)                        \u001b[0m\u001b[1m \u001b[0m┃\u001b[1m \u001b[0m\u001b[1mOutput Shape               \u001b[0m\u001b[1m \u001b[0m┃\u001b[1m \u001b[0m\u001b[1m        Param #\u001b[0m\u001b[1m \u001b[0m┃\n",
              "┡━━━━━━━━━━━━━━━━━━━━━━━━━━━━━━━━━━━━━━╇━━━━━━━━━━━━━━━━━━━━━━━━━━━━━╇━━━━━━━━━━━━━━━━━┩\n",
              "│ input_layer_3 (\u001b[38;5;33mInputLayer\u001b[0m)           │ (\u001b[38;5;45mNone\u001b[0m, \u001b[38;5;34m28\u001b[0m, \u001b[38;5;34m28\u001b[0m, \u001b[38;5;34m1\u001b[0m)           │               \u001b[38;5;34m0\u001b[0m │\n",
              "├──────────────────────────────────────┼─────────────────────────────┼─────────────────┤\n",
              "│ conv2d_8 (\u001b[38;5;33mConv2D\u001b[0m)                    │ (\u001b[38;5;45mNone\u001b[0m, \u001b[38;5;34m28\u001b[0m, \u001b[38;5;34m28\u001b[0m, \u001b[38;5;34m32\u001b[0m)          │             \u001b[38;5;34m832\u001b[0m │\n",
              "├──────────────────────────────────────┼─────────────────────────────┼─────────────────┤\n",
              "│ max_pooling2d_8 (\u001b[38;5;33mMaxPooling2D\u001b[0m)       │ (\u001b[38;5;45mNone\u001b[0m, \u001b[38;5;34m14\u001b[0m, \u001b[38;5;34m14\u001b[0m, \u001b[38;5;34m32\u001b[0m)          │               \u001b[38;5;34m0\u001b[0m │\n",
              "├──────────────────────────────────────┼─────────────────────────────┼─────────────────┤\n",
              "│ conv2d_9 (\u001b[38;5;33mConv2D\u001b[0m)                    │ (\u001b[38;5;45mNone\u001b[0m, \u001b[38;5;34m14\u001b[0m, \u001b[38;5;34m14\u001b[0m, \u001b[38;5;34m64\u001b[0m)          │          \u001b[38;5;34m51,264\u001b[0m │\n",
              "├──────────────────────────────────────┼─────────────────────────────┼─────────────────┤\n",
              "│ max_pooling2d_9 (\u001b[38;5;33mMaxPooling2D\u001b[0m)       │ (\u001b[38;5;45mNone\u001b[0m, \u001b[38;5;34m7\u001b[0m, \u001b[38;5;34m7\u001b[0m, \u001b[38;5;34m64\u001b[0m)            │               \u001b[38;5;34m0\u001b[0m │\n",
              "├──────────────────────────────────────┼─────────────────────────────┼─────────────────┤\n",
              "│ flatten_3 (\u001b[38;5;33mFlatten\u001b[0m)                  │ (\u001b[38;5;45mNone\u001b[0m, \u001b[38;5;34m3136\u001b[0m)                │               \u001b[38;5;34m0\u001b[0m │\n",
              "├──────────────────────────────────────┼─────────────────────────────┼─────────────────┤\n",
              "│ dense_9 (\u001b[38;5;33mDense\u001b[0m)                      │ (\u001b[38;5;45mNone\u001b[0m, \u001b[38;5;34m1024\u001b[0m)                │       \u001b[38;5;34m3,212,288\u001b[0m │\n",
              "├──────────────────────────────────────┼─────────────────────────────┼─────────────────┤\n",
              "│ dropout_6 (\u001b[38;5;33mDropout\u001b[0m)                  │ (\u001b[38;5;45mNone\u001b[0m, \u001b[38;5;34m1024\u001b[0m)                │               \u001b[38;5;34m0\u001b[0m │\n",
              "├──────────────────────────────────────┼─────────────────────────────┼─────────────────┤\n",
              "│ dense_10 (\u001b[38;5;33mDense\u001b[0m)                     │ (\u001b[38;5;45mNone\u001b[0m, \u001b[38;5;34m200\u001b[0m)                 │         \u001b[38;5;34m205,000\u001b[0m │\n",
              "├──────────────────────────────────────┼─────────────────────────────┼─────────────────┤\n",
              "│ dropout_7 (\u001b[38;5;33mDropout\u001b[0m)                  │ (\u001b[38;5;45mNone\u001b[0m, \u001b[38;5;34m200\u001b[0m)                 │               \u001b[38;5;34m0\u001b[0m │\n",
              "├──────────────────────────────────────┼─────────────────────────────┼─────────────────┤\n",
              "│ dense_11 (\u001b[38;5;33mDense\u001b[0m)                     │ (\u001b[38;5;45mNone\u001b[0m, \u001b[38;5;34m10\u001b[0m)                  │           \u001b[38;5;34m2,010\u001b[0m │\n",
              "└──────────────────────────────────────┴─────────────────────────────┴─────────────────┘\n"
            ],
            "text/html": [
              "<pre style=\"white-space:pre;overflow-x:auto;line-height:normal;font-family:Menlo,'DejaVu Sans Mono',consolas,'Courier New',monospace\">┏━━━━━━━━━━━━━━━━━━━━━━━━━━━━━━━━━━━━━━┳━━━━━━━━━━━━━━━━━━━━━━━━━━━━━┳━━━━━━━━━━━━━━━━━┓\n",
              "┃<span style=\"font-weight: bold\"> Layer (type)                         </span>┃<span style=\"font-weight: bold\"> Output Shape                </span>┃<span style=\"font-weight: bold\">         Param # </span>┃\n",
              "┡━━━━━━━━━━━━━━━━━━━━━━━━━━━━━━━━━━━━━━╇━━━━━━━━━━━━━━━━━━━━━━━━━━━━━╇━━━━━━━━━━━━━━━━━┩\n",
              "│ input_layer_3 (<span style=\"color: #0087ff; text-decoration-color: #0087ff\">InputLayer</span>)           │ (<span style=\"color: #00d7ff; text-decoration-color: #00d7ff\">None</span>, <span style=\"color: #00af00; text-decoration-color: #00af00\">28</span>, <span style=\"color: #00af00; text-decoration-color: #00af00\">28</span>, <span style=\"color: #00af00; text-decoration-color: #00af00\">1</span>)           │               <span style=\"color: #00af00; text-decoration-color: #00af00\">0</span> │\n",
              "├──────────────────────────────────────┼─────────────────────────────┼─────────────────┤\n",
              "│ conv2d_8 (<span style=\"color: #0087ff; text-decoration-color: #0087ff\">Conv2D</span>)                    │ (<span style=\"color: #00d7ff; text-decoration-color: #00d7ff\">None</span>, <span style=\"color: #00af00; text-decoration-color: #00af00\">28</span>, <span style=\"color: #00af00; text-decoration-color: #00af00\">28</span>, <span style=\"color: #00af00; text-decoration-color: #00af00\">32</span>)          │             <span style=\"color: #00af00; text-decoration-color: #00af00\">832</span> │\n",
              "├──────────────────────────────────────┼─────────────────────────────┼─────────────────┤\n",
              "│ max_pooling2d_8 (<span style=\"color: #0087ff; text-decoration-color: #0087ff\">MaxPooling2D</span>)       │ (<span style=\"color: #00d7ff; text-decoration-color: #00d7ff\">None</span>, <span style=\"color: #00af00; text-decoration-color: #00af00\">14</span>, <span style=\"color: #00af00; text-decoration-color: #00af00\">14</span>, <span style=\"color: #00af00; text-decoration-color: #00af00\">32</span>)          │               <span style=\"color: #00af00; text-decoration-color: #00af00\">0</span> │\n",
              "├──────────────────────────────────────┼─────────────────────────────┼─────────────────┤\n",
              "│ conv2d_9 (<span style=\"color: #0087ff; text-decoration-color: #0087ff\">Conv2D</span>)                    │ (<span style=\"color: #00d7ff; text-decoration-color: #00d7ff\">None</span>, <span style=\"color: #00af00; text-decoration-color: #00af00\">14</span>, <span style=\"color: #00af00; text-decoration-color: #00af00\">14</span>, <span style=\"color: #00af00; text-decoration-color: #00af00\">64</span>)          │          <span style=\"color: #00af00; text-decoration-color: #00af00\">51,264</span> │\n",
              "├──────────────────────────────────────┼─────────────────────────────┼─────────────────┤\n",
              "│ max_pooling2d_9 (<span style=\"color: #0087ff; text-decoration-color: #0087ff\">MaxPooling2D</span>)       │ (<span style=\"color: #00d7ff; text-decoration-color: #00d7ff\">None</span>, <span style=\"color: #00af00; text-decoration-color: #00af00\">7</span>, <span style=\"color: #00af00; text-decoration-color: #00af00\">7</span>, <span style=\"color: #00af00; text-decoration-color: #00af00\">64</span>)            │               <span style=\"color: #00af00; text-decoration-color: #00af00\">0</span> │\n",
              "├──────────────────────────────────────┼─────────────────────────────┼─────────────────┤\n",
              "│ flatten_3 (<span style=\"color: #0087ff; text-decoration-color: #0087ff\">Flatten</span>)                  │ (<span style=\"color: #00d7ff; text-decoration-color: #00d7ff\">None</span>, <span style=\"color: #00af00; text-decoration-color: #00af00\">3136</span>)                │               <span style=\"color: #00af00; text-decoration-color: #00af00\">0</span> │\n",
              "├──────────────────────────────────────┼─────────────────────────────┼─────────────────┤\n",
              "│ dense_9 (<span style=\"color: #0087ff; text-decoration-color: #0087ff\">Dense</span>)                      │ (<span style=\"color: #00d7ff; text-decoration-color: #00d7ff\">None</span>, <span style=\"color: #00af00; text-decoration-color: #00af00\">1024</span>)                │       <span style=\"color: #00af00; text-decoration-color: #00af00\">3,212,288</span> │\n",
              "├──────────────────────────────────────┼─────────────────────────────┼─────────────────┤\n",
              "│ dropout_6 (<span style=\"color: #0087ff; text-decoration-color: #0087ff\">Dropout</span>)                  │ (<span style=\"color: #00d7ff; text-decoration-color: #00d7ff\">None</span>, <span style=\"color: #00af00; text-decoration-color: #00af00\">1024</span>)                │               <span style=\"color: #00af00; text-decoration-color: #00af00\">0</span> │\n",
              "├──────────────────────────────────────┼─────────────────────────────┼─────────────────┤\n",
              "│ dense_10 (<span style=\"color: #0087ff; text-decoration-color: #0087ff\">Dense</span>)                     │ (<span style=\"color: #00d7ff; text-decoration-color: #00d7ff\">None</span>, <span style=\"color: #00af00; text-decoration-color: #00af00\">200</span>)                 │         <span style=\"color: #00af00; text-decoration-color: #00af00\">205,000</span> │\n",
              "├──────────────────────────────────────┼─────────────────────────────┼─────────────────┤\n",
              "│ dropout_7 (<span style=\"color: #0087ff; text-decoration-color: #0087ff\">Dropout</span>)                  │ (<span style=\"color: #00d7ff; text-decoration-color: #00d7ff\">None</span>, <span style=\"color: #00af00; text-decoration-color: #00af00\">200</span>)                 │               <span style=\"color: #00af00; text-decoration-color: #00af00\">0</span> │\n",
              "├──────────────────────────────────────┼─────────────────────────────┼─────────────────┤\n",
              "│ dense_11 (<span style=\"color: #0087ff; text-decoration-color: #0087ff\">Dense</span>)                     │ (<span style=\"color: #00d7ff; text-decoration-color: #00d7ff\">None</span>, <span style=\"color: #00af00; text-decoration-color: #00af00\">10</span>)                  │           <span style=\"color: #00af00; text-decoration-color: #00af00\">2,010</span> │\n",
              "└──────────────────────────────────────┴─────────────────────────────┴─────────────────┘\n",
              "</pre>\n"
            ]
          },
          "metadata": {}
        },
        {
          "output_type": "display_data",
          "data": {
            "text/plain": [
              "\u001b[1m Total params: \u001b[0m\u001b[38;5;34m3,471,394\u001b[0m (13.24 MB)\n"
            ],
            "text/html": [
              "<pre style=\"white-space:pre;overflow-x:auto;line-height:normal;font-family:Menlo,'DejaVu Sans Mono',consolas,'Courier New',monospace\"><span style=\"font-weight: bold\"> Total params: </span><span style=\"color: #00af00; text-decoration-color: #00af00\">3,471,394</span> (13.24 MB)\n",
              "</pre>\n"
            ]
          },
          "metadata": {}
        },
        {
          "output_type": "display_data",
          "data": {
            "text/plain": [
              "\u001b[1m Trainable params: \u001b[0m\u001b[38;5;34m3,471,394\u001b[0m (13.24 MB)\n"
            ],
            "text/html": [
              "<pre style=\"white-space:pre;overflow-x:auto;line-height:normal;font-family:Menlo,'DejaVu Sans Mono',consolas,'Courier New',monospace\"><span style=\"font-weight: bold\"> Trainable params: </span><span style=\"color: #00af00; text-decoration-color: #00af00\">3,471,394</span> (13.24 MB)\n",
              "</pre>\n"
            ]
          },
          "metadata": {}
        },
        {
          "output_type": "display_data",
          "data": {
            "text/plain": [
              "\u001b[1m Non-trainable params: \u001b[0m\u001b[38;5;34m0\u001b[0m (0.00 B)\n"
            ],
            "text/html": [
              "<pre style=\"white-space:pre;overflow-x:auto;line-height:normal;font-family:Menlo,'DejaVu Sans Mono',consolas,'Courier New',monospace\"><span style=\"font-weight: bold\"> Non-trainable params: </span><span style=\"color: #00af00; text-decoration-color: #00af00\">0</span> (0.00 B)\n",
              "</pre>\n"
            ]
          },
          "metadata": {}
        }
      ],
      "source": [
        "model.summary()"
      ]
    },
    {
      "cell_type": "code",
      "execution_count": 49,
      "metadata": {
        "id": "16X9j2RUAeB6"
      },
      "outputs": [],
      "source": [
        "from tensorflow.keras.utils import plot_model"
      ]
    },
    {
      "cell_type": "code",
      "execution_count": 50,
      "metadata": {
        "id": "nDxWJv0dAeB7",
        "colab": {
          "base_uri": "https://localhost:8080/",
          "height": 1000
        },
        "outputId": "195707f7-d227-4142-f4af-a6ae175e7058"
      },
      "outputs": [
        {
          "output_type": "execute_result",
          "data": {
            "image/png": "[encoded data removed]",
            "text/plain": [
              "<IPython.core.display.Image object>"
            ]
          },
          "metadata": {},
          "execution_count": 50
        }
      ],
      "source": [
        "plot_model(model)"
      ]
    },
    {
      "cell_type": "code",
      "execution_count": 51,
      "metadata": {
        "id": "jNsdAqD3AeB7"
      },
      "outputs": [],
      "source": [
        "# Compile model\n",
        "model.compile(loss='categorical_crossentropy', optimizer='adam',\n",
        "              metrics=['accuracy'])"
      ]
    },
    {
      "cell_type": "code",
      "execution_count": 52,
      "metadata": {
        "id": "8FYecI37AeB8",
        "colab": {
          "base_uri": "https://localhost:8080/"
        },
        "outputId": "a1a98bef-b6ea-4ead-d3a4-5b144560e858"
      },
      "outputs": [
        {
          "output_type": "stream",
          "name": "stdout",
          "text": [
            "Epoch 1/10\n",
            "\u001b[1m12/12\u001b[0m \u001b[32m━━━━━━━━━━━━━━━━━━━━\u001b[0m\u001b[37m\u001b[0m \u001b[1m7s\u001b[0m 210ms/step - accuracy: 0.3893 - loss: 1.7351 - val_accuracy: 0.7233 - val_loss: 0.8352\n",
            "Epoch 2/10\n",
            "\u001b[1m12/12\u001b[0m \u001b[32m━━━━━━━━━━━━━━━━━━━━\u001b[0m\u001b[37m\u001b[0m \u001b[1m6s\u001b[0m 145ms/step - accuracy: 0.7065 - loss: 0.8019 - val_accuracy: 0.7706 - val_loss: 0.6064\n",
            "Epoch 3/10\n",
            "\u001b[1m12/12\u001b[0m \u001b[32m━━━━━━━━━━━━━━━━━━━━\u001b[0m\u001b[37m\u001b[0m \u001b[1m2s\u001b[0m 149ms/step - accuracy: 0.7754 - loss: 0.6024 - val_accuracy: 0.8098 - val_loss: 0.5128\n",
            "Epoch 4/10\n",
            "\u001b[1m12/12\u001b[0m \u001b[32m━━━━━━━━━━━━━━━━━━━━\u001b[0m\u001b[37m\u001b[0m \u001b[1m2s\u001b[0m 142ms/step - accuracy: 0.8138 - loss: 0.5144 - val_accuracy: 0.8403 - val_loss: 0.4499\n",
            "Epoch 5/10\n",
            "\u001b[1m12/12\u001b[0m \u001b[32m━━━━━━━━━━━━━━━━━━━━\u001b[0m\u001b[37m\u001b[0m \u001b[1m3s\u001b[0m 147ms/step - accuracy: 0.8382 - loss: 0.4456 - val_accuracy: 0.8511 - val_loss: 0.4120\n",
            "Epoch 6/10\n",
            "\u001b[1m12/12\u001b[0m \u001b[32m━━━━━━━━━━━━━━━━━━━━\u001b[0m\u001b[37m\u001b[0m \u001b[1m2s\u001b[0m 142ms/step - accuracy: 0.8515 - loss: 0.4108 - val_accuracy: 0.8576 - val_loss: 0.3921\n",
            "Epoch 7/10\n",
            "\u001b[1m12/12\u001b[0m \u001b[32m━━━━━━━━━━━━━━━━━━━━\u001b[0m\u001b[37m\u001b[0m \u001b[1m3s\u001b[0m 142ms/step - accuracy: 0.8636 - loss: 0.3840 - val_accuracy: 0.8691 - val_loss: 0.3624\n",
            "Epoch 8/10\n",
            "\u001b[1m12/12\u001b[0m \u001b[32m━━━━━━━━━━━━━━━━━━━━\u001b[0m\u001b[37m\u001b[0m \u001b[1m3s\u001b[0m 148ms/step - accuracy: 0.8752 - loss: 0.3460 - val_accuracy: 0.8751 - val_loss: 0.3478\n",
            "Epoch 9/10\n",
            "\u001b[1m12/12\u001b[0m \u001b[32m━━━━━━━━━━━━━━━━━━━━\u001b[0m\u001b[37m\u001b[0m \u001b[1m2s\u001b[0m 142ms/step - accuracy: 0.8797 - loss: 0.3326 - val_accuracy: 0.8800 - val_loss: 0.3359\n",
            "Epoch 10/10\n",
            "\u001b[1m12/12\u001b[0m \u001b[32m━━━━━━━━━━━━━━━━━━━━\u001b[0m\u001b[37m\u001b[0m \u001b[1m2s\u001b[0m 147ms/step - accuracy: 0.8848 - loss: 0.3165 - val_accuracy: 0.8841 - val_loss: 0.3243\n"
          ]
        },
        {
          "output_type": "execute_result",
          "data": {
            "text/plain": [
              "<keras.src.callbacks.history.History at 0x7ea2e8713350>"
            ]
          },
          "metadata": {},
          "execution_count": 52
        }
      ],
      "source": [
        "model.fit(images_train,labels_train,validation_data=[images_test,labels_test],\n",
        "         epochs=10,batch_size=5000,verbose=1)"
      ]
    },
    {
      "cell_type": "code",
      "execution_count": 53,
      "metadata": {
        "id": "Zn08euK9AeB9"
      },
      "outputs": [],
      "source": [
        "# Saving the model"
      ]
    },
    {
      "source": [
        "# Saving the model\n",
        "from tensorflow.keras.models import model_from_json\n",
        "model_json = model.to_json()\n",
        "\n",
        "with open(\"model.json\", \"w\") as json_file:\n",
        "    json_file.write(model_json)\n",
        "\n",
        "\n",
        "model.save_weights(\"model.weights.h5\")"
      ],
      "cell_type": "code",
      "metadata": {
        "id": "bIBy8mNyeABN"
      },
      "execution_count": 54,
      "outputs": []
    },
    {
      "cell_type": "code",
      "execution_count": 55,
      "metadata": {
        "id": "nLgWsvNPAeCB"
      },
      "outputs": [],
      "source": [
        "# loading the model"
      ]
    },
    {
      "cell_type": "code",
      "execution_count": 56,
      "metadata": {
        "id": "4xUWx8T0AeCB"
      },
      "outputs": [],
      "source": [
        "from tensorflow.keras.models import model_from_json\n",
        "json_file = open('model.json', 'r')\n",
        "loaded_model_json = json_file.read()\n",
        "json_file.close()\n",
        "loaded_model = model_from_json(loaded_model_json)"
      ]
    },
    {
      "cell_type": "code",
      "execution_count": 57,
      "metadata": {
        "id": "LZHAHDBKAeCC",
        "colab": {
          "base_uri": "https://localhost:8080/",
          "height": 527
        },
        "outputId": "506a80cc-91bb-40a4-d729-fbab47f1f9e9"
      },
      "outputs": [
        {
          "output_type": "display_data",
          "data": {
            "text/plain": [
              "\u001b[1mModel: \"functional_25\"\u001b[0m\n"
            ],
            "text/html": [
              "<pre style=\"white-space:pre;overflow-x:auto;line-height:normal;font-family:Menlo,'DejaVu Sans Mono',consolas,'Courier New',monospace\"><span style=\"font-weight: bold\">Model: \"functional_25\"</span>\n",
              "</pre>\n"
            ]
          },
          "metadata": {}
        },
        {
          "output_type": "display_data",
          "data": {
            "text/plain": [
              "┏━━━━━━━━━━━━━━━━━━━━━━━━━━━━━━━━━━━━━━┳━━━━━━━━━━━━━━━━━━━━━━━━━━━━━┳━━━━━━━━━━━━━━━━━┓\n",
              "┃\u001b[1m \u001b[0m\u001b[1mLayer (type)                        \u001b[0m\u001b[1m \u001b[0m┃\u001b[1m \u001b[0m\u001b[1mOutput Shape               \u001b[0m\u001b[1m \u001b[0m┃\u001b[1m \u001b[0m\u001b[1m        Param #\u001b[0m\u001b[1m \u001b[0m┃\n",
              "┡━━━━━━━━━━━━━━━━━━━━━━━━━━━━━━━━━━━━━━╇━━━━━━━━━━━━━━━━━━━━━━━━━━━━━╇━━━━━━━━━━━━━━━━━┩\n",
              "│ input_layer_3 (\u001b[38;5;33mInputLayer\u001b[0m)           │ (\u001b[38;5;45mNone\u001b[0m, \u001b[38;5;34m28\u001b[0m, \u001b[38;5;34m28\u001b[0m, \u001b[38;5;34m1\u001b[0m)           │               \u001b[38;5;34m0\u001b[0m │\n",
              "├──────────────────────────────────────┼─────────────────────────────┼─────────────────┤\n",
              "│ conv2d_8 (\u001b[38;5;33mConv2D\u001b[0m)                    │ (\u001b[38;5;45mNone\u001b[0m, \u001b[38;5;34m28\u001b[0m, \u001b[38;5;34m28\u001b[0m, \u001b[38;5;34m32\u001b[0m)          │             \u001b[38;5;34m832\u001b[0m │\n",
              "├──────────────────────────────────────┼─────────────────────────────┼─────────────────┤\n",
              "│ max_pooling2d_8 (\u001b[38;5;33mMaxPooling2D\u001b[0m)       │ (\u001b[38;5;45mNone\u001b[0m, \u001b[38;5;34m14\u001b[0m, \u001b[38;5;34m14\u001b[0m, \u001b[38;5;34m32\u001b[0m)          │               \u001b[38;5;34m0\u001b[0m │\n",
              "├──────────────────────────────────────┼─────────────────────────────┼─────────────────┤\n",
              "│ conv2d_9 (\u001b[38;5;33mConv2D\u001b[0m)                    │ (\u001b[38;5;45mNone\u001b[0m, \u001b[38;5;34m14\u001b[0m, \u001b[38;5;34m14\u001b[0m, \u001b[38;5;34m64\u001b[0m)          │          \u001b[38;5;34m51,264\u001b[0m │\n",
              "├──────────────────────────────────────┼─────────────────────────────┼─────────────────┤\n",
              "│ max_pooling2d_9 (\u001b[38;5;33mMaxPooling2D\u001b[0m)       │ (\u001b[38;5;45mNone\u001b[0m, \u001b[38;5;34m7\u001b[0m, \u001b[38;5;34m7\u001b[0m, \u001b[38;5;34m64\u001b[0m)            │               \u001b[38;5;34m0\u001b[0m │\n",
              "├──────────────────────────────────────┼─────────────────────────────┼─────────────────┤\n",
              "│ flatten_3 (\u001b[38;5;33mFlatten\u001b[0m)                  │ (\u001b[38;5;45mNone\u001b[0m, \u001b[38;5;34m3136\u001b[0m)                │               \u001b[38;5;34m0\u001b[0m │\n",
              "├──────────────────────────────────────┼─────────────────────────────┼─────────────────┤\n",
              "│ dense_9 (\u001b[38;5;33mDense\u001b[0m)                      │ (\u001b[38;5;45mNone\u001b[0m, \u001b[38;5;34m1024\u001b[0m)                │       \u001b[38;5;34m3,212,288\u001b[0m │\n",
              "├──────────────────────────────────────┼─────────────────────────────┼─────────────────┤\n",
              "│ dropout_6 (\u001b[38;5;33mDropout\u001b[0m)                  │ (\u001b[38;5;45mNone\u001b[0m, \u001b[38;5;34m1024\u001b[0m)                │               \u001b[38;5;34m0\u001b[0m │\n",
              "├──────────────────────────────────────┼─────────────────────────────┼─────────────────┤\n",
              "│ dense_10 (\u001b[38;5;33mDense\u001b[0m)                     │ (\u001b[38;5;45mNone\u001b[0m, \u001b[38;5;34m200\u001b[0m)                 │         \u001b[38;5;34m205,000\u001b[0m │\n",
              "├──────────────────────────────────────┼─────────────────────────────┼─────────────────┤\n",
              "│ dropout_7 (\u001b[38;5;33mDropout\u001b[0m)                  │ (\u001b[38;5;45mNone\u001b[0m, \u001b[38;5;34m200\u001b[0m)                 │               \u001b[38;5;34m0\u001b[0m │\n",
              "├──────────────────────────────────────┼─────────────────────────────┼─────────────────┤\n",
              "│ dense_11 (\u001b[38;5;33mDense\u001b[0m)                     │ (\u001b[38;5;45mNone\u001b[0m, \u001b[38;5;34m10\u001b[0m)                  │           \u001b[38;5;34m2,010\u001b[0m │\n",
              "└──────────────────────────────────────┴─────────────────────────────┴─────────────────┘\n"
            ],
            "text/html": [
              "<pre style=\"white-space:pre;overflow-x:auto;line-height:normal;font-family:Menlo,'DejaVu Sans Mono',consolas,'Courier New',monospace\">┏━━━━━━━━━━━━━━━━━━━━━━━━━━━━━━━━━━━━━━┳━━━━━━━━━━━━━━━━━━━━━━━━━━━━━┳━━━━━━━━━━━━━━━━━┓\n",
              "┃<span style=\"font-weight: bold\"> Layer (type)                         </span>┃<span style=\"font-weight: bold\"> Output Shape                </span>┃<span style=\"font-weight: bold\">         Param # </span>┃\n",
              "┡━━━━━━━━━━━━━━━━━━━━━━━━━━━━━━━━━━━━━━╇━━━━━━━━━━━━━━━━━━━━━━━━━━━━━╇━━━━━━━━━━━━━━━━━┩\n",
              "│ input_layer_3 (<span style=\"color: #0087ff; text-decoration-color: #0087ff\">InputLayer</span>)           │ (<span style=\"color: #00d7ff; text-decoration-color: #00d7ff\">None</span>, <span style=\"color: #00af00; text-decoration-color: #00af00\">28</span>, <span style=\"color: #00af00; text-decoration-color: #00af00\">28</span>, <span style=\"color: #00af00; text-decoration-color: #00af00\">1</span>)           │               <span style=\"color: #00af00; text-decoration-color: #00af00\">0</span> │\n",
              "├──────────────────────────────────────┼─────────────────────────────┼─────────────────┤\n",
              "│ conv2d_8 (<span style=\"color: #0087ff; text-decoration-color: #0087ff\">Conv2D</span>)                    │ (<span style=\"color: #00d7ff; text-decoration-color: #00d7ff\">None</span>, <span style=\"color: #00af00; text-decoration-color: #00af00\">28</span>, <span style=\"color: #00af00; text-decoration-color: #00af00\">28</span>, <span style=\"color: #00af00; text-decoration-color: #00af00\">32</span>)          │             <span style=\"color: #00af00; text-decoration-color: #00af00\">832</span> │\n",
              "├──────────────────────────────────────┼─────────────────────────────┼─────────────────┤\n",
              "│ max_pooling2d_8 (<span style=\"color: #0087ff; text-decoration-color: #0087ff\">MaxPooling2D</span>)       │ (<span style=\"color: #00d7ff; text-decoration-color: #00d7ff\">None</span>, <span style=\"color: #00af00; text-decoration-color: #00af00\">14</span>, <span style=\"color: #00af00; text-decoration-color: #00af00\">14</span>, <span style=\"color: #00af00; text-decoration-color: #00af00\">32</span>)          │               <span style=\"color: #00af00; text-decoration-color: #00af00\">0</span> │\n",
              "├──────────────────────────────────────┼─────────────────────────────┼─────────────────┤\n",
              "│ conv2d_9 (<span style=\"color: #0087ff; text-decoration-color: #0087ff\">Conv2D</span>)                    │ (<span style=\"color: #00d7ff; text-decoration-color: #00d7ff\">None</span>, <span style=\"color: #00af00; text-decoration-color: #00af00\">14</span>, <span style=\"color: #00af00; text-decoration-color: #00af00\">14</span>, <span style=\"color: #00af00; text-decoration-color: #00af00\">64</span>)          │          <span style=\"color: #00af00; text-decoration-color: #00af00\">51,264</span> │\n",
              "├──────────────────────────────────────┼─────────────────────────────┼─────────────────┤\n",
              "│ max_pooling2d_9 (<span style=\"color: #0087ff; text-decoration-color: #0087ff\">MaxPooling2D</span>)       │ (<span style=\"color: #00d7ff; text-decoration-color: #00d7ff\">None</span>, <span style=\"color: #00af00; text-decoration-color: #00af00\">7</span>, <span style=\"color: #00af00; text-decoration-color: #00af00\">7</span>, <span style=\"color: #00af00; text-decoration-color: #00af00\">64</span>)            │               <span style=\"color: #00af00; text-decoration-color: #00af00\">0</span> │\n",
              "├──────────────────────────────────────┼─────────────────────────────┼─────────────────┤\n",
              "│ flatten_3 (<span style=\"color: #0087ff; text-decoration-color: #0087ff\">Flatten</span>)                  │ (<span style=\"color: #00d7ff; text-decoration-color: #00d7ff\">None</span>, <span style=\"color: #00af00; text-decoration-color: #00af00\">3136</span>)                │               <span style=\"color: #00af00; text-decoration-color: #00af00\">0</span> │\n",
              "├──────────────────────────────────────┼─────────────────────────────┼─────────────────┤\n",
              "│ dense_9 (<span style=\"color: #0087ff; text-decoration-color: #0087ff\">Dense</span>)                      │ (<span style=\"color: #00d7ff; text-decoration-color: #00d7ff\">None</span>, <span style=\"color: #00af00; text-decoration-color: #00af00\">1024</span>)                │       <span style=\"color: #00af00; text-decoration-color: #00af00\">3,212,288</span> │\n",
              "├──────────────────────────────────────┼─────────────────────────────┼─────────────────┤\n",
              "│ dropout_6 (<span style=\"color: #0087ff; text-decoration-color: #0087ff\">Dropout</span>)                  │ (<span style=\"color: #00d7ff; text-decoration-color: #00d7ff\">None</span>, <span style=\"color: #00af00; text-decoration-color: #00af00\">1024</span>)                │               <span style=\"color: #00af00; text-decoration-color: #00af00\">0</span> │\n",
              "├──────────────────────────────────────┼─────────────────────────────┼─────────────────┤\n",
              "│ dense_10 (<span style=\"color: #0087ff; text-decoration-color: #0087ff\">Dense</span>)                     │ (<span style=\"color: #00d7ff; text-decoration-color: #00d7ff\">None</span>, <span style=\"color: #00af00; text-decoration-color: #00af00\">200</span>)                 │         <span style=\"color: #00af00; text-decoration-color: #00af00\">205,000</span> │\n",
              "├──────────────────────────────────────┼─────────────────────────────┼─────────────────┤\n",
              "│ dropout_7 (<span style=\"color: #0087ff; text-decoration-color: #0087ff\">Dropout</span>)                  │ (<span style=\"color: #00d7ff; text-decoration-color: #00d7ff\">None</span>, <span style=\"color: #00af00; text-decoration-color: #00af00\">200</span>)                 │               <span style=\"color: #00af00; text-decoration-color: #00af00\">0</span> │\n",
              "├──────────────────────────────────────┼─────────────────────────────┼─────────────────┤\n",
              "│ dense_11 (<span style=\"color: #0087ff; text-decoration-color: #0087ff\">Dense</span>)                     │ (<span style=\"color: #00d7ff; text-decoration-color: #00d7ff\">None</span>, <span style=\"color: #00af00; text-decoration-color: #00af00\">10</span>)                  │           <span style=\"color: #00af00; text-decoration-color: #00af00\">2,010</span> │\n",
              "└──────────────────────────────────────┴─────────────────────────────┴─────────────────┘\n",
              "</pre>\n"
            ]
          },
          "metadata": {}
        },
        {
          "output_type": "display_data",
          "data": {
            "text/plain": [
              "\u001b[1m Total params: \u001b[0m\u001b[38;5;34m10,414,184\u001b[0m (39.73 MB)\n"
            ],
            "text/html": [
              "<pre style=\"white-space:pre;overflow-x:auto;line-height:normal;font-family:Menlo,'DejaVu Sans Mono',consolas,'Courier New',monospace\"><span style=\"font-weight: bold\"> Total params: </span><span style=\"color: #00af00; text-decoration-color: #00af00\">10,414,184</span> (39.73 MB)\n",
              "</pre>\n"
            ]
          },
          "metadata": {}
        },
        {
          "output_type": "display_data",
          "data": {
            "text/plain": [
              "\u001b[1m Trainable params: \u001b[0m\u001b[38;5;34m3,471,394\u001b[0m (13.24 MB)\n"
            ],
            "text/html": [
              "<pre style=\"white-space:pre;overflow-x:auto;line-height:normal;font-family:Menlo,'DejaVu Sans Mono',consolas,'Courier New',monospace\"><span style=\"font-weight: bold\"> Trainable params: </span><span style=\"color: #00af00; text-decoration-color: #00af00\">3,471,394</span> (13.24 MB)\n",
              "</pre>\n"
            ]
          },
          "metadata": {}
        },
        {
          "output_type": "display_data",
          "data": {
            "text/plain": [
              "\u001b[1m Non-trainable params: \u001b[0m\u001b[38;5;34m0\u001b[0m (0.00 B)\n"
            ],
            "text/html": [
              "<pre style=\"white-space:pre;overflow-x:auto;line-height:normal;font-family:Menlo,'DejaVu Sans Mono',consolas,'Courier New',monospace\"><span style=\"font-weight: bold\"> Non-trainable params: </span><span style=\"color: #00af00; text-decoration-color: #00af00\">0</span> (0.00 B)\n",
              "</pre>\n"
            ]
          },
          "metadata": {}
        },
        {
          "output_type": "display_data",
          "data": {
            "text/plain": [
              "\u001b[1m Optimizer params: \u001b[0m\u001b[38;5;34m6,942,790\u001b[0m (26.48 MB)\n"
            ],
            "text/html": [
              "<pre style=\"white-space:pre;overflow-x:auto;line-height:normal;font-family:Menlo,'DejaVu Sans Mono',consolas,'Courier New',monospace\"><span style=\"font-weight: bold\"> Optimizer params: </span><span style=\"color: #00af00; text-decoration-color: #00af00\">6,942,790</span> (26.48 MB)\n",
              "</pre>\n"
            ]
          },
          "metadata": {}
        }
      ],
      "source": [
        "loaded_model.summary()"
      ]
    },
    {
      "source": [
        "loaded_model.load_weights(\"model.weights.h5\")"
      ],
      "cell_type": "code",
      "metadata": {
        "id": "jSAjJE2LeRBN"
      },
      "execution_count": 59,
      "outputs": []
    },
    {
      "cell_type": "code",
      "execution_count": 60,
      "metadata": {
        "id": "edFuPwyxAeCD"
      },
      "outputs": [],
      "source": [
        "# make prediction"
      ]
    },
    {
      "cell_type": "code",
      "execution_count": 61,
      "metadata": {
        "id": "jXVVzQX9AeCE",
        "colab": {
          "base_uri": "https://localhost:8080/"
        },
        "outputId": "504e9804-af9f-464d-a840-ccdd98941c05"
      },
      "outputs": [
        {
          "output_type": "stream",
          "name": "stdout",
          "text": [
            "\u001b[1m313/313\u001b[0m \u001b[32m━━━━━━━━━━━━━━━━━━━━\u001b[0m\u001b[37m\u001b[0m \u001b[1m2s\u001b[0m 3ms/step\n"
          ]
        }
      ],
      "source": [
        "p=loaded_model.predict(images_test)"
      ]
    },
    {
      "cell_type": "code",
      "execution_count": 62,
      "metadata": {
        "id": "OdB2VegSAeCF"
      },
      "outputs": [],
      "source": [
        "labels_test_predicted=np.argmax(p,1)"
      ]
    },
    {
      "cell_type": "code",
      "execution_count": 63,
      "metadata": {
        "id": "6HFrdBYwAeCF",
        "colab": {
          "base_uri": "https://localhost:8080/",
          "height": 354
        },
        "outputId": "c5642d86-f907-4e85-eff8-dd46790b8e5e"
      },
      "outputs": [
        {
          "output_type": "execute_result",
          "data": {
            "text/plain": [
              "col_0    0    1    2    3    4    5    6    7    8    9\n",
              "row_0                                                  \n",
              "0      888    1   26   16    3    2   58    0    6    0\n",
              "1        3  970    1   17    4    1    2    0    2    0\n",
              "2       16    2  830    8   97    1   43    0    3    0\n",
              "3       32    6   14  878   38    0   29    0    3    0\n",
              "4        2    1   81   28  845    0   42    0    1    0\n",
              "5        0    0    0    0    0  976    0   15    0    9\n",
              "6      183    3   99   20  100    0  583    0   12    0\n",
              "7        0    0    0    0    0   25    0  932    0   43\n",
              "8        5    1    8    2    4    3    1    5  971    0\n",
              "9        0    0    0    0    0    4    1   27    0  968"
            ],
            "text/html": [
              "\n",
              "  <div id=\"df-2970976a-a84c-4742-a3ed-a184834203e8\" class=\"colab-df-container\">\n",
              "    <div>\n",
              "<style scoped>\n",
              "    .dataframe tbody tr th:only-of-type {\n",
              "        vertical-align: middle;\n",
              "    }\n",
              "\n",
              "    .dataframe tbody tr th {\n",
              "        vertical-align: top;\n",
              "    }\n",
              "\n",
              "    .dataframe thead th {\n",
              "        text-align: right;\n",
              "    }\n",
              "</style>\n",
              "<table border=\"1\" class=\"dataframe\">\n",
              "  <thead>\n",
              "    <tr style=\"text-align: right;\">\n",
              "      <th>col_0</th>\n",
              "      <th>0</th>\n",
              "      <th>1</th>\n",
              "      <th>2</th>\n",
              "      <th>3</th>\n",
              "      <th>4</th>\n",
              "      <th>5</th>\n",
              "      <th>6</th>\n",
              "      <th>7</th>\n",
              "      <th>8</th>\n",
              "      <th>9</th>\n",
              "    </tr>\n",
              "    <tr>\n",
              "      <th>row_0</th>\n",
              "      <th></th>\n",
              "      <th></th>\n",
              "      <th></th>\n",
              "      <th></th>\n",
              "      <th></th>\n",
              "      <th></th>\n",
              "      <th></th>\n",
              "      <th></th>\n",
              "      <th></th>\n",
              "      <th></th>\n",
              "    </tr>\n",
              "  </thead>\n",
              "  <tbody>\n",
              "    <tr>\n",
              "      <th>0</th>\n",
              "      <td>888</td>\n",
              "      <td>1</td>\n",
              "      <td>26</td>\n",
              "      <td>16</td>\n",
              "      <td>3</td>\n",
              "      <td>2</td>\n",
              "      <td>58</td>\n",
              "      <td>0</td>\n",
              "      <td>6</td>\n",
              "      <td>0</td>\n",
              "    </tr>\n",
              "    <tr>\n",
              "      <th>1</th>\n",
              "      <td>3</td>\n",
              "      <td>970</td>\n",
              "      <td>1</td>\n",
              "      <td>17</td>\n",
              "      <td>4</td>\n",
              "      <td>1</td>\n",
              "      <td>2</td>\n",
              "      <td>0</td>\n",
              "      <td>2</td>\n",
              "      <td>0</td>\n",
              "    </tr>\n",
              "    <tr>\n",
              "      <th>2</th>\n",
              "      <td>16</td>\n",
              "      <td>2</td>\n",
              "      <td>830</td>\n",
              "      <td>8</td>\n",
              "      <td>97</td>\n",
              "      <td>1</td>\n",
              "      <td>43</td>\n",
              "      <td>0</td>\n",
              "      <td>3</td>\n",
              "      <td>0</td>\n",
              "    </tr>\n",
              "    <tr>\n",
              "      <th>3</th>\n",
              "      <td>32</td>\n",
              "      <td>6</td>\n",
              "      <td>14</td>\n",
              "      <td>878</td>\n",
              "      <td>38</td>\n",
              "      <td>0</td>\n",
              "      <td>29</td>\n",
              "      <td>0</td>\n",
              "      <td>3</td>\n",
              "      <td>0</td>\n",
              "    </tr>\n",
              "    <tr>\n",
              "      <th>4</th>\n",
              "      <td>2</td>\n",
              "      <td>1</td>\n",
              "      <td>81</td>\n",
              "      <td>28</td>\n",
              "      <td>845</td>\n",
              "      <td>0</td>\n",
              "      <td>42</td>\n",
              "      <td>0</td>\n",
              "      <td>1</td>\n",
              "      <td>0</td>\n",
              "    </tr>\n",
              "    <tr>\n",
              "      <th>5</th>\n",
              "      <td>0</td>\n",
              "      <td>0</td>\n",
              "      <td>0</td>\n",
              "      <td>0</td>\n",
              "      <td>0</td>\n",
              "      <td>976</td>\n",
              "      <td>0</td>\n",
              "      <td>15</td>\n",
              "      <td>0</td>\n",
              "      <td>9</td>\n",
              "    </tr>\n",
              "    <tr>\n",
              "      <th>6</th>\n",
              "      <td>183</td>\n",
              "      <td>3</td>\n",
              "      <td>99</td>\n",
              "      <td>20</td>\n",
              "      <td>100</td>\n",
              "      <td>0</td>\n",
              "      <td>583</td>\n",
              "      <td>0</td>\n",
              "      <td>12</td>\n",
              "      <td>0</td>\n",
              "    </tr>\n",
              "    <tr>\n",
              "      <th>7</th>\n",
              "      <td>0</td>\n",
              "      <td>0</td>\n",
              "      <td>0</td>\n",
              "      <td>0</td>\n",
              "      <td>0</td>\n",
              "      <td>25</td>\n",
              "      <td>0</td>\n",
              "      <td>932</td>\n",
              "      <td>0</td>\n",
              "      <td>43</td>\n",
              "    </tr>\n",
              "    <tr>\n",
              "      <th>8</th>\n",
              "      <td>5</td>\n",
              "      <td>1</td>\n",
              "      <td>8</td>\n",
              "      <td>2</td>\n",
              "      <td>4</td>\n",
              "      <td>3</td>\n",
              "      <td>1</td>\n",
              "      <td>5</td>\n",
              "      <td>971</td>\n",
              "      <td>0</td>\n",
              "    </tr>\n",
              "    <tr>\n",
              "      <th>9</th>\n",
              "      <td>0</td>\n",
              "      <td>0</td>\n",
              "      <td>0</td>\n",
              "      <td>0</td>\n",
              "      <td>0</td>\n",
              "      <td>4</td>\n",
              "      <td>1</td>\n",
              "      <td>27</td>\n",
              "      <td>0</td>\n",
              "      <td>968</td>\n",
              "    </tr>\n",
              "  </tbody>\n",
              "</table>\n",
              "</div>\n",
              "    <div class=\"colab-df-buttons\">\n",
              "\n",
              "  <div class=\"colab-df-container\">\n",
              "    <button class=\"colab-df-convert\" onclick=\"convertToInteractive('df-2970976a-a84c-4742-a3ed-a184834203e8')\"\n",
              "            title=\"Convert this dataframe to an interactive table.\"\n",
              "            style=\"display:none;\">\n",
              "\n",
              "  <svg xmlns=\"http://www.w3.org/2000/svg\" height=\"24px\" viewBox=\"0 -960 960 960\">\n",
              "    <path d=\"M120-120v-720h720v720H120Zm60-500h600v-160H180v160Zm220 220h160v-160H400v160Zm0 220h160v-160H400v160ZM180-400h160v-160H180v160Zm440 0h160v-160H620v160ZM180-180h160v-160H180v160Zm440 0h160v-160H620v160Z\"/>\n",
              "  </svg>\n",
              "    </button>\n",
              "\n",
              "  <style>\n",
              "    .colab-df-container {\n",
              "      display:flex;\n",
              "      gap: 12px;\n",
              "    }\n",
              "\n",
              "    .colab-df-convert {\n",
              "      background-color: #E8F0FE;\n",
              "      border: none;\n",
              "      border-radius: 50%;\n",
              "      cursor: pointer;\n",
              "      display: none;\n",
              "      fill: #1967D2;\n",
              "      height: 32px;\n",
              "      padding: 0 0 0 0;\n",
              "      width: 32px;\n",
              "    }\n",
              "\n",
              "    .colab-df-convert:hover {\n",
              "      background-color: #E2EBFA;\n",
              "      box-shadow: 0px 1px 2px rgba(60, 64, 67, 0.3), 0px 1px 3px 1px rgba(60, 64, 67, 0.15);\n",
              "      fill: #174EA6;\n",
              "    }\n",
              "\n",
              "    .colab-df-buttons div {\n",
              "      margin-bottom: 4px;\n",
              "    }\n",
              "\n",
              "    [theme=dark] .colab-df-convert {\n",
              "      background-color: #3B4455;\n",
              "      fill: #D2E3FC;\n",
              "    }\n",
              "\n",
              "    [theme=dark] .colab-df-convert:hover {\n",
              "      background-color: #434B5C;\n",
              "      box-shadow: 0px 1px 3px 1px rgba(0, 0, 0, 0.15);\n",
              "      filter: drop-shadow(0px 1px 2px rgba(0, 0, 0, 0.3));\n",
              "      fill: #FFFFFF;\n",
              "    }\n",
              "  </style>\n",
              "\n",
              "    <script>\n",
              "      const buttonEl =\n",
              "        document.querySelector('#df-2970976a-a84c-4742-a3ed-a184834203e8 button.colab-df-convert');\n",
              "      buttonEl.style.display =\n",
              "        google.colab.kernel.accessAllowed ? 'block' : 'none';\n",
              "\n",
              "      async function convertToInteractive(key) {\n",
              "        const element = document.querySelector('#df-2970976a-a84c-4742-a3ed-a184834203e8');\n",
              "        const dataTable =\n",
              "          await google.colab.kernel.invokeFunction('convertToInteractive',\n",
              "                                                    [key], {});\n",
              "        if (!dataTable) return;\n",
              "\n",
              "        const docLinkHtml = 'Like what you see? Visit the ' +\n",
              "          '<a target=\"_blank\" href=https://colab.research.google.com/notebooks/data_table.ipynb>data table notebook</a>'\n",
              "          + ' to learn more about interactive tables.';\n",
              "        element.innerHTML = '';\n",
              "        dataTable['output_type'] = 'display_data';\n",
              "        await google.colab.output.renderOutput(dataTable, element);\n",
              "        const docLink = document.createElement('div');\n",
              "        docLink.innerHTML = docLinkHtml;\n",
              "        element.appendChild(docLink);\n",
              "      }\n",
              "    </script>\n",
              "  </div>\n",
              "\n",
              "\n",
              "<div id=\"df-54ea488d-a13b-441d-ace9-45bac468c075\">\n",
              "  <button class=\"colab-df-quickchart\" onclick=\"quickchart('df-54ea488d-a13b-441d-ace9-45bac468c075')\"\n",
              "            title=\"Suggest charts\"\n",
              "            style=\"display:none;\">\n",
              "\n",
              "<svg xmlns=\"http://www.w3.org/2000/svg\" height=\"24px\"viewBox=\"0 0 24 24\"\n",
              "     width=\"24px\">\n",
              "    <g>\n",
              "        <path d=\"M19 3H5c-1.1 0-2 .9-2 2v14c0 1.1.9 2 2 2h14c1.1 0 2-.9 2-2V5c0-1.1-.9-2-2-2zM9 17H7v-7h2v7zm4 0h-2V7h2v10zm4 0h-2v-4h2v4z\"/>\n",
              "    </g>\n",
              "</svg>\n",
              "  </button>\n",
              "\n",
              "<style>\n",
              "  .colab-df-quickchart {\n",
              "      --bg-color: #E8F0FE;\n",
              "      --fill-color: #1967D2;\n",
              "      --hover-bg-color: #E2EBFA;\n",
              "      --hover-fill-color: #174EA6;\n",
              "      --disabled-fill-color: #AAA;\n",
              "      --disabled-bg-color: #DDD;\n",
              "  }\n",
              "\n",
              "  [theme=dark] .colab-df-quickchart {\n",
              "      --bg-color: #3B4455;\n",
              "      --fill-color: #D2E3FC;\n",
              "      --hover-bg-color: #434B5C;\n",
              "      --hover-fill-color: #FFFFFF;\n",
              "      --disabled-bg-color: #3B4455;\n",
              "      --disabled-fill-color: #666;\n",
              "  }\n",
              "\n",
              "  .colab-df-quickchart {\n",
              "    background-color: var(--bg-color);\n",
              "    border: none;\n",
              "    border-radius: 50%;\n",
              "    cursor: pointer;\n",
              "    display: none;\n",
              "    fill: var(--fill-color);\n",
              "    height: 32px;\n",
              "    padding: 0;\n",
              "    width: 32px;\n",
              "  }\n",
              "\n",
              "  .colab-df-quickchart:hover {\n",
              "    background-color: var(--hover-bg-color);\n",
              "    box-shadow: 0 1px 2px rgba(60, 64, 67, 0.3), 0 1px 3px 1px rgba(60, 64, 67, 0.15);\n",
              "    fill: var(--button-hover-fill-color);\n",
              "  }\n",
              "\n",
              "  .colab-df-quickchart-complete:disabled,\n",
              "  .colab-df-quickchart-complete:disabled:hover {\n",
              "    background-color: var(--disabled-bg-color);\n",
              "    fill: var(--disabled-fill-color);\n",
              "    box-shadow: none;\n",
              "  }\n",
              "\n",
              "  .colab-df-spinner {\n",
              "    border: 2px solid var(--fill-color);\n",
              "    border-color: transparent;\n",
              "    border-bottom-color: var(--fill-color);\n",
              "    animation:\n",
              "      spin 1s steps(1) infinite;\n",
              "  }\n",
              "\n",
              "  @keyframes spin {\n",
              "    0% {\n",
              "      border-color: transparent;\n",
              "      border-bottom-color: var(--fill-color);\n",
              "      border-left-color: var(--fill-color);\n",
              "    }\n",
              "    20% {\n",
              "      border-color: transparent;\n",
              "      border-left-color: var(--fill-color);\n",
              "      border-top-color: var(--fill-color);\n",
              "    }\n",
              "    30% {\n",
              "      border-color: transparent;\n",
              "      border-left-color: var(--fill-color);\n",
              "      border-top-color: var(--fill-color);\n",
              "      border-right-color: var(--fill-color);\n",
              "    }\n",
              "    40% {\n",
              "      border-color: transparent;\n",
              "      border-right-color: var(--fill-color);\n",
              "      border-top-color: var(--fill-color);\n",
              "    }\n",
              "    60% {\n",
              "      border-color: transparent;\n",
              "      border-right-color: var(--fill-color);\n",
              "    }\n",
              "    80% {\n",
              "      border-color: transparent;\n",
              "      border-right-color: var(--fill-color);\n",
              "      border-bottom-color: var(--fill-color);\n",
              "    }\n",
              "    90% {\n",
              "      border-color: transparent;\n",
              "      border-bottom-color: var(--fill-color);\n",
              "    }\n",
              "  }\n",
              "</style>\n",
              "\n",
              "  <script>\n",
              "    async function quickchart(key) {\n",
              "      const quickchartButtonEl =\n",
              "        document.querySelector('#' + key + ' button');\n",
              "      quickchartButtonEl.disabled = true;  // To prevent multiple clicks.\n",
              "      quickchartButtonEl.classList.add('colab-df-spinner');\n",
              "      try {\n",
              "        const charts = await google.colab.kernel.invokeFunction(\n",
              "            'suggestCharts', [key], {});\n",
              "      } catch (error) {\n",
              "        console.error('Error during call to suggestCharts:', error);\n",
              "      }\n",
              "      quickchartButtonEl.classList.remove('colab-df-spinner');\n",
              "      quickchartButtonEl.classList.add('colab-df-quickchart-complete');\n",
              "    }\n",
              "    (() => {\n",
              "      let quickchartButtonEl =\n",
              "        document.querySelector('#df-54ea488d-a13b-441d-ace9-45bac468c075 button');\n",
              "      quickchartButtonEl.style.display =\n",
              "        google.colab.kernel.accessAllowed ? 'block' : 'none';\n",
              "    })();\n",
              "  </script>\n",
              "</div>\n",
              "\n",
              "    </div>\n",
              "  </div>\n"
            ],
            "application/vnd.google.colaboratory.intrinsic+json": {
              "type": "dataframe",
              "summary": "{\n  \"name\": \"pd\",\n  \"rows\": 10,\n  \"fields\": [\n    {\n      \"column\": \"row_0\",\n      \"properties\": {\n        \"dtype\": \"number\",\n        \"std\": 3,\n        \"min\": 0,\n        \"max\": 9,\n        \"num_unique_values\": 10,\n        \"samples\": [\n          8,\n          1,\n          5\n        ],\n        \"semantic_type\": \"\",\n        \"description\": \"\"\n      }\n    },\n    {\n      \"column\": 0,\n      \"properties\": {\n        \"dtype\": \"number\",\n        \"std\": 278,\n        \"min\": 0,\n        \"max\": 888,\n        \"num_unique_values\": 8,\n        \"samples\": [\n          3,\n          0,\n          888\n        ],\n        \"semantic_type\": \"\",\n        \"description\": \"\"\n      }\n    },\n    {\n      \"column\": 1,\n      \"properties\": {\n        \"dtype\": \"number\",\n        \"std\": 306,\n        \"min\": 0,\n        \"max\": 970,\n        \"num_unique_values\": 6,\n        \"samples\": [\n          1,\n          970,\n          3\n        ],\n        \"semantic_type\": \"\",\n        \"description\": \"\"\n      }\n    },\n    {\n      \"column\": 2,\n      \"properties\": {\n        \"dtype\": \"number\",\n        \"std\": 256,\n        \"min\": 0,\n        \"max\": 830,\n        \"num_unique_values\": 8,\n        \"samples\": [\n          1,\n          0,\n          26\n        ],\n        \"semantic_type\": \"\",\n        \"description\": \"\"\n      }\n    },\n    {\n      \"column\": 3,\n      \"properties\": {\n        \"dtype\": \"number\",\n        \"std\": 274,\n        \"min\": 0,\n        \"max\": 878,\n        \"num_unique_values\": 8,\n        \"samples\": [\n          17,\n          0,\n          16\n        ],\n        \"semantic_type\": \"\",\n        \"description\": \"\"\n      }\n    },\n    {\n      \"column\": 4,\n      \"properties\": {\n        \"dtype\": \"number\",\n        \"std\": 261,\n        \"min\": 0,\n        \"max\": 845,\n        \"num_unique_values\": 7,\n        \"samples\": [\n          3,\n          4,\n          0\n        ],\n        \"semantic_type\": \"\",\n        \"description\": \"\"\n      }\n    },\n    {\n      \"column\": 5,\n      \"properties\": {\n        \"dtype\": \"number\",\n        \"std\": 307,\n        \"min\": 0,\n        \"max\": 976,\n        \"num_unique_values\": 7,\n        \"samples\": [\n          2,\n          1,\n          3\n        ],\n        \"semantic_type\": \"\",\n        \"description\": \"\"\n      }\n    },\n    {\n      \"column\": 6,\n      \"properties\": {\n        \"dtype\": \"number\",\n        \"std\": 179,\n        \"min\": 0,\n        \"max\": 583,\n        \"num_unique_values\": 8,\n        \"samples\": [\n          2,\n          0,\n          58\n        ],\n        \"semantic_type\": \"\",\n        \"description\": \"\"\n      }\n    },\n    {\n      \"column\": 7,\n      \"properties\": {\n        \"dtype\": \"number\",\n        \"std\": 293,\n        \"min\": 0,\n        \"max\": 932,\n        \"num_unique_values\": 5,\n        \"samples\": [\n          15,\n          27,\n          932\n        ],\n        \"semantic_type\": \"\",\n        \"description\": \"\"\n      }\n    },\n    {\n      \"column\": 8,\n      \"properties\": {\n        \"dtype\": \"number\",\n        \"std\": 306,\n        \"min\": 0,\n        \"max\": 971,\n        \"num_unique_values\": 7,\n        \"samples\": [\n          6,\n          2,\n          12\n        ],\n        \"semantic_type\": \"\",\n        \"description\": \"\"\n      }\n    },\n    {\n      \"column\": 9,\n      \"properties\": {\n        \"dtype\": \"number\",\n        \"std\": 304,\n        \"min\": 0,\n        \"max\": 968,\n        \"num_unique_values\": 4,\n        \"samples\": [\n          9,\n          968,\n          0\n        ],\n        \"semantic_type\": \"\",\n        \"description\": \"\"\n      }\n    }\n  ]\n}"
            }
          },
          "metadata": {},
          "execution_count": 63
        }
      ],
      "source": [
        "# first argument to pd.crosstab goes to rows, second to columns\n",
        "# row_0 : real labels\n",
        "# col_0 : predicted labels\n",
        "pd.crosstab(np.argmax(labels_test,axis=1),labels_test_predicted)"
      ]
    },
    {
      "cell_type": "code",
      "execution_count": 64,
      "metadata": {
        "id": "KE70J6e4AeCG"
      },
      "outputs": [],
      "source": [
        "y_true=np.argmax(labels_test,axis=1)"
      ]
    },
    {
      "cell_type": "code",
      "execution_count": 65,
      "metadata": {
        "id": "UpwKU-NuAeCG",
        "colab": {
          "base_uri": "https://localhost:8080/"
        },
        "outputId": "54980ebf-426c-41d9-ba2e-ee88347fa144"
      },
      "outputs": [
        {
          "output_type": "execute_result",
          "data": {
            "text/plain": [
              "array([9, 2, 1, ..., 8, 1, 5])"
            ]
          },
          "metadata": {},
          "execution_count": 65
        }
      ],
      "source": [
        "labels_test_predicted"
      ]
    },
    {
      "cell_type": "code",
      "execution_count": 66,
      "metadata": {
        "id": "c8dugJlQAeCH",
        "colab": {
          "base_uri": "https://localhost:8080/"
        },
        "outputId": "cce6c8a3-bd6a-4494-db7b-014eb4a66e46"
      },
      "outputs": [
        {
          "output_type": "execute_result",
          "data": {
            "text/plain": [
              "np.int64(8841)"
            ]
          },
          "metadata": {},
          "execution_count": 66
        }
      ],
      "source": [
        "(y_true==labels_test_predicted).sum()"
      ]
    },
    {
      "cell_type": "code",
      "execution_count": 67,
      "metadata": {
        "id": "-JEnMFBRCkDS"
      },
      "outputs": [],
      "source": [
        "a=y_true==labels_test_predicted"
      ]
    },
    {
      "cell_type": "code",
      "execution_count": 68,
      "metadata": {
        "id": "uzvyiE1LAeCI"
      },
      "outputs": [],
      "source": [
        "c=[i for i,j in enumerate(a) if not j]"
      ]
    },
    {
      "cell_type": "code",
      "execution_count": 69,
      "metadata": {
        "id": "GMVWbZFQAeCI",
        "colab": {
          "base_uri": "https://localhost:8080/"
        },
        "outputId": "b4a184b4-331f-4bf6-e8a0-6ce133cd53a6"
      },
      "outputs": [
        {
          "output_type": "execute_result",
          "data": {
            "text/plain": [
              "[12,\n",
              " 17,\n",
              " 23,\n",
              " 25,\n",
              " 29,\n",
              " 40,\n",
              " 42,\n",
              " 43,\n",
              " 45,\n",
              " 49,\n",
              " 57,\n",
              " 66,\n",
              " 67,\n",
              " 68,\n",
              " 89,\n",
              " 117,\n",
              " 135,\n",
              " 147,\n",
              " 150,\n",
              " 153,\n",
              " 172,\n",
              " 217,\n",
              " 227,\n",
              " 239,\n",
              " 241,\n",
              " 244,\n",
              " 255,\n",
              " 286,\n",
              " 313,\n",
              " 316,\n",
              " 320,\n",
              " 324,\n",
              " 325,\n",
              " 332,\n",
              " 342,\n",
              " 359,\n",
              " 361,\n",
              " 381,\n",
              " 382,\n",
              " 396,\n",
              " 406,\n",
              " 441,\n",
              " 444,\n",
              " 454,\n",
              " 457,\n",
              " 460,\n",
              " 474,\n",
              " 490,\n",
              " 526,\n",
              " 529,\n",
              " 531,\n",
              " 541,\n",
              " 548,\n",
              " 565,\n",
              " 572,\n",
              " 578,\n",
              " 581,\n",
              " 585,\n",
              " 586,\n",
              " 587,\n",
              " 595,\n",
              " 607,\n",
              " 628,\n",
              " 633,\n",
              " 634,\n",
              " 635,\n",
              " 639,\n",
              " 670,\n",
              " 685,\n",
              " 686,\n",
              " 688,\n",
              " 689,\n",
              " 697,\n",
              " 711,\n",
              " 722,\n",
              " 725,\n",
              " 726,\n",
              " 732,\n",
              " 753,\n",
              " 760,\n",
              " 787,\n",
              " 800,\n",
              " 801,\n",
              " 805,\n",
              " 851,\n",
              " 860,\n",
              " 887,\n",
              " 890,\n",
              " 902,\n",
              " 909,\n",
              " 921,\n",
              " 926,\n",
              " 930,\n",
              " 938,\n",
              " 956,\n",
              " 960,\n",
              " 963,\n",
              " 965,\n",
              " 968,\n",
              " 971,\n",
              " 976,\n",
              " 977,\n",
              " 979,\n",
              " 994,\n",
              " 1000,\n",
              " 1005,\n",
              " 1008,\n",
              " 1025,\n",
              " 1046,\n",
              " 1055,\n",
              " 1056,\n",
              " 1058,\n",
              " 1064,\n",
              " 1101,\n",
              " 1107,\n",
              " 1111,\n",
              " 1129,\n",
              " 1130,\n",
              " 1131,\n",
              " 1139,\n",
              " 1142,\n",
              " 1152,\n",
              " 1160,\n",
              " 1162,\n",
              " 1174,\n",
              " 1188,\n",
              " 1194,\n",
              " 1197,\n",
              " 1210,\n",
              " 1218,\n",
              " 1223,\n",
              " 1231,\n",
              " 1235,\n",
              " 1236,\n",
              " 1253,\n",
              " 1254,\n",
              " 1279,\n",
              " 1280,\n",
              " 1294,\n",
              " 1297,\n",
              " 1300,\n",
              " 1305,\n",
              " 1315,\n",
              " 1326,\n",
              " 1329,\n",
              " 1334,\n",
              " 1335,\n",
              " 1336,\n",
              " 1352,\n",
              " 1356,\n",
              " 1369,\n",
              " 1374,\n",
              " 1396,\n",
              " 1399,\n",
              " 1408,\n",
              " 1425,\n",
              " 1449,\n",
              " 1455,\n",
              " 1458,\n",
              " 1462,\n",
              " 1482,\n",
              " 1487,\n",
              " 1495,\n",
              " 1496,\n",
              " 1502,\n",
              " 1522,\n",
              " 1527,\n",
              " 1533,\n",
              " 1539,\n",
              " 1559,\n",
              " 1586,\n",
              " 1593,\n",
              " 1620,\n",
              " 1624,\n",
              " 1642,\n",
              " 1643,\n",
              " 1645,\n",
              " 1650,\n",
              " 1655,\n",
              " 1665,\n",
              " 1684,\n",
              " 1686,\n",
              " 1701,\n",
              " 1706,\n",
              " 1731,\n",
              " 1732,\n",
              " 1739,\n",
              " 1743,\n",
              " 1744,\n",
              " 1771,\n",
              " 1810,\n",
              " 1814,\n",
              " 1816,\n",
              " 1826,\n",
              " 1841,\n",
              " 1852,\n",
              " 1895,\n",
              " 1905,\n",
              " 1922,\n",
              " 1930,\n",
              " 1943,\n",
              " 1944,\n",
              " 1945,\n",
              " 1953,\n",
              " 1954,\n",
              " 1955,\n",
              " 1957,\n",
              " 1968,\n",
              " 1980,\n",
              " 1988,\n",
              " 1990,\n",
              " 2001,\n",
              " 2006,\n",
              " 2009,\n",
              " 2016,\n",
              " 2020,\n",
              " 2021,\n",
              " 2022,\n",
              " 2037,\n",
              " 2039,\n",
              " 2042,\n",
              " 2064,\n",
              " 2071,\n",
              " 2073,\n",
              " 2078,\n",
              " 2106,\n",
              " 2110,\n",
              " 2138,\n",
              " 2144,\n",
              " 2152,\n",
              " 2162,\n",
              " 2189,\n",
              " 2191,\n",
              " 2195,\n",
              " 2256,\n",
              " 2272,\n",
              " 2278,\n",
              " 2279,\n",
              " 2290,\n",
              " 2298,\n",
              " 2300,\n",
              " 2309,\n",
              " 2311,\n",
              " 2312,\n",
              " 2318,\n",
              " 2319,\n",
              " 2320,\n",
              " 2326,\n",
              " 2332,\n",
              " 2337,\n",
              " 2351,\n",
              " 2352,\n",
              " 2367,\n",
              " 2373,\n",
              " 2396,\n",
              " 2397,\n",
              " 2417,\n",
              " 2425,\n",
              " 2431,\n",
              " 2438,\n",
              " 2457,\n",
              " 2462,\n",
              " 2464,\n",
              " 2469,\n",
              " 2476,\n",
              " 2478,\n",
              " 2487,\n",
              " 2491,\n",
              " 2500,\n",
              " 2503,\n",
              " 2506,\n",
              " 2507,\n",
              " 2509,\n",
              " 2522,\n",
              " 2527,\n",
              " 2529,\n",
              " 2540,\n",
              " 2548,\n",
              " 2551,\n",
              " 2559,\n",
              " 2570,\n",
              " 2571,\n",
              " 2580,\n",
              " 2595,\n",
              " 2599,\n",
              " 2603,\n",
              " 2617,\n",
              " 2628,\n",
              " 2629,\n",
              " 2639,\n",
              " 2652,\n",
              " 2653,\n",
              " 2661,\n",
              " 2670,\n",
              " 2685,\n",
              " 2688,\n",
              " 2689,\n",
              " 2694,\n",
              " 2717,\n",
              " 2721,\n",
              " 2733,\n",
              " 2734,\n",
              " 2741,\n",
              " 2746,\n",
              " 2752,\n",
              " 2757,\n",
              " 2772,\n",
              " 2776,\n",
              " 2798,\n",
              " 2811,\n",
              " 2814,\n",
              " 2817,\n",
              " 2823,\n",
              " 2839,\n",
              " 2840,\n",
              " 2842,\n",
              " 2843,\n",
              " 2856,\n",
              " 2894,\n",
              " 2897,\n",
              " 2898,\n",
              " 2900,\n",
              " 2905,\n",
              " 2909,\n",
              " 2910,\n",
              " 2914,\n",
              " 2918,\n",
              " 2919,\n",
              " 2920,\n",
              " 2926,\n",
              " 2935,\n",
              " 2942,\n",
              " 2948,\n",
              " 2951,\n",
              " 2953,\n",
              " 2956,\n",
              " 2965,\n",
              " 2967,\n",
              " 2985,\n",
              " 2986,\n",
              " 2999,\n",
              " 3004,\n",
              " 3008,\n",
              " 3019,\n",
              " 3020,\n",
              " 3032,\n",
              " 3040,\n",
              " 3045,\n",
              " 3067,\n",
              " 3080,\n",
              " 3081,\n",
              " 3084,\n",
              " 3106,\n",
              " 3109,\n",
              " 3116,\n",
              " 3123,\n",
              " 3132,\n",
              " 3167,\n",
              " 3174,\n",
              " 3176,\n",
              " 3188,\n",
              " 3190,\n",
              " 3191,\n",
              " 3198,\n",
              " 3209,\n",
              " 3232,\n",
              " 3237,\n",
              " 3240,\n",
              " 3252,\n",
              " 3255,\n",
              " 3262,\n",
              " 3265,\n",
              " 3274,\n",
              " 3282,\n",
              " 3294,\n",
              " 3297,\n",
              " 3313,\n",
              " 3322,\n",
              " 3323,\n",
              " 3327,\n",
              " 3334,\n",
              " 3338,\n",
              " 3342,\n",
              " 3360,\n",
              " 3370,\n",
              " 3386,\n",
              " 3392,\n",
              " 3401,\n",
              " 3416,\n",
              " 3429,\n",
              " 3439,\n",
              " 3451,\n",
              " 3453,\n",
              " 3456,\n",
              " 3457,\n",
              " 3466,\n",
              " 3468,\n",
              " 3479,\n",
              " 3481,\n",
              " 3488,\n",
              " 3489,\n",
              " 3496,\n",
              " 3509,\n",
              " 3531,\n",
              " 3532,\n",
              " 3534,\n",
              " 3540,\n",
              " 3553,\n",
              " 3554,\n",
              " 3568,\n",
              " 3585,\n",
              " 3598,\n",
              " 3606,\n",
              " 3609,\n",
              " 3625,\n",
              " 3626,\n",
              " 3647,\n",
              " 3655,\n",
              " 3658,\n",
              " 3663,\n",
              " 3669,\n",
              " 3699,\n",
              " 3700,\n",
              " 3706,\n",
              " 3714,\n",
              " 3720,\n",
              " 3730,\n",
              " 3731,\n",
              " 3733,\n",
              " 3741,\n",
              " 3745,\n",
              " 3765,\n",
              " 3779,\n",
              " 3787,\n",
              " 3800,\n",
              " 3804,\n",
              " 3805,\n",
              " 3808,\n",
              " 3811,\n",
              " 3816,\n",
              " 3829,\n",
              " 3830,\n",
              " 3861,\n",
              " 3864,\n",
              " 3866,\n",
              " 3871,\n",
              " 3876,\n",
              " 3880,\n",
              " 3896,\n",
              " 3906,\n",
              " 3918,\n",
              " 3926,\n",
              " 3937,\n",
              " 3938,\n",
              " 3939,\n",
              " 3940,\n",
              " 3953,\n",
              " 3961,\n",
              " 3974,\n",
              " 3984,\n",
              " 3987,\n",
              " 3988,\n",
              " 4005,\n",
              " 4010,\n",
              " 4012,\n",
              " 4019,\n",
              " 4021,\n",
              " 4025,\n",
              " 4037,\n",
              " 4040,\n",
              " 4041,\n",
              " 4056,\n",
              " 4065,\n",
              " 4067,\n",
              " 4071,\n",
              " 4079,\n",
              " 4084,\n",
              " 4088,\n",
              " 4101,\n",
              " 4106,\n",
              " 4109,\n",
              " 4127,\n",
              " 4140,\n",
              " 4142,\n",
              " 4143,\n",
              " 4148,\n",
              " 4152,\n",
              " 4153,\n",
              " 4159,\n",
              " 4166,\n",
              " 4169,\n",
              " 4192,\n",
              " 4194,\n",
              " 4196,\n",
              " 4224,\n",
              " 4231,\n",
              " 4233,\n",
              " 4250,\n",
              " 4251,\n",
              " 4267,\n",
              " 4271,\n",
              " 4272,\n",
              " 4280,\n",
              " 4299,\n",
              " 4300,\n",
              " 4307,\n",
              " 4329,\n",
              " 4394,\n",
              " 4404,\n",
              " 4405,\n",
              " 4411,\n",
              " 4416,\n",
              " 4420,\n",
              " 4446,\n",
              " 4451,\n",
              " 4469,\n",
              " 4481,\n",
              " 4501,\n",
              " 4506,\n",
              " 4509,\n",
              " 4542,\n",
              " 4585,\n",
              " 4595,\n",
              " 4599,\n",
              " 4608,\n",
              " 4629,\n",
              " 4641,\n",
              " 4646,\n",
              " 4649,\n",
              " 4658,\n",
              " 4659,\n",
              " 4664,\n",
              " 4668,\n",
              " 4672,\n",
              " 4674,\n",
              " 4685,\n",
              " 4692,\n",
              " 4693,\n",
              " 4705,\n",
              " 4727,\n",
              " 4738,\n",
              " 4751,\n",
              " 4769,\n",
              " 4777,\n",
              " 4784,\n",
              " 4803,\n",
              " 4817,\n",
              " 4823,\n",
              " 4828,\n",
              " 4829,\n",
              " 4836,\n",
              " 4842,\n",
              " 4845,\n",
              " 4846,\n",
              " 4850,\n",
              " 4852,\n",
              " 4859,\n",
              " 4880,\n",
              " 4886,\n",
              " 4893,\n",
              " 4896,\n",
              " 4907,\n",
              " 4920,\n",
              " 4922,\n",
              " 4924,\n",
              " 4934,\n",
              " 4956,\n",
              " 4979,\n",
              " 4995,\n",
              " 4998,\n",
              " 5004,\n",
              " 5006,\n",
              " 5015,\n",
              " 5028,\n",
              " 5032,\n",
              " 5036,\n",
              " 5037,\n",
              " 5046,\n",
              " 5052,\n",
              " 5065,\n",
              " 5069,\n",
              " 5070,\n",
              " 5077,\n",
              " 5082,\n",
              " 5088,\n",
              " 5096,\n",
              " 5121,\n",
              " 5123,\n",
              " 5144,\n",
              " 5148,\n",
              " 5155,\n",
              " 5159,\n",
              " 5161,\n",
              " 5167,\n",
              " 5168,\n",
              " 5184,\n",
              " 5186,\n",
              " 5197,\n",
              " 5204,\n",
              " 5210,\n",
              " 5212,\n",
              " 5228,\n",
              " 5248,\n",
              " 5249,\n",
              " 5255,\n",
              " 5266,\n",
              " 5282,\n",
              " 5284,\n",
              " 5295,\n",
              " 5297,\n",
              " 5307,\n",
              " 5316,\n",
              " 5327,\n",
              " 5332,\n",
              " 5334,\n",
              " 5338,\n",
              " 5349,\n",
              " 5381,\n",
              " 5382,\n",
              " 5397,\n",
              " 5424,\n",
              " 5429,\n",
              " 5441,\n",
              " 5442,\n",
              " 5468,\n",
              " 5470,\n",
              " 5471,\n",
              " 5474,\n",
              " 5476,\n",
              " 5488,\n",
              " 5497,\n",
              " 5504,\n",
              " 5510,\n",
              " 5511,\n",
              " 5512,\n",
              " 5520,\n",
              " 5521,\n",
              " 5522,\n",
              " 5525,\n",
              " 5530,\n",
              " 5533,\n",
              " 5546,\n",
              " 5566,\n",
              " 5568,\n",
              " 5569,\n",
              " 5576,\n",
              " 5589,\n",
              " 5592,\n",
              " 5594,\n",
              " 5596,\n",
              " 5597,\n",
              " 5601,\n",
              " 5605,\n",
              " 5623,\n",
              " 5634,\n",
              " 5654,\n",
              " 5655,\n",
              " 5679,\n",
              " 5685,\n",
              " 5695,\n",
              " 5701,\n",
              " 5703,\n",
              " 5707,\n",
              " 5713,\n",
              " 5718,\n",
              " 5721,\n",
              " 5725,\n",
              " 5746,\n",
              " 5752,\n",
              " 5762,\n",
              " 5763,\n",
              " 5791,\n",
              " 5795,\n",
              " 5804,\n",
              " 5806,\n",
              " 5820,\n",
              " 5826,\n",
              " 5840,\n",
              " 5849,\n",
              " 5853,\n",
              " 5881,\n",
              " 5885,\n",
              " 5899,\n",
              " 5918,\n",
              " 5929,\n",
              " 5934,\n",
              " 5938,\n",
              " 5946,\n",
              " 5956,\n",
              " 5966,\n",
              " 5967,\n",
              " 5971,\n",
              " 5977,\n",
              " 5987,\n",
              " 6002,\n",
              " 6008,\n",
              " 6020,\n",
              " 6023,\n",
              " 6024,\n",
              " 6032,\n",
              " 6037,\n",
              " 6061,\n",
              " 6065,\n",
              " 6085,\n",
              " 6094,\n",
              " 6096,\n",
              " 6100,\n",
              " 6103,\n",
              " 6117,\n",
              " 6127,\n",
              " 6129,\n",
              " 6147,\n",
              " 6156,\n",
              " 6159,\n",
              " 6160,\n",
              " 6169,\n",
              " 6175,\n",
              " 6184,\n",
              " 6201,\n",
              " 6207,\n",
              " 6226,\n",
              " 6230,\n",
              " 6231,\n",
              " 6234,\n",
              " 6240,\n",
              " 6241,\n",
              " 6242,\n",
              " 6243,\n",
              " 6248,\n",
              " 6254,\n",
              " 6258,\n",
              " 6270,\n",
              " 6285,\n",
              " 6291,\n",
              " 6297,\n",
              " 6300,\n",
              " 6325,\n",
              " 6331,\n",
              " 6335,\n",
              " 6344,\n",
              " 6365,\n",
              " 6368,\n",
              " 6379,\n",
              " 6384,\n",
              " 6402,\n",
              " 6404,\n",
              " 6407,\n",
              " 6420,\n",
              " 6422,\n",
              " 6433,\n",
              " 6441,\n",
              " 6444,\n",
              " 6452,\n",
              " 6464,\n",
              " 6472,\n",
              " 6474,\n",
              " 6478,\n",
              " 6485,\n",
              " 6500,\n",
              " 6511,\n",
              " 6513,\n",
              " 6531,\n",
              " 6539,\n",
              " 6542,\n",
              " 6558,\n",
              " 6559,\n",
              " 6561,\n",
              " 6564,\n",
              " 6565,\n",
              " 6575,\n",
              " 6584,\n",
              " 6596,\n",
              " 6614,\n",
              " 6626,\n",
              " 6634,\n",
              " 6640,\n",
              " 6655,\n",
              " 6658,\n",
              " 6676,\n",
              " 6679,\n",
              " 6686,\n",
              " 6688,\n",
              " 6689,\n",
              " 6701,\n",
              " 6718,\n",
              " 6720,\n",
              " 6727,\n",
              " 6758,\n",
              " 6770,\n",
              " 6797,\n",
              " 6801,\n",
              " 6809,\n",
              " 6826,\n",
              " 6829,\n",
              " 6844,\n",
              " 6855,\n",
              " 6859,\n",
              " 6861,\n",
              " 6868,\n",
              " 6874,\n",
              " 6899,\n",
              " 6904,\n",
              " 6906,\n",
              " 6908,\n",
              " 6921,\n",
              " 6926,\n",
              " 6927,\n",
              " 6928,\n",
              " 6958,\n",
              " 6964,\n",
              " 6984,\n",
              " 6990,\n",
              " 6996,\n",
              " 6997,\n",
              " 7004,\n",
              " 7007,\n",
              " 7024,\n",
              " 7025,\n",
              " 7026,\n",
              " 7028,\n",
              " 7030,\n",
              " 7040,\n",
              " 7047,\n",
              " 7049,\n",
              " 7068,\n",
              " 7071,\n",
              " 7094,\n",
              " 7095,\n",
              " 7100,\n",
              " 7103,\n",
              " 7109,\n",
              " 7112,\n",
              " 7114,\n",
              " 7125,\n",
              " 7130,\n",
              " 7138,\n",
              " 7167,\n",
              " 7177,\n",
              " 7182,\n",
              " 7188,\n",
              " 7189,\n",
              " 7195,\n",
              " 7196,\n",
              " 7210,\n",
              " 7233,\n",
              " 7244,\n",
              " 7249,\n",
              " 7258,\n",
              " 7262,\n",
              " 7267,\n",
              " 7278,\n",
              " 7288,\n",
              " 7314,\n",
              " 7334,\n",
              " 7336,\n",
              " 7342,\n",
              " 7343,\n",
              " 7345,\n",
              " 7349,\n",
              " 7362,\n",
              " 7369,\n",
              " 7376,\n",
              " 7416,\n",
              " 7442,\n",
              " 7444,\n",
              " 7445,\n",
              " 7446,\n",
              " 7450,\n",
              " 7495,\n",
              " 7497,\n",
              " 7509,\n",
              " 7525,\n",
              " 7527,\n",
              " 7551,\n",
              " 7555,\n",
              " 7581,\n",
              " 7583,\n",
              " 7587,\n",
              " 7591,\n",
              " 7599,\n",
              " 7613,\n",
              " 7627,\n",
              " 7635,\n",
              " 7638,\n",
              " 7646,\n",
              " 7654,\n",
              " 7660,\n",
              " 7664,\n",
              " 7673,\n",
              " 7679,\n",
              " 7683,\n",
              " 7707,\n",
              " 7711,\n",
              " 7719,\n",
              " 7721,\n",
              " 7724,\n",
              " 7755,\n",
              " 7761,\n",
              " 7778,\n",
              " 7800,\n",
              " 7809,\n",
              " 7812,\n",
              " 7823,\n",
              " 7829,\n",
              " 7831,\n",
              " 7842,\n",
              " 7845,\n",
              " 7863,\n",
              " 7868,\n",
              " 7875,\n",
              " 7876,\n",
              " 7879,\n",
              " 7884,\n",
              " 7899,\n",
              " 7906,\n",
              " 7914,\n",
              " 7915,\n",
              " 7924,\n",
              " 7930,\n",
              " 7936,\n",
              " 7948,\n",
              " 7959,\n",
              " 7961,\n",
              " 7971,\n",
              " 7976,\n",
              " 7981,\n",
              " 7992,\n",
              " 8005,\n",
              " 8007,\n",
              " 8009,\n",
              " 8017,\n",
              " 8031,\n",
              " 8039,\n",
              " 8051,\n",
              " 8054,\n",
              " 8059,\n",
              " 8069,\n",
              " 8074,\n",
              " 8085,\n",
              " 8111,\n",
              " 8121,\n",
              " 8140,\n",
              " 8148,\n",
              " 8154,\n",
              " 8156,\n",
              " 8179,\n",
              " 8202,\n",
              " 8204,\n",
              " 8211,\n",
              " 8217,\n",
              " 8237,\n",
              " 8259,\n",
              " 8260,\n",
              " 8269,\n",
              " 8278,\n",
              " 8292,\n",
              " 8293,\n",
              " 8324,\n",
              " 8348,\n",
              " 8373,\n",
              " 8406,\n",
              " 8417,\n",
              " 8425,\n",
              " 8429,\n",
              " 8436,\n",
              " 8454,\n",
              " 8463,\n",
              " 8485,\n",
              " 8505,\n",
              " 8509,\n",
              " 8512,\n",
              " 8518,\n",
              " 8519,\n",
              " 8525,\n",
              " 8532,\n",
              " 8536,\n",
              " 8538,\n",
              " 8556,\n",
              " 8557,\n",
              " 8560,\n",
              " 8567,\n",
              " 8568,\n",
              " 8580,\n",
              " 8591,\n",
              " 8598,\n",
              " 8607,\n",
              " 8610,\n",
              " 8617,\n",
              " 8618,\n",
              " 8621,\n",
              " 8633,\n",
              " 8646,\n",
              " 8649,\n",
              " 8658,\n",
              " 8664,\n",
              " 8669,\n",
              " 8688,\n",
              " 8695,\n",
              " 8705,\n",
              " 8706,\n",
              " ...]"
            ]
          },
          "metadata": {},
          "execution_count": 69
        }
      ],
      "source": [
        "c"
      ]
    },
    {
      "cell_type": "code",
      "execution_count": 70,
      "metadata": {
        "id": "9oaQxKfeAeCJ"
      },
      "outputs": [],
      "source": [
        "import matplotlib.pyplot as plt\n",
        "%matplotlib inline"
      ]
    },
    {
      "cell_type": "code",
      "execution_count": 71,
      "metadata": {
        "id": "eihlm_8-AeCJ",
        "colab": {
          "base_uri": "https://localhost:8080/",
          "height": 465
        },
        "outputId": "ba2c0db4-ed22-4cda-df7c-b704a753c7f0"
      },
      "outputs": [
        {
          "output_type": "display_data",
          "data": {
            "text/plain": [
              "<Figure size 640x480 with 1 Axes>"
            ],
            "image/png": "[encoded data removed]"
          },
          "metadata": {}
        },
        {
          "output_type": "stream",
          "name": "stdout",
          "text": [
            "real label: 4\n",
            "predicted label: 4\n"
          ]
        }
      ],
      "source": [
        "ind=7434\n",
        "sample_image = images_test[ind,:,:,:]\n",
        "# sample_image = np.array(sample_image, dtype='float')\n",
        "pixels = sample_image.reshape((28, 28))\n",
        "plt.imshow(pixels, cmap='gray')\n",
        "plt.show()\n",
        "print('real label:',np.argmax(labels_test[ind]))\n",
        "print('predicted label:',labels_test_predicted[ind])"
      ]
    },
    {
      "cell_type": "code",
      "execution_count": 72,
      "metadata": {
        "id": "uyeDULe7AeCK"
      },
      "outputs": [],
      "source": [
        "# you can make prediction directly but if you want to further train from here\n",
        "# you'll have to compile the loaded model again"
      ]
    },
    {
      "cell_type": "code",
      "execution_count": 73,
      "metadata": {
        "id": "rjrDk2mnAeCL"
      },
      "outputs": [],
      "source": [
        "loaded_model.compile(loss='categorical_crossentropy', optimizer='adam',\n",
        "              metrics=['accuracy'])"
      ]
    },
    {
      "cell_type": "code",
      "execution_count": 74,
      "metadata": {
        "id": "_Y8G49reAeCL",
        "colab": {
          "base_uri": "https://localhost:8080/"
        },
        "outputId": "43689f77-9339-4bec-9b93-869b88871a13"
      },
      "outputs": [
        {
          "output_type": "stream",
          "name": "stdout",
          "text": [
            "Epoch 1/3\n",
            "\u001b[1m1200/1200\u001b[0m \u001b[32m━━━━━━━━━━━━━━━━━━━━\u001b[0m\u001b[37m\u001b[0m \u001b[1m10s\u001b[0m 5ms/step - accuracy: 0.8551 - loss: 0.4042 - val_accuracy: 0.8882 - val_loss: 0.3151\n",
            "Epoch 2/3\n",
            "\u001b[1m1200/1200\u001b[0m \u001b[32m━━━━━━━━━━━━━━━━━━━━\u001b[0m\u001b[37m\u001b[0m \u001b[1m6s\u001b[0m 5ms/step - accuracy: 0.9004 - loss: 0.2729 - val_accuracy: 0.9027 - val_loss: 0.2635\n",
            "Epoch 3/3\n",
            "\u001b[1m1200/1200\u001b[0m \u001b[32m━━━━━━━━━━━━━━━━━━━━\u001b[0m\u001b[37m\u001b[0m \u001b[1m5s\u001b[0m 4ms/step - accuracy: 0.9152 - loss: 0.2274 - val_accuracy: 0.9087 - val_loss: 0.2517\n"
          ]
        },
        {
          "output_type": "execute_result",
          "data": {
            "text/plain": [
              "<keras.src.callbacks.history.History at 0x7ea2f02bf050>"
            ]
          },
          "metadata": {},
          "execution_count": 74
        }
      ],
      "source": [
        "loaded_model.fit(images_train,labels_train,validation_data=[images_test,labels_test],\n",
        "         epochs=3,batch_size=50,verbose=1)"
      ]
    },
    {
      "cell_type": "code",
      "execution_count": null,
      "metadata": {
        "id": "18EqeuN6CyGb"
      },
      "outputs": [],
      "source": []
    }
  ],
  "metadata": {
    "accelerator": "GPU",
    "colab": {
      "provenance": []
    },
    "kernelspec": {
      "display_name": "Python 3",
      "language": "python",
      "name": "python3"
    },
    "language_info": {
      "codemirror_mode": {
        "name": "ipython",
        "version": 3
      },
      "file_extension": ".py",
      "mimetype": "text/x-python",
      "name": "python",
      "nbconvert_exporter": "python",
      "pygments_lexer": "ipython3",
      "version": "3.7.3"
    }
  },
  "nbformat": 4,
  "nbformat_minor": 0
}